{
 "cells": [
  {
   "cell_type": "code",
   "execution_count": 1,
   "id": "5c92db9d",
   "metadata": {},
   "outputs": [],
   "source": [
    "import pandas as pd\n",
    "import numpy as np\n",
    "import matplotlib.pyplot as plt\n",
    "import seaborn as sns\n",
    "from sklearn.metrics import mean_squared_error as MSE\n",
    "import itertools"
   ]
  },
  {
   "cell_type": "code",
   "execution_count": 2,
   "id": "5ff31a2e",
   "metadata": {},
   "outputs": [
    {
     "data": {
      "text/html": [
       "<div>\n",
       "<style scoped>\n",
       "    .dataframe tbody tr th:only-of-type {\n",
       "        vertical-align: middle;\n",
       "    }\n",
       "\n",
       "    .dataframe tbody tr th {\n",
       "        vertical-align: top;\n",
       "    }\n",
       "\n",
       "    .dataframe thead th {\n",
       "        text-align: right;\n",
       "    }\n",
       "</style>\n",
       "<table border=\"1\" class=\"dataframe\">\n",
       "  <thead>\n",
       "    <tr style=\"text-align: right;\">\n",
       "      <th></th>\n",
       "      <th>Unnamed: 0</th>\n",
       "      <th>item_id</th>\n",
       "      <th>receipt_id</th>\n",
       "      <th>device_id</th>\n",
       "      <th>local_date</th>\n",
       "      <th>barcode</th>\n",
       "      <th>price</th>\n",
       "      <th>quantity</th>\n",
       "      <th>region</th>\n",
       "    </tr>\n",
       "  </thead>\n",
       "  <tbody>\n",
       "    <tr>\n",
       "      <th>0</th>\n",
       "      <td>0</td>\n",
       "      <td>11660931229</td>\n",
       "      <td>7364786357</td>\n",
       "      <td>352402250963288</td>\n",
       "      <td>2021-02-02 00:00:01</td>\n",
       "      <td>46200310</td>\n",
       "      <td>133.0</td>\n",
       "      <td>1.0</td>\n",
       "      <td>Нижегородская область</td>\n",
       "    </tr>\n",
       "    <tr>\n",
       "      <th>1</th>\n",
       "      <td>1</td>\n",
       "      <td>11660931230</td>\n",
       "      <td>7364786357</td>\n",
       "      <td>352402250963288</td>\n",
       "      <td>2021-02-02 00:00:01</td>\n",
       "      <td>4601501425437</td>\n",
       "      <td>100.0</td>\n",
       "      <td>1.0</td>\n",
       "      <td>Нижегородская область</td>\n",
       "    </tr>\n",
       "    <tr>\n",
       "      <th>2</th>\n",
       "      <td>2</td>\n",
       "      <td>11660931245</td>\n",
       "      <td>7364786362</td>\n",
       "      <td>352403362581574</td>\n",
       "      <td>2021-02-02 00:00:04</td>\n",
       "      <td>NaN</td>\n",
       "      <td>50.0</td>\n",
       "      <td>1.0</td>\n",
       "      <td>Москва</td>\n",
       "    </tr>\n",
       "    <tr>\n",
       "      <th>3</th>\n",
       "      <td>3</td>\n",
       "      <td>11660931313</td>\n",
       "      <td>7364786391</td>\n",
       "      <td>352399468048288</td>\n",
       "      <td>2021-02-02 01:00:11</td>\n",
       "      <td>NaN</td>\n",
       "      <td>29.0</td>\n",
       "      <td>1.0</td>\n",
       "      <td>Ульяновская область</td>\n",
       "    </tr>\n",
       "    <tr>\n",
       "      <th>4</th>\n",
       "      <td>4</td>\n",
       "      <td>11660931336</td>\n",
       "      <td>7364786406</td>\n",
       "      <td>352401023174844</td>\n",
       "      <td>2021-02-02 00:00:17</td>\n",
       "      <td>NaN</td>\n",
       "      <td>250.0</td>\n",
       "      <td>1.0</td>\n",
       "      <td>Москва</td>\n",
       "    </tr>\n",
       "    <tr>\n",
       "      <th>5</th>\n",
       "      <td>5</td>\n",
       "      <td>11660931337</td>\n",
       "      <td>7364786406</td>\n",
       "      <td>352401023174844</td>\n",
       "      <td>2021-02-02 00:00:17</td>\n",
       "      <td>NaN</td>\n",
       "      <td>50.0</td>\n",
       "      <td>1.0</td>\n",
       "      <td>Москва</td>\n",
       "    </tr>\n",
       "    <tr>\n",
       "      <th>6</th>\n",
       "      <td>6</td>\n",
       "      <td>11660931403</td>\n",
       "      <td>7364786435</td>\n",
       "      <td>352400918986789</td>\n",
       "      <td>2021-02-02 02:00:21</td>\n",
       "      <td>NaN</td>\n",
       "      <td>120.0</td>\n",
       "      <td>1.0</td>\n",
       "      <td>Свердловская область</td>\n",
       "    </tr>\n",
       "    <tr>\n",
       "      <th>7</th>\n",
       "      <td>7</td>\n",
       "      <td>11660931522</td>\n",
       "      <td>7364786509</td>\n",
       "      <td>352400687215221</td>\n",
       "      <td>2021-02-02 00:00:38</td>\n",
       "      <td>NaN</td>\n",
       "      <td>50.0</td>\n",
       "      <td>7.0</td>\n",
       "      <td>Липецкая область</td>\n",
       "    </tr>\n",
       "    <tr>\n",
       "      <th>8</th>\n",
       "      <td>8</td>\n",
       "      <td>11660931602</td>\n",
       "      <td>7364786564</td>\n",
       "      <td>352406518857918</td>\n",
       "      <td>2021-02-02 00:00:48</td>\n",
       "      <td>NaN</td>\n",
       "      <td>125.0</td>\n",
       "      <td>1.0</td>\n",
       "      <td>Республика Коми</td>\n",
       "    </tr>\n",
       "    <tr>\n",
       "      <th>9</th>\n",
       "      <td>9</td>\n",
       "      <td>11660931773</td>\n",
       "      <td>7364786673</td>\n",
       "      <td>352403179996511</td>\n",
       "      <td>2021-02-02 00:01:03</td>\n",
       "      <td>4610017250037</td>\n",
       "      <td>87.0</td>\n",
       "      <td>2.0</td>\n",
       "      <td>Санкт-Петербург</td>\n",
       "    </tr>\n",
       "  </tbody>\n",
       "</table>\n",
       "</div>"
      ],
      "text/plain": [
       "   Unnamed: 0      item_id  receipt_id        device_id           local_date  \\\n",
       "0           0  11660931229  7364786357  352402250963288  2021-02-02 00:00:01   \n",
       "1           1  11660931230  7364786357  352402250963288  2021-02-02 00:00:01   \n",
       "2           2  11660931245  7364786362  352403362581574  2021-02-02 00:00:04   \n",
       "3           3  11660931313  7364786391  352399468048288  2021-02-02 01:00:11   \n",
       "4           4  11660931336  7364786406  352401023174844  2021-02-02 00:00:17   \n",
       "5           5  11660931337  7364786406  352401023174844  2021-02-02 00:00:17   \n",
       "6           6  11660931403  7364786435  352400918986789  2021-02-02 02:00:21   \n",
       "7           7  11660931522  7364786509  352400687215221  2021-02-02 00:00:38   \n",
       "8           8  11660931602  7364786564  352406518857918  2021-02-02 00:00:48   \n",
       "9           9  11660931773  7364786673  352403179996511  2021-02-02 00:01:03   \n",
       "\n",
       "         barcode  price  quantity                 region  \n",
       "0       46200310  133.0       1.0  Нижегородская область  \n",
       "1  4601501425437  100.0       1.0  Нижегородская область  \n",
       "2            NaN   50.0       1.0                 Москва  \n",
       "3            NaN   29.0       1.0    Ульяновская область  \n",
       "4            NaN  250.0       1.0                 Москва  \n",
       "5            NaN   50.0       1.0                 Москва  \n",
       "6            NaN  120.0       1.0   Свердловская область  \n",
       "7            NaN   50.0       7.0       Липецкая область  \n",
       "8            NaN  125.0       1.0        Республика Коми  \n",
       "9  4610017250037   87.0       2.0        Санкт-Петербург  "
      ]
     },
     "execution_count": 2,
     "metadata": {},
     "output_type": "execute_result"
    }
   ],
   "source": [
    "X = pd.read_csv('./dataset.csv')\n",
    "X.head(10)"
   ]
  },
  {
   "cell_type": "markdown",
   "id": "778631ac",
   "metadata": {},
   "source": [
    "<h1> EDA </h1>"
   ]
  },
  {
   "cell_type": "markdown",
   "id": "e7addbd9",
   "metadata": {},
   "source": [
    "<b> Percent of missing values in different categorials </b>"
   ]
  },
  {
   "cell_type": "code",
   "execution_count": 3,
   "id": "42eb7814",
   "metadata": {},
   "outputs": [
    {
     "data": {
      "text/html": [
       "<div>\n",
       "<style scoped>\n",
       "    .dataframe tbody tr th:only-of-type {\n",
       "        vertical-align: middle;\n",
       "    }\n",
       "\n",
       "    .dataframe tbody tr th {\n",
       "        vertical-align: top;\n",
       "    }\n",
       "\n",
       "    .dataframe thead th {\n",
       "        text-align: right;\n",
       "    }\n",
       "</style>\n",
       "<table border=\"1\" class=\"dataframe\">\n",
       "  <thead>\n",
       "    <tr style=\"text-align: right;\">\n",
       "      <th></th>\n",
       "      <th>Unnamed: 0</th>\n",
       "      <th>item_id</th>\n",
       "      <th>receipt_id</th>\n",
       "      <th>device_id</th>\n",
       "      <th>local_date</th>\n",
       "      <th>barcode</th>\n",
       "      <th>price</th>\n",
       "      <th>quantity</th>\n",
       "      <th>region</th>\n",
       "    </tr>\n",
       "  </thead>\n",
       "  <tbody>\n",
       "    <tr>\n",
       "      <th>0</th>\n",
       "      <td>0</td>\n",
       "      <td>11660931229</td>\n",
       "      <td>7364786357</td>\n",
       "      <td>352402250963288</td>\n",
       "      <td>2021-02-02 00:00:01</td>\n",
       "      <td>46200310</td>\n",
       "      <td>133.0</td>\n",
       "      <td>1.0</td>\n",
       "      <td>Нижегородская область</td>\n",
       "    </tr>\n",
       "    <tr>\n",
       "      <th>1</th>\n",
       "      <td>1</td>\n",
       "      <td>11660931230</td>\n",
       "      <td>7364786357</td>\n",
       "      <td>352402250963288</td>\n",
       "      <td>2021-02-02 00:00:01</td>\n",
       "      <td>4601501425437</td>\n",
       "      <td>100.0</td>\n",
       "      <td>1.0</td>\n",
       "      <td>Нижегородская область</td>\n",
       "    </tr>\n",
       "    <tr>\n",
       "      <th>2</th>\n",
       "      <td>2</td>\n",
       "      <td>11660931245</td>\n",
       "      <td>7364786362</td>\n",
       "      <td>352403362581574</td>\n",
       "      <td>2021-02-02 00:00:04</td>\n",
       "      <td>NaN</td>\n",
       "      <td>50.0</td>\n",
       "      <td>1.0</td>\n",
       "      <td>Москва</td>\n",
       "    </tr>\n",
       "  </tbody>\n",
       "</table>\n",
       "</div>"
      ],
      "text/plain": [
       "   Unnamed: 0      item_id  receipt_id        device_id           local_date  \\\n",
       "0           0  11660931229  7364786357  352402250963288  2021-02-02 00:00:01   \n",
       "1           1  11660931230  7364786357  352402250963288  2021-02-02 00:00:01   \n",
       "2           2  11660931245  7364786362  352403362581574  2021-02-02 00:00:04   \n",
       "\n",
       "         barcode  price  quantity                 region  \n",
       "0       46200310  133.0       1.0  Нижегородская область  \n",
       "1  4601501425437  100.0       1.0  Нижегородская область  \n",
       "2            NaN   50.0       1.0                 Москва  "
      ]
     },
     "execution_count": 3,
     "metadata": {},
     "output_type": "execute_result"
    }
   ],
   "source": [
    "X.head(3)"
   ]
  },
  {
   "cell_type": "code",
   "execution_count": 4,
   "id": "80e539b5",
   "metadata": {},
   "outputs": [
    {
     "data": {
      "text/plain": [
       "<AxesSubplot:>"
      ]
     },
     "execution_count": 4,
     "metadata": {},
     "output_type": "execute_result"
    },
    {
     "data": {
      "image/png": "[encoded data removed]",
      "text/plain": [
       "<Figure size 432x288 with 1 Axes>"
      ]
     },
     "metadata": {
      "needs_background": "light"
     },
     "output_type": "display_data"
    }
   ],
   "source": [
    "def drop_data(X):\n",
    "    missing = X.isna().sum()\n",
    "    missing = missing[missing>0]/X.shape[0]*100\n",
    "    missing.sort_values(inplace=True)    \n",
    "        \n",
    "    return missing\n",
    "\n",
    "missing = drop_data(X)\n",
    "missing.plot.bar()"
   ]
  },
  {
   "cell_type": "markdown",
   "id": "13dcdf89",
   "metadata": {},
   "source": [
    "<b> Drop all rows with incorrect quantity values </b>"
   ]
  },
  {
   "cell_type": "code",
   "execution_count": 5,
   "id": "32d3ff81",
   "metadata": {},
   "outputs": [
    {
     "data": {
      "text/html": [
       "<div>\n",
       "<style scoped>\n",
       "    .dataframe tbody tr th:only-of-type {\n",
       "        vertical-align: middle;\n",
       "    }\n",
       "\n",
       "    .dataframe tbody tr th {\n",
       "        vertical-align: top;\n",
       "    }\n",
       "\n",
       "    .dataframe thead th {\n",
       "        text-align: right;\n",
       "    }\n",
       "</style>\n",
       "<table border=\"1\" class=\"dataframe\">\n",
       "  <thead>\n",
       "    <tr style=\"text-align: right;\">\n",
       "      <th></th>\n",
       "      <th>Unnamed: 0</th>\n",
       "      <th>item_id</th>\n",
       "      <th>receipt_id</th>\n",
       "      <th>device_id</th>\n",
       "      <th>local_date</th>\n",
       "      <th>barcode</th>\n",
       "      <th>price</th>\n",
       "      <th>quantity</th>\n",
       "      <th>region</th>\n",
       "    </tr>\n",
       "  </thead>\n",
       "  <tbody>\n",
       "    <tr>\n",
       "      <th>46</th>\n",
       "      <td>46</td>\n",
       "      <td>11660932533</td>\n",
       "      <td>7364787139</td>\n",
       "      <td>352400866634268</td>\n",
       "      <td>2021-02-02 00:02:42</td>\n",
       "      <td>NaN</td>\n",
       "      <td>1600.0</td>\n",
       "      <td>0.150</td>\n",
       "      <td>Краснодарский край</td>\n",
       "    </tr>\n",
       "    <tr>\n",
       "      <th>47</th>\n",
       "      <td>47</td>\n",
       "      <td>11660932534</td>\n",
       "      <td>7364787139</td>\n",
       "      <td>352400866634268</td>\n",
       "      <td>2021-02-02 00:02:42</td>\n",
       "      <td>NaN</td>\n",
       "      <td>650.0</td>\n",
       "      <td>0.108</td>\n",
       "      <td>Краснодарский край</td>\n",
       "    </tr>\n",
       "    <tr>\n",
       "      <th>53</th>\n",
       "      <td>53</td>\n",
       "      <td>11660933011</td>\n",
       "      <td>7364787387</td>\n",
       "      <td>352400866634268</td>\n",
       "      <td>2021-02-02 00:03:33</td>\n",
       "      <td>NaN</td>\n",
       "      <td>290.0</td>\n",
       "      <td>0.104</td>\n",
       "      <td>Краснодарский край</td>\n",
       "    </tr>\n",
       "    <tr>\n",
       "      <th>54</th>\n",
       "      <td>54</td>\n",
       "      <td>11660933038</td>\n",
       "      <td>7364787410</td>\n",
       "      <td>352402132536876</td>\n",
       "      <td>2021-02-02 05:03:40</td>\n",
       "      <td>NaN</td>\n",
       "      <td>175.0</td>\n",
       "      <td>0.390</td>\n",
       "      <td>Иркутская область</td>\n",
       "    </tr>\n",
       "    <tr>\n",
       "      <th>61</th>\n",
       "      <td>61</td>\n",
       "      <td>11660933542</td>\n",
       "      <td>7364787741</td>\n",
       "      <td>352400866634268</td>\n",
       "      <td>2021-02-02 00:04:33</td>\n",
       "      <td>NaN</td>\n",
       "      <td>310.0</td>\n",
       "      <td>0.274</td>\n",
       "      <td>Краснодарский край</td>\n",
       "    </tr>\n",
       "  </tbody>\n",
       "</table>\n",
       "</div>"
      ],
      "text/plain": [
       "    Unnamed: 0      item_id  receipt_id        device_id           local_date  \\\n",
       "46          46  11660932533  7364787139  352400866634268  2021-02-02 00:02:42   \n",
       "47          47  11660932534  7364787139  352400866634268  2021-02-02 00:02:42   \n",
       "53          53  11660933011  7364787387  352400866634268  2021-02-02 00:03:33   \n",
       "54          54  11660933038  7364787410  352402132536876  2021-02-02 05:03:40   \n",
       "61          61  11660933542  7364787741  352400866634268  2021-02-02 00:04:33   \n",
       "\n",
       "   barcode   price  quantity              region  \n",
       "46     NaN  1600.0     0.150  Краснодарский край  \n",
       "47     NaN   650.0     0.108  Краснодарский край  \n",
       "53     NaN   290.0     0.104  Краснодарский край  \n",
       "54     NaN   175.0     0.390   Иркутская область  \n",
       "61     NaN   310.0     0.274  Краснодарский край  "
      ]
     },
     "execution_count": 5,
     "metadata": {},
     "output_type": "execute_result"
    }
   ],
   "source": [
    "X[ (X['quantity'] <= 0) | (X['quantity'] % 1 != 0) ].head(5) "
   ]
  },
  {
   "cell_type": "code",
   "execution_count": 6,
   "id": "b397ece3",
   "metadata": {},
   "outputs": [],
   "source": [
    "#Drop the rows where the region is missing\n",
    "r_drop = X['region'].isna() #rows to drop\n",
    "X.drop( r_drop.index[r_drop], axis=0, inplace=True )\n",
    "\n",
    "#Drop rows with incorrect quantity\n",
    "NonInt = (X['quantity'] <= 0) | (X['quantity'] % 1 != 0) #is non integer \"quantity\"\n",
    "X.drop( NonInt.index[NonInt], axis=0, inplace=True  )\n",
    "\n",
    "X['local_date'] = pd.to_datetime(X['local_date']) #Transform to datetime format"
   ]
  },
  {
   "cell_type": "markdown",
   "id": "b9e115e0",
   "metadata": {},
   "source": [
    "Sort by date and reset index"
   ]
  },
  {
   "cell_type": "code",
   "execution_count": 7,
   "id": "9ff55b10",
   "metadata": {},
   "outputs": [
    {
     "data": {
      "text/html": [
       "<div>\n",
       "<style scoped>\n",
       "    .dataframe tbody tr th:only-of-type {\n",
       "        vertical-align: middle;\n",
       "    }\n",
       "\n",
       "    .dataframe tbody tr th {\n",
       "        vertical-align: top;\n",
       "    }\n",
       "\n",
       "    .dataframe thead th {\n",
       "        text-align: right;\n",
       "    }\n",
       "</style>\n",
       "<table border=\"1\" class=\"dataframe\">\n",
       "  <thead>\n",
       "    <tr style=\"text-align: right;\">\n",
       "      <th></th>\n",
       "      <th>item_id</th>\n",
       "      <th>receipt_id</th>\n",
       "      <th>device_id</th>\n",
       "      <th>local_date</th>\n",
       "      <th>barcode</th>\n",
       "      <th>price</th>\n",
       "      <th>quantity</th>\n",
       "      <th>region</th>\n",
       "    </tr>\n",
       "  </thead>\n",
       "  <tbody>\n",
       "    <tr>\n",
       "      <th>0</th>\n",
       "      <td>11651314851</td>\n",
       "      <td>7359194219</td>\n",
       "      <td>352400319648496</td>\n",
       "      <td>2018-07-09 09:15:47</td>\n",
       "      <td>NaN</td>\n",
       "      <td>67.500000</td>\n",
       "      <td>1.0</td>\n",
       "      <td>Алтайский край</td>\n",
       "    </tr>\n",
       "    <tr>\n",
       "      <th>1</th>\n",
       "      <td>11651315784</td>\n",
       "      <td>7359194748</td>\n",
       "      <td>352400319648496</td>\n",
       "      <td>2018-07-09 09:16:52</td>\n",
       "      <td>NaN</td>\n",
       "      <td>151.000000</td>\n",
       "      <td>1.0</td>\n",
       "      <td>Алтайский край</td>\n",
       "    </tr>\n",
       "    <tr>\n",
       "      <th>2</th>\n",
       "      <td>11651316440</td>\n",
       "      <td>7359195116</td>\n",
       "      <td>352400319648496</td>\n",
       "      <td>2018-07-09 09:19:53</td>\n",
       "      <td>NaN</td>\n",
       "      <td>144.000000</td>\n",
       "      <td>1.0</td>\n",
       "      <td>Алтайский край</td>\n",
       "    </tr>\n",
       "    <tr>\n",
       "      <th>3</th>\n",
       "      <td>11651317525</td>\n",
       "      <td>7359195760</td>\n",
       "      <td>352400319648496</td>\n",
       "      <td>2018-07-09 09:22:33</td>\n",
       "      <td>NaN</td>\n",
       "      <td>49.700001</td>\n",
       "      <td>1.0</td>\n",
       "      <td>Алтайский край</td>\n",
       "    </tr>\n",
       "  </tbody>\n",
       "</table>\n",
       "</div>"
      ],
      "text/plain": [
       "       item_id  receipt_id        device_id          local_date barcode  \\\n",
       "0  11651314851  7359194219  352400319648496 2018-07-09 09:15:47     NaN   \n",
       "1  11651315784  7359194748  352400319648496 2018-07-09 09:16:52     NaN   \n",
       "2  11651316440  7359195116  352400319648496 2018-07-09 09:19:53     NaN   \n",
       "3  11651317525  7359195760  352400319648496 2018-07-09 09:22:33     NaN   \n",
       "\n",
       "        price  quantity          region  \n",
       "0   67.500000       1.0  Алтайский край  \n",
       "1  151.000000       1.0  Алтайский край  \n",
       "2  144.000000       1.0  Алтайский край  \n",
       "3   49.700001       1.0  Алтайский край  "
      ]
     },
     "execution_count": 7,
     "metadata": {},
     "output_type": "execute_result"
    }
   ],
   "source": [
    "X.sort_values(by=['local_date'],inplace=True)\n",
    "X.drop('Unnamed: 0',axis=1,inplace=True)\n",
    "X.reset_index(drop=True,inplace=True)\n",
    "X.head(4)"
   ]
  },
  {
   "cell_type": "markdown",
   "id": "2be9f6c7",
   "metadata": {},
   "source": [
    "<b> Search information in some variables <b>     \n",
    "\n",
    "item_id, receipt_id, device_id, barcode, price"
   ]
  },
  {
   "cell_type": "code",
   "execution_count": 8,
   "id": "737d38f2",
   "metadata": {},
   "outputs": [
    {
     "name": "stdout",
     "output_type": "stream",
     "text": [
      "part of unique item_id: 1.00\n",
      "part of unique receipt_id: 0.60\n",
      "part of unique device_id: 0.01\n"
     ]
    }
   ],
   "source": [
    "print( 'part of unique item_id: {:.2f}'.format(X['item_id'].value_counts().shape[0]/X['item_id'].shape[0])    )\n",
    "print( 'part of unique receipt_id: {:.2f}'.format(X['receipt_id'].value_counts().shape[0]/X['item_id'].shape[0]) )\n",
    "print( 'part of unique device_id: {:.2f}'.format(X['device_id'].value_counts().shape[0]/X['item_id'].shape[0]) )"
   ]
  },
  {
   "cell_type": "code",
   "execution_count": 9,
   "id": "9a64da57",
   "metadata": {},
   "outputs": [
    {
     "name": "stdout",
     "output_type": "stream",
     "text": [
      "part of unique barcode: 0.15\n"
     ]
    }
   ],
   "source": [
    "tmp = X.loc[~X['barcode'].isna()]['barcode']\n",
    "print( 'part of unique barcode: {:.2f}'.format(tmp.value_counts().shape[0]/tmp.shape[0]) )"
   ]
  },
  {
   "cell_type": "markdown",
   "id": "cf9c3d76",
   "metadata": {},
   "source": [
    "In my opinion only device_id can have predictive power."
   ]
  },
  {
   "cell_type": "markdown",
   "id": "68aabb65",
   "metadata": {},
   "source": [
    "<b> Let's consider statistical characteristics of some features </b>"
   ]
  },
  {
   "cell_type": "code",
   "execution_count": 10,
   "id": "a98a14dd",
   "metadata": {},
   "outputs": [
    {
     "data": {
      "text/plain": [
       "<AxesSubplot:ylabel='Count'>"
      ]
     },
     "execution_count": 10,
     "metadata": {},
     "output_type": "execute_result"
    },
    {
     "data": {
      "image/png": "[encoded data removed]",
      "text/plain": [
       "<Figure size 720x216 with 3 Axes>"
      ]
     },
     "metadata": {
      "needs_background": "light"
     },
     "output_type": "display_data"
    }
   ],
   "source": [
    "fig, axes = plt.subplots(nrows=1,ncols=3,figsize=(10,3))\n",
    "sns.histplot(X[ X['price'] < 3000 ]['price'],ax=axes[0], bins=30)\n",
    "sns.histplot(X[ X['quantity'] < 10 ]['quantity'],ax=axes[1])\n",
    "sns.histplot(X['price']/X['quantity'],ax=axes[2],bins=30)"
   ]
  },
  {
   "cell_type": "markdown",
   "id": "94ff0b1f",
   "metadata": {},
   "source": [
    "Looks like the price value is randomly generated and can't be using for prediction"
   ]
  },
  {
   "cell_type": "code",
   "execution_count": 11,
   "id": "ee5ae858",
   "metadata": {},
   "outputs": [
    {
     "name": "stdout",
     "output_type": "stream",
     "text": [
      "403.3802482289022\n",
      "12113.702301850037\n"
     ]
    }
   ],
   "source": [
    "print( (X['price']/X['quantity']).mean() )\n",
    "print( (X['price']/X['quantity']).std()  )"
   ]
  },
  {
   "cell_type": "code",
   "execution_count": 12,
   "id": "2965f0cd",
   "metadata": {},
   "outputs": [
    {
     "name": "stdout",
     "output_type": "stream",
     "text": [
      "2.3750407548375425\n",
      "146.2167702849724\n"
     ]
    }
   ],
   "source": [
    "print( X['quantity'].mean() )\n",
    "print( X['quantity'].std()  )"
   ]
  },
  {
   "cell_type": "markdown",
   "id": "1cedef37",
   "metadata": {},
   "source": [
    "<h3> Sum datetime. Encode datetame as separate columns. Add week_day </h3>"
   ]
  },
  {
   "cell_type": "code",
   "execution_count": 13,
   "id": "a6056cd4",
   "metadata": {},
   "outputs": [
    {
     "data": {
      "text/html": [
       "<div>\n",
       "<style scoped>\n",
       "    .dataframe tbody tr th:only-of-type {\n",
       "        vertical-align: middle;\n",
       "    }\n",
       "\n",
       "    .dataframe tbody tr th {\n",
       "        vertical-align: top;\n",
       "    }\n",
       "\n",
       "    .dataframe thead th {\n",
       "        text-align: right;\n",
       "    }\n",
       "</style>\n",
       "<table border=\"1\" class=\"dataframe\">\n",
       "  <thead>\n",
       "    <tr style=\"text-align: right;\">\n",
       "      <th></th>\n",
       "      <th>quantity</th>\n",
       "      <th>local_date</th>\n",
       "    </tr>\n",
       "  </thead>\n",
       "  <tbody>\n",
       "    <tr>\n",
       "      <th>0</th>\n",
       "      <td>3.0</td>\n",
       "      <td>2020-08-03 09:00:00</td>\n",
       "    </tr>\n",
       "    <tr>\n",
       "      <th>1</th>\n",
       "      <td>1.0</td>\n",
       "      <td>2020-08-03 10:00:00</td>\n",
       "    </tr>\n",
       "    <tr>\n",
       "      <th>2</th>\n",
       "      <td>1.0</td>\n",
       "      <td>2020-08-03 11:00:00</td>\n",
       "    </tr>\n",
       "    <tr>\n",
       "      <th>3</th>\n",
       "      <td>3.0</td>\n",
       "      <td>2020-08-03 12:00:00</td>\n",
       "    </tr>\n",
       "    <tr>\n",
       "      <th>4</th>\n",
       "      <td>0.0</td>\n",
       "      <td>2020-08-03 13:00:00</td>\n",
       "    </tr>\n",
       "    <tr>\n",
       "      <th>...</th>\n",
       "      <td>...</td>\n",
       "      <td>...</td>\n",
       "    </tr>\n",
       "    <tr>\n",
       "      <th>4498</th>\n",
       "      <td>367.0</td>\n",
       "      <td>2021-02-06 19:00:00</td>\n",
       "    </tr>\n",
       "    <tr>\n",
       "      <th>4499</th>\n",
       "      <td>332.0</td>\n",
       "      <td>2021-02-06 20:00:00</td>\n",
       "    </tr>\n",
       "    <tr>\n",
       "      <th>4500</th>\n",
       "      <td>233.0</td>\n",
       "      <td>2021-02-06 21:00:00</td>\n",
       "    </tr>\n",
       "    <tr>\n",
       "      <th>4501</th>\n",
       "      <td>114.0</td>\n",
       "      <td>2021-02-06 22:00:00</td>\n",
       "    </tr>\n",
       "    <tr>\n",
       "      <th>4502</th>\n",
       "      <td>91.0</td>\n",
       "      <td>2021-02-06 23:00:00</td>\n",
       "    </tr>\n",
       "  </tbody>\n",
       "</table>\n",
       "<p>4503 rows × 2 columns</p>\n",
       "</div>"
      ],
      "text/plain": [
       "      quantity          local_date\n",
       "0          3.0 2020-08-03 09:00:00\n",
       "1          1.0 2020-08-03 10:00:00\n",
       "2          1.0 2020-08-03 11:00:00\n",
       "3          3.0 2020-08-03 12:00:00\n",
       "4          0.0 2020-08-03 13:00:00\n",
       "...        ...                 ...\n",
       "4498     367.0 2021-02-06 19:00:00\n",
       "4499     332.0 2021-02-06 20:00:00\n",
       "4500     233.0 2021-02-06 21:00:00\n",
       "4501     114.0 2021-02-06 22:00:00\n",
       "4502      91.0 2021-02-06 23:00:00\n",
       "\n",
       "[4503 rows x 2 columns]"
      ]
     },
     "execution_count": 13,
     "metadata": {},
     "output_type": "execute_result"
    }
   ],
   "source": [
    "Xt = X[ X['region'] == 'Нижегородская область'][['local_date','quantity']]\n",
    "Xt.reset_index(drop=True,inplace=True)\n",
    "Xt = Xt.groupby( pd.Grouper(key='local_date', freq='H') ).sum()\n",
    "Xt['local_date'] = Xt.index\n",
    "Xt.reset_index(drop=True,inplace=True)\n",
    "Xt"
   ]
  },
  {
   "cell_type": "markdown",
   "id": "0fcb980d",
   "metadata": {},
   "source": [
    "<b> Divide into separate columns </b>"
   ]
  },
  {
   "cell_type": "code",
   "execution_count": 14,
   "id": "3f7dbd98",
   "metadata": {},
   "outputs": [],
   "source": [
    "DF =    {'year'    :[0]*Xt.shape[0],\n",
    "         'month'   :[0]*Xt.shape[0],\n",
    "         'day'     :[0]*Xt.shape[0],         \n",
    "         'hour'    :[0]*Xt.shape[0],\n",
    "         'week_day':[0]*Xt.shape[0],\n",
    "         'quantity':[0]*Xt.shape[0]}\n",
    "for i in range(0,Xt.shape[0]):\n",
    "    date = Xt['local_date'].iloc[i]\n",
    "    DF['year'][i]     = np.int16(date.year)\n",
    "    DF['month'][i]    = np.int8(date.month)\n",
    "    DF['day'][i]      = np.int8(date.day)    \n",
    "    DF['hour'][i]     = np.int8(date.hour)\n",
    "    DF['week_day'][i] = np.int8(date.weekday())\n",
    "    DF['quantity'][i] = Xt['quantity'].iloc[i]"
   ]
  },
  {
   "cell_type": "markdown",
   "id": "0edc323d",
   "metadata": {},
   "source": [
    "Check: are datetime correct? In general it's correct "
   ]
  },
  {
   "cell_type": "code",
   "execution_count": 15,
   "id": "e7ca3285",
   "metadata": {},
   "outputs": [],
   "source": [
    "X2 = pd.DataFrame(DF)"
   ]
  },
  {
   "cell_type": "code",
   "execution_count": 16,
   "id": "e1adceca",
   "metadata": {},
   "outputs": [
    {
     "data": {
      "text/html": [
       "<div>\n",
       "<style scoped>\n",
       "    .dataframe tbody tr th:only-of-type {\n",
       "        vertical-align: middle;\n",
       "    }\n",
       "\n",
       "    .dataframe tbody tr th {\n",
       "        vertical-align: top;\n",
       "    }\n",
       "\n",
       "    .dataframe thead th {\n",
       "        text-align: right;\n",
       "    }\n",
       "</style>\n",
       "<table border=\"1\" class=\"dataframe\">\n",
       "  <thead>\n",
       "    <tr style=\"text-align: right;\">\n",
       "      <th></th>\n",
       "      <th>year</th>\n",
       "      <th>month</th>\n",
       "      <th>day</th>\n",
       "      <th>hour</th>\n",
       "      <th>week_day</th>\n",
       "      <th>quantity</th>\n",
       "    </tr>\n",
       "  </thead>\n",
       "  <tbody>\n",
       "    <tr>\n",
       "      <th>0</th>\n",
       "      <td>2020</td>\n",
       "      <td>8</td>\n",
       "      <td>3</td>\n",
       "      <td>9</td>\n",
       "      <td>0</td>\n",
       "      <td>3.0</td>\n",
       "    </tr>\n",
       "    <tr>\n",
       "      <th>1</th>\n",
       "      <td>2020</td>\n",
       "      <td>8</td>\n",
       "      <td>3</td>\n",
       "      <td>10</td>\n",
       "      <td>0</td>\n",
       "      <td>1.0</td>\n",
       "    </tr>\n",
       "    <tr>\n",
       "      <th>2</th>\n",
       "      <td>2020</td>\n",
       "      <td>8</td>\n",
       "      <td>3</td>\n",
       "      <td>11</td>\n",
       "      <td>0</td>\n",
       "      <td>1.0</td>\n",
       "    </tr>\n",
       "    <tr>\n",
       "      <th>3</th>\n",
       "      <td>2020</td>\n",
       "      <td>8</td>\n",
       "      <td>3</td>\n",
       "      <td>12</td>\n",
       "      <td>0</td>\n",
       "      <td>3.0</td>\n",
       "    </tr>\n",
       "    <tr>\n",
       "      <th>4</th>\n",
       "      <td>2020</td>\n",
       "      <td>8</td>\n",
       "      <td>3</td>\n",
       "      <td>13</td>\n",
       "      <td>0</td>\n",
       "      <td>0.0</td>\n",
       "    </tr>\n",
       "    <tr>\n",
       "      <th>...</th>\n",
       "      <td>...</td>\n",
       "      <td>...</td>\n",
       "      <td>...</td>\n",
       "      <td>...</td>\n",
       "      <td>...</td>\n",
       "      <td>...</td>\n",
       "    </tr>\n",
       "    <tr>\n",
       "      <th>4498</th>\n",
       "      <td>2021</td>\n",
       "      <td>2</td>\n",
       "      <td>6</td>\n",
       "      <td>19</td>\n",
       "      <td>5</td>\n",
       "      <td>367.0</td>\n",
       "    </tr>\n",
       "    <tr>\n",
       "      <th>4499</th>\n",
       "      <td>2021</td>\n",
       "      <td>2</td>\n",
       "      <td>6</td>\n",
       "      <td>20</td>\n",
       "      <td>5</td>\n",
       "      <td>332.0</td>\n",
       "    </tr>\n",
       "    <tr>\n",
       "      <th>4500</th>\n",
       "      <td>2021</td>\n",
       "      <td>2</td>\n",
       "      <td>6</td>\n",
       "      <td>21</td>\n",
       "      <td>5</td>\n",
       "      <td>233.0</td>\n",
       "    </tr>\n",
       "    <tr>\n",
       "      <th>4501</th>\n",
       "      <td>2021</td>\n",
       "      <td>2</td>\n",
       "      <td>6</td>\n",
       "      <td>22</td>\n",
       "      <td>5</td>\n",
       "      <td>114.0</td>\n",
       "    </tr>\n",
       "    <tr>\n",
       "      <th>4502</th>\n",
       "      <td>2021</td>\n",
       "      <td>2</td>\n",
       "      <td>6</td>\n",
       "      <td>23</td>\n",
       "      <td>5</td>\n",
       "      <td>91.0</td>\n",
       "    </tr>\n",
       "  </tbody>\n",
       "</table>\n",
       "<p>4503 rows × 6 columns</p>\n",
       "</div>"
      ],
      "text/plain": [
       "      year  month  day  hour  week_day  quantity\n",
       "0     2020      8    3     9         0       3.0\n",
       "1     2020      8    3    10         0       1.0\n",
       "2     2020      8    3    11         0       1.0\n",
       "3     2020      8    3    12         0       3.0\n",
       "4     2020      8    3    13         0       0.0\n",
       "...    ...    ...  ...   ...       ...       ...\n",
       "4498  2021      2    6    19         5     367.0\n",
       "4499  2021      2    6    20         5     332.0\n",
       "4500  2021      2    6    21         5     233.0\n",
       "4501  2021      2    6    22         5     114.0\n",
       "4502  2021      2    6    23         5      91.0\n",
       "\n",
       "[4503 rows x 6 columns]"
      ]
     },
     "execution_count": 16,
     "metadata": {},
     "output_type": "execute_result"
    }
   ],
   "source": [
    "X2"
   ]
  },
  {
   "cell_type": "markdown",
   "id": "04e6d1e6",
   "metadata": {},
   "source": [
    "<h2> Prepair dataset for prediction </h2>"
   ]
  },
  {
   "cell_type": "markdown",
   "id": "ef277258",
   "metadata": {},
   "source": [
    "Let's sum quantity of bottles for every hour"
   ]
  },
  {
   "cell_type": "code",
   "execution_count": 17,
   "id": "98e47c7e",
   "metadata": {},
   "outputs": [
    {
     "data": {
      "text/plain": [
       "<matplotlib.collections.PathCollection at 0x20900fda688>"
      ]
     },
     "execution_count": 17,
     "metadata": {},
     "output_type": "execute_result"
    },
    {
     "data": {
      "image/png": "[encoded data removed]",
      "text/plain": [
       "<Figure size 1296x360 with 1 Axes>"
      ]
     },
     "metadata": {
      "needs_background": "light"
     },
     "output_type": "display_data"
    }
   ],
   "source": [
    "indx = (pd.to_datetime( X2.iloc[:,:-2] ) >= '2021-1-30').sum()\n",
    "plt.figure(figsize=(18,5))\n",
    "plt.scatter(pd.to_datetime( X2.iloc[-indx:,:-2] ),X2.iloc[-indx:]['quantity'])"
   ]
  },
  {
   "cell_type": "markdown",
   "id": "baa288b3",
   "metadata": {},
   "source": [
    "As we can see, datetime dependences manifests itself after February 1st. In addition we can see an outlier."
   ]
  },
  {
   "cell_type": "code",
   "execution_count": 18,
   "id": "fb6be3de",
   "metadata": {},
   "outputs": [
    {
     "data": {
      "text/html": [
       "<div>\n",
       "<style scoped>\n",
       "    .dataframe tbody tr th:only-of-type {\n",
       "        vertical-align: middle;\n",
       "    }\n",
       "\n",
       "    .dataframe tbody tr th {\n",
       "        vertical-align: top;\n",
       "    }\n",
       "\n",
       "    .dataframe thead th {\n",
       "        text-align: right;\n",
       "    }\n",
       "</style>\n",
       "<table border=\"1\" class=\"dataframe\">\n",
       "  <thead>\n",
       "    <tr style=\"text-align: right;\">\n",
       "      <th></th>\n",
       "      <th>year</th>\n",
       "      <th>month</th>\n",
       "      <th>day</th>\n",
       "      <th>hour</th>\n",
       "      <th>week_day</th>\n",
       "      <th>quantity</th>\n",
       "    </tr>\n",
       "  </thead>\n",
       "  <tbody>\n",
       "    <tr>\n",
       "      <th>4359</th>\n",
       "      <td>2021</td>\n",
       "      <td>2</td>\n",
       "      <td>1</td>\n",
       "      <td>0</td>\n",
       "      <td>0</td>\n",
       "      <td>53.0</td>\n",
       "    </tr>\n",
       "    <tr>\n",
       "      <th>4360</th>\n",
       "      <td>2021</td>\n",
       "      <td>2</td>\n",
       "      <td>1</td>\n",
       "      <td>1</td>\n",
       "      <td>0</td>\n",
       "      <td>48.0</td>\n",
       "    </tr>\n",
       "    <tr>\n",
       "      <th>4361</th>\n",
       "      <td>2021</td>\n",
       "      <td>2</td>\n",
       "      <td>1</td>\n",
       "      <td>2</td>\n",
       "      <td>0</td>\n",
       "      <td>13.0</td>\n",
       "    </tr>\n",
       "  </tbody>\n",
       "</table>\n",
       "</div>"
      ],
      "text/plain": [
       "      year  month  day  hour  week_day  quantity\n",
       "4359  2021      2    1     0         0      53.0\n",
       "4360  2021      2    1     1         0      48.0\n",
       "4361  2021      2    1     2         0      13.0"
      ]
     },
     "execution_count": 18,
     "metadata": {},
     "output_type": "execute_result"
    }
   ],
   "source": [
    "indx = (pd.to_datetime( X2.iloc[:,:-2] ) >= '2021-02-01').sum()\n",
    "X2.drop(range(X2.shape[0]-indx),axis=0,inplace=True)\n",
    "X2.head(3)"
   ]
  },
  {
   "cell_type": "code",
   "execution_count": 19,
   "id": "40260338",
   "metadata": {},
   "outputs": [],
   "source": [
    "from scipy import stats\n",
    "#stats.zscore(X2.iloc[-indx:]['quantity'])\n",
    "#X2.loc[ (np.abs(stats.zscore(X2.iloc[-indx:]['quantity'])) > 3) ].index"
   ]
  },
  {
   "cell_type": "markdown",
   "id": "28a3be91",
   "metadata": {},
   "source": [
    "Calculate right border (maxq) fot outlier range"
   ]
  },
  {
   "cell_type": "code",
   "execution_count": 20,
   "id": "e56ed720",
   "metadata": {},
   "outputs": [],
   "source": [
    "q025 = X2.iloc[-indx:]['quantity'].quantile(.25)\n",
    "q075 = X2.iloc[-indx:]['quantity'].quantile(.75)\n",
    "maxq = 2.5*q075-1.5*q025\n",
    "indx_m = X2.loc[X2.iloc[-indx:]['quantity']>maxq].index\n",
    "X2.loc[indx_m, 'quantity'] = maxq #Replace outlier on max deviation"
   ]
  },
  {
   "cell_type": "code",
   "execution_count": 21,
   "id": "4e17227e",
   "metadata": {},
   "outputs": [
    {
     "data": {
      "text/plain": [
       "<matplotlib.collections.PathCollection at 0x209047e5b08>"
      ]
     },
     "execution_count": 21,
     "metadata": {},
     "output_type": "execute_result"
    },
    {
     "data": {
      "image/png": "[encoded data removed]",
      "text/plain": [
       "<Figure size 1296x360 with 1 Axes>"
      ]
     },
     "metadata": {
      "needs_background": "light"
     },
     "output_type": "display_data"
    }
   ],
   "source": [
    "plt.figure(figsize=(18,5))\n",
    "plt.scatter(pd.to_datetime( X2.iloc[-indx:,:-2] ),X2.iloc[-indx:]['quantity'])"
   ]
  },
  {
   "cell_type": "markdown",
   "id": "2695b3a5",
   "metadata": {},
   "source": [
    "<b> Divide date on train and test </b>"
   ]
  },
  {
   "cell_type": "code",
   "execution_count": 22,
   "id": "e29fbab5",
   "metadata": {},
   "outputs": [],
   "source": [
    "def DataPrep(X,day_lag=1,test_size=.15):\n",
    "    \n",
    "    test_index = X.shape[0] - int(X.shape[0]*test_size)\n",
    "    \n",
    "    Xtrain = X.iloc[:test_index,:-1]\n",
    "    ytrain = X.iloc[:test_index, -1]\n",
    "    Xtest  = X.iloc[test_index:,:-1]\n",
    "    ytest  = X.iloc[test_index:, -1]\n",
    "        \n",
    "    return Xtrain, Xtest, ytrain, ytest\n",
    "\n",
    "\n",
    "Xtrain, Xtest, ytrain, ytest = DataPrep(X2,test_size=.3)\n"
   ]
  },
  {
   "cell_type": "markdown",
   "id": "14a1e375",
   "metadata": {},
   "source": [
    "<b> Use cross validation for optimal parameter search </b>"
   ]
  },
  {
   "cell_type": "code",
   "execution_count": 23,
   "id": "575877e3",
   "metadata": {},
   "outputs": [
    {
     "name": "stdout",
     "output_type": "stream",
     "text": [
      "average error = 0.01\n"
     ]
    },
    {
     "data": {
      "image/png": "[encoded data removed]",
      "text/plain": [
       "<Figure size 720x1440 with 3 Axes>"
      ]
     },
     "metadata": {
      "needs_background": "light"
     },
     "output_type": "display_data"
    }
   ],
   "source": [
    "import xgboost as xgb\n",
    "\n",
    "regB = xgb.XGBRegressor(eta=0.05,max_depth=5,n_estimators=2000)\n",
    "\n",
    "def CrossVal(Xtrain,ytrain,n_folds,regB,is_plot=False):\n",
    "    errors = []\n",
    "    \n",
    "    k = int(float(Xtrain.shape[0]) / (n_folds+1))\n",
    "    \n",
    "    if is_plot:\n",
    "        fig, ax = plt.subplots(nrows=n_folds,ncols=1,figsize=(10,20))\n",
    "    i = 0\n",
    "    for i in range(n_folds):\n",
    "        \n",
    "        X = Xtrain.iloc[:k*(i+1)]\n",
    "        y = ytrain.iloc[:k*(i+1)]\n",
    "        \n",
    "        Xtest = Xtrain.iloc[k*(i+1):]\n",
    "        ytest = ytrain.iloc[k*(i+1):]\n",
    "        \n",
    "        regB.fit(Xtrain,ytrain)\n",
    "        errors.append( MSE(regB.predict(Xtest),ytest,squared=False) )\n",
    "        \n",
    "        if is_plot:        \n",
    "            ax[i].scatter(pd.to_datetime( X.iloc[:,:-1] ),y)\n",
    "            ax[i].scatter(pd.to_datetime( Xtest.iloc[:,:-1] ),regB.predict(Xtest))    \n",
    "    return sum(errors)/len(errors)\n",
    "        \n",
    "errors = CrossVal(Xtrain,ytrain,3,regB,is_plot=True)\n",
    "\n",
    "print('average error = {:.2f}'.format(errors))\n",
    "    "
   ]
  },
  {
   "cell_type": "code",
   "execution_count": 24,
   "id": "90d97c79",
   "metadata": {},
   "outputs": [
    {
     "name": "stdout",
     "output_type": "stream",
     "text": [
      "(0.05, 5, 2000)\n"
     ]
    }
   ],
   "source": [
    "CVkeys = {'eta':[.05,.01,.005],'max_depth':[2,3,5],'n_estimators':[100,500,2000]}\n",
    "\n",
    "a = itertools.product(*CVkeys.values())\n",
    "params  = []\n",
    "errors  = []\n",
    "for i in a:\n",
    "    regCV = xgb.XGBRegressor(eta=i[0],max_depth=i[1],n_estimators=i[2])\n",
    "    params.append(i)\n",
    "    errors.append( CrossVal(Xtrain,ytrain,3,regCV,is_plot=False) )    \n",
    "    \n",
    "\n",
    "print(params[np.array(errors).argmin()])"
   ]
  },
  {
   "cell_type": "markdown",
   "id": "96b3fd75",
   "metadata": {},
   "source": [
    "<b> Validate model on test data </b>"
   ]
  },
  {
   "cell_type": "code",
   "execution_count": 33,
   "id": "b1c08844",
   "metadata": {},
   "outputs": [
    {
     "name": "stdout",
     "output_type": "stream",
     "text": [
      "135.77509776301386\n",
      "297.41569008375296\n"
     ]
    }
   ],
   "source": [
    "regB = xgb.XGBRegressor(eta=.01,max_depth=3,n_estimators=300)\n",
    "regB.fit(Xtrain,ytrain)\n",
    "pr = regB.predict(Xtrain)\n",
    "pr_test = regB.predict(Xtest)\n",
    "print(MSE(pr,ytrain,squared=False))\n",
    "print(MSE(regB.predict(Xtest),ytest,squared=False))"
   ]
  },
  {
   "cell_type": "markdown",
   "id": "e4137327",
   "metadata": {},
   "source": [
    "По отложенной выборке видно, что модель переобучилась при параметрах (0.05, 5, 2000). В целом можно сказать, что качество на отложенной выборке сильно не меняется. Можно уменьшить ошибку, получив более сглаженную кривую. В целом данных не очень много и как-то заметно улучшить качество модели, мне кажется, нельзя. Остальные данные тоже не похоже, чтобы можно было как-то сильно использовать."
   ]
  },
  {
   "cell_type": "code",
   "execution_count": 34,
   "id": "3e581718",
   "metadata": {},
   "outputs": [
    {
     "data": {
      "text/plain": [
       "<matplotlib.legend.Legend at 0x20905ea2548>"
      ]
     },
     "execution_count": 34,
     "metadata": {},
     "output_type": "execute_result"
    },
    {
     "data": {
      "image/png": "[encoded data removed]",
      "text/plain": [
       "<Figure size 1080x360 with 1 Axes>"
      ]
     },
     "metadata": {
      "needs_background": "light"
     },
     "output_type": "display_data"
    }
   ],
   "source": [
    "plt.figure(figsize=(15,5))\n",
    "plt.rc('font',size=12)\n",
    "plt.scatter(pd.to_datetime( Xtest.iloc[:,:-1] ),pr_test, label='Pred' )\n",
    "plt.scatter(pd.to_datetime( Xtest.iloc[:,:-1] ),ytest, label='test')\n",
    "plt.legend(loc='upper right')"
   ]
  },
  {
   "cell_type": "code",
   "execution_count": 27,
   "id": "74f7c1df",
   "metadata": {},
   "outputs": [
    {
     "name": "stdout",
     "output_type": "stream",
     "text": [
      "[0.        0.        0.1005376 0.8994624 0.       ]\n"
     ]
    }
   ],
   "source": [
    "print( regB.feature_importances_ )"
   ]
  },
  {
   "cell_type": "markdown",
   "id": "1d133ac9",
   "metadata": {},
   "source": [
    "<h2> Make prediction to new day </h2>"
   ]
  },
  {
   "cell_type": "code",
   "execution_count": 28,
   "id": "e9a391b4",
   "metadata": {},
   "outputs": [],
   "source": [
    "ND = pd.DataFrame( { 'year' :[2021]*24,\n",
    "       'month':[2]*24,\n",
    "       'day'  :[X2.iloc[-1]['day']+1]*24,\n",
    "       'hour' :np.arange(0,24),\n",
    "       'week_day':[X2.iloc[-1]['week_day']+1]*24})"
   ]
  },
  {
   "cell_type": "code",
   "execution_count": 35,
   "id": "fa7c74e7",
   "metadata": {},
   "outputs": [
    {
     "data": {
      "image/png": "[encoded data removed]",
      "text/plain": [
       "<Figure size 1080x360 with 1 Axes>"
      ]
     },
     "metadata": {
      "needs_background": "light"
     },
     "output_type": "display_data"
    }
   ],
   "source": [
    "#Refit on all data for final prediction\n",
    "regB.fit(X2.iloc[:,:-1],X2.iloc[:,-1])\n",
    "prediction = regB.predict(ND)\n",
    "\n",
    "plt.figure(figsize=(15,5))\n",
    "plt.rc('font',size=16)\n",
    "plt.scatter(pd.to_datetime( ND.iloc[:,:-1] ),prediction)\n",
    "plt.xticks(pd.to_datetime( ND.iloc[:,:-1] ),np.arange(0,24));\n",
    "plt.ylabel('Number of bottels')\n",
    "plt.xlabel('Hour')\n",
    "plt.title('Prediction on 07.02.2021')\n",
    "plt.grid(True)"
   ]
  }
 ],
 "metadata": {
  "kernelspec": {
   "display_name": "Python 3 (ipykernel)",
   "language": "python",
   "name": "python3"
  },
  "language_info": {
   "codemirror_mode": {
    "name": "ipython",
    "version": 3
   },
   "file_extension": ".py",
   "mimetype": "text/x-python",
   "name": "python",
   "nbconvert_exporter": "python",
   "pygments_lexer": "ipython3",
   "version": "3.7.6"
  }
 },
 "nbformat": 4,
 "nbformat_minor": 5
}
