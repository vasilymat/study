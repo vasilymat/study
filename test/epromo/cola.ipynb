{
 "cells": [
  {
   "cell_type": "code",
   "execution_count": 1,
   "id": "5c92db9d",
   "metadata": {},
   "outputs": [],
   "source": [
    "import pandas as pd\n",
    "import numpy as np\n",
    "import matplotlib.pyplot as plt\n",
    "import seaborn as sns"
   ]
  },
  {
   "cell_type": "code",
   "execution_count": 2,
   "id": "5ff31a2e",
   "metadata": {},
   "outputs": [
    {
     "data": {
      "text/html": [
       "<div>\n",
       "<style scoped>\n",
       "    .dataframe tbody tr th:only-of-type {\n",
       "        vertical-align: middle;\n",
       "    }\n",
       "\n",
       "    .dataframe tbody tr th {\n",
       "        vertical-align: top;\n",
       "    }\n",
       "\n",
       "    .dataframe thead th {\n",
       "        text-align: right;\n",
       "    }\n",
       "</style>\n",
       "<table border=\"1\" class=\"dataframe\">\n",
       "  <thead>\n",
       "    <tr style=\"text-align: right;\">\n",
       "      <th></th>\n",
       "      <th>Unnamed: 0</th>\n",
       "      <th>item_id</th>\n",
       "      <th>receipt_id</th>\n",
       "      <th>device_id</th>\n",
       "      <th>local_date</th>\n",
       "      <th>barcode</th>\n",
       "      <th>price</th>\n",
       "      <th>quantity</th>\n",
       "      <th>region</th>\n",
       "    </tr>\n",
       "  </thead>\n",
       "  <tbody>\n",
       "    <tr>\n",
       "      <th>0</th>\n",
       "      <td>0</td>\n",
       "      <td>11660931229</td>\n",
       "      <td>7364786357</td>\n",
       "      <td>352402250963288</td>\n",
       "      <td>2021-02-02 00:00:01</td>\n",
       "      <td>46200310</td>\n",
       "      <td>133.0</td>\n",
       "      <td>1.0</td>\n",
       "      <td>Нижегородская область</td>\n",
       "    </tr>\n",
       "    <tr>\n",
       "      <th>1</th>\n",
       "      <td>1</td>\n",
       "      <td>11660931230</td>\n",
       "      <td>7364786357</td>\n",
       "      <td>352402250963288</td>\n",
       "      <td>2021-02-02 00:00:01</td>\n",
       "      <td>4601501425437</td>\n",
       "      <td>100.0</td>\n",
       "      <td>1.0</td>\n",
       "      <td>Нижегородская область</td>\n",
       "    </tr>\n",
       "    <tr>\n",
       "      <th>2</th>\n",
       "      <td>2</td>\n",
       "      <td>11660931245</td>\n",
       "      <td>7364786362</td>\n",
       "      <td>352403362581574</td>\n",
       "      <td>2021-02-02 00:00:04</td>\n",
       "      <td>NaN</td>\n",
       "      <td>50.0</td>\n",
       "      <td>1.0</td>\n",
       "      <td>Москва</td>\n",
       "    </tr>\n",
       "    <tr>\n",
       "      <th>3</th>\n",
       "      <td>3</td>\n",
       "      <td>11660931313</td>\n",
       "      <td>7364786391</td>\n",
       "      <td>352399468048288</td>\n",
       "      <td>2021-02-02 01:00:11</td>\n",
       "      <td>NaN</td>\n",
       "      <td>29.0</td>\n",
       "      <td>1.0</td>\n",
       "      <td>Ульяновская область</td>\n",
       "    </tr>\n",
       "    <tr>\n",
       "      <th>4</th>\n",
       "      <td>4</td>\n",
       "      <td>11660931336</td>\n",
       "      <td>7364786406</td>\n",
       "      <td>352401023174844</td>\n",
       "      <td>2021-02-02 00:00:17</td>\n",
       "      <td>NaN</td>\n",
       "      <td>250.0</td>\n",
       "      <td>1.0</td>\n",
       "      <td>Москва</td>\n",
       "    </tr>\n",
       "    <tr>\n",
       "      <th>5</th>\n",
       "      <td>5</td>\n",
       "      <td>11660931337</td>\n",
       "      <td>7364786406</td>\n",
       "      <td>352401023174844</td>\n",
       "      <td>2021-02-02 00:00:17</td>\n",
       "      <td>NaN</td>\n",
       "      <td>50.0</td>\n",
       "      <td>1.0</td>\n",
       "      <td>Москва</td>\n",
       "    </tr>\n",
       "    <tr>\n",
       "      <th>6</th>\n",
       "      <td>6</td>\n",
       "      <td>11660931403</td>\n",
       "      <td>7364786435</td>\n",
       "      <td>352400918986789</td>\n",
       "      <td>2021-02-02 02:00:21</td>\n",
       "      <td>NaN</td>\n",
       "      <td>120.0</td>\n",
       "      <td>1.0</td>\n",
       "      <td>Свердловская область</td>\n",
       "    </tr>\n",
       "    <tr>\n",
       "      <th>7</th>\n",
       "      <td>7</td>\n",
       "      <td>11660931522</td>\n",
       "      <td>7364786509</td>\n",
       "      <td>352400687215221</td>\n",
       "      <td>2021-02-02 00:00:38</td>\n",
       "      <td>NaN</td>\n",
       "      <td>50.0</td>\n",
       "      <td>7.0</td>\n",
       "      <td>Липецкая область</td>\n",
       "    </tr>\n",
       "    <tr>\n",
       "      <th>8</th>\n",
       "      <td>8</td>\n",
       "      <td>11660931602</td>\n",
       "      <td>7364786564</td>\n",
       "      <td>352406518857918</td>\n",
       "      <td>2021-02-02 00:00:48</td>\n",
       "      <td>NaN</td>\n",
       "      <td>125.0</td>\n",
       "      <td>1.0</td>\n",
       "      <td>Республика Коми</td>\n",
       "    </tr>\n",
       "    <tr>\n",
       "      <th>9</th>\n",
       "      <td>9</td>\n",
       "      <td>11660931773</td>\n",
       "      <td>7364786673</td>\n",
       "      <td>352403179996511</td>\n",
       "      <td>2021-02-02 00:01:03</td>\n",
       "      <td>4610017250037</td>\n",
       "      <td>87.0</td>\n",
       "      <td>2.0</td>\n",
       "      <td>Санкт-Петербург</td>\n",
       "    </tr>\n",
       "  </tbody>\n",
       "</table>\n",
       "</div>"
      ],
      "text/plain": [
       "   Unnamed: 0      item_id  receipt_id        device_id           local_date  \\\n",
       "0           0  11660931229  7364786357  352402250963288  2021-02-02 00:00:01   \n",
       "1           1  11660931230  7364786357  352402250963288  2021-02-02 00:00:01   \n",
       "2           2  11660931245  7364786362  352403362581574  2021-02-02 00:00:04   \n",
       "3           3  11660931313  7364786391  352399468048288  2021-02-02 01:00:11   \n",
       "4           4  11660931336  7364786406  352401023174844  2021-02-02 00:00:17   \n",
       "5           5  11660931337  7364786406  352401023174844  2021-02-02 00:00:17   \n",
       "6           6  11660931403  7364786435  352400918986789  2021-02-02 02:00:21   \n",
       "7           7  11660931522  7364786509  352400687215221  2021-02-02 00:00:38   \n",
       "8           8  11660931602  7364786564  352406518857918  2021-02-02 00:00:48   \n",
       "9           9  11660931773  7364786673  352403179996511  2021-02-02 00:01:03   \n",
       "\n",
       "         barcode  price  quantity                 region  \n",
       "0       46200310  133.0       1.0  Нижегородская область  \n",
       "1  4601501425437  100.0       1.0  Нижегородская область  \n",
       "2            NaN   50.0       1.0                 Москва  \n",
       "3            NaN   29.0       1.0    Ульяновская область  \n",
       "4            NaN  250.0       1.0                 Москва  \n",
       "5            NaN   50.0       1.0                 Москва  \n",
       "6            NaN  120.0       1.0   Свердловская область  \n",
       "7            NaN   50.0       7.0       Липецкая область  \n",
       "8            NaN  125.0       1.0        Республика Коми  \n",
       "9  4610017250037   87.0       2.0        Санкт-Петербург  "
      ]
     },
     "execution_count": 2,
     "metadata": {},
     "output_type": "execute_result"
    }
   ],
   "source": [
    "X = pd.read_csv('./dataset.csv')\n",
    "X.head(10)"
   ]
  },
  {
   "cell_type": "markdown",
   "id": "778631ac",
   "metadata": {},
   "source": [
    "<h1> EDA </h1>"
   ]
  },
  {
   "cell_type": "markdown",
   "id": "e7addbd9",
   "metadata": {},
   "source": [
    "<b> Percent of missing values in different categorials </b>"
   ]
  },
  {
   "cell_type": "code",
   "execution_count": 3,
   "id": "722defd6",
   "metadata": {},
   "outputs": [
    {
     "data": {
      "text/html": [
       "<div>\n",
       "<style scoped>\n",
       "    .dataframe tbody tr th:only-of-type {\n",
       "        vertical-align: middle;\n",
       "    }\n",
       "\n",
       "    .dataframe tbody tr th {\n",
       "        vertical-align: top;\n",
       "    }\n",
       "\n",
       "    .dataframe thead th {\n",
       "        text-align: right;\n",
       "    }\n",
       "</style>\n",
       "<table border=\"1\" class=\"dataframe\">\n",
       "  <thead>\n",
       "    <tr style=\"text-align: right;\">\n",
       "      <th></th>\n",
       "      <th>Unnamed: 0</th>\n",
       "      <th>item_id</th>\n",
       "      <th>receipt_id</th>\n",
       "      <th>device_id</th>\n",
       "      <th>local_date</th>\n",
       "      <th>barcode</th>\n",
       "      <th>price</th>\n",
       "      <th>quantity</th>\n",
       "      <th>region</th>\n",
       "    </tr>\n",
       "  </thead>\n",
       "  <tbody>\n",
       "    <tr>\n",
       "      <th>0</th>\n",
       "      <td>0</td>\n",
       "      <td>11660931229</td>\n",
       "      <td>7364786357</td>\n",
       "      <td>352402250963288</td>\n",
       "      <td>2021-02-02 00:00:01</td>\n",
       "      <td>46200310</td>\n",
       "      <td>133.0</td>\n",
       "      <td>1.0</td>\n",
       "      <td>Нижегородская область</td>\n",
       "    </tr>\n",
       "    <tr>\n",
       "      <th>1</th>\n",
       "      <td>1</td>\n",
       "      <td>11660931230</td>\n",
       "      <td>7364786357</td>\n",
       "      <td>352402250963288</td>\n",
       "      <td>2021-02-02 00:00:01</td>\n",
       "      <td>4601501425437</td>\n",
       "      <td>100.0</td>\n",
       "      <td>1.0</td>\n",
       "      <td>Нижегородская область</td>\n",
       "    </tr>\n",
       "    <tr>\n",
       "      <th>2</th>\n",
       "      <td>2</td>\n",
       "      <td>11660931245</td>\n",
       "      <td>7364786362</td>\n",
       "      <td>352403362581574</td>\n",
       "      <td>2021-02-02 00:00:04</td>\n",
       "      <td>NaN</td>\n",
       "      <td>50.0</td>\n",
       "      <td>1.0</td>\n",
       "      <td>Москва</td>\n",
       "    </tr>\n",
       "  </tbody>\n",
       "</table>\n",
       "</div>"
      ],
      "text/plain": [
       "   Unnamed: 0      item_id  receipt_id        device_id           local_date  \\\n",
       "0           0  11660931229  7364786357  352402250963288  2021-02-02 00:00:01   \n",
       "1           1  11660931230  7364786357  352402250963288  2021-02-02 00:00:01   \n",
       "2           2  11660931245  7364786362  352403362581574  2021-02-02 00:00:04   \n",
       "\n",
       "         barcode  price  quantity                 region  \n",
       "0       46200310  133.0       1.0  Нижегородская область  \n",
       "1  4601501425437  100.0       1.0  Нижегородская область  \n",
       "2            NaN   50.0       1.0                 Москва  "
      ]
     },
     "execution_count": 3,
     "metadata": {},
     "output_type": "execute_result"
    }
   ],
   "source": [
    "X.head(3)"
   ]
  },
  {
   "cell_type": "code",
   "execution_count": 4,
   "id": "80e539b5",
   "metadata": {},
   "outputs": [
    {
     "data": {
      "text/plain": [
       "<AxesSubplot:>"
      ]
     },
     "execution_count": 4,
     "metadata": {},
     "output_type": "execute_result"
    },
    {
     "data": {
      "image/png": "[encoded data removed]",
      "text/plain": [
       "<Figure size 432x288 with 1 Axes>"
      ]
     },
     "metadata": {
      "needs_background": "light"
     },
     "output_type": "display_data"
    }
   ],
   "source": [
    "def drop_data(X):\n",
    "    missing = X.isna().sum()\n",
    "    missing = missing[missing>0]/X.shape[0]*100\n",
    "    missing.sort_values(inplace=True)    \n",
    "        \n",
    "    return missing\n",
    "\n",
    "missing = drop_data(X)\n",
    "missing.plot.bar()"
   ]
  },
  {
   "cell_type": "markdown",
   "id": "13dcdf89",
   "metadata": {},
   "source": [
    "<b> Drop all rows with incorrect quantity values </b>"
   ]
  },
  {
   "cell_type": "code",
   "execution_count": 5,
   "id": "32d3ff81",
   "metadata": {},
   "outputs": [
    {
     "data": {
      "text/html": [
       "<div>\n",
       "<style scoped>\n",
       "    .dataframe tbody tr th:only-of-type {\n",
       "        vertical-align: middle;\n",
       "    }\n",
       "\n",
       "    .dataframe tbody tr th {\n",
       "        vertical-align: top;\n",
       "    }\n",
       "\n",
       "    .dataframe thead th {\n",
       "        text-align: right;\n",
       "    }\n",
       "</style>\n",
       "<table border=\"1\" class=\"dataframe\">\n",
       "  <thead>\n",
       "    <tr style=\"text-align: right;\">\n",
       "      <th></th>\n",
       "      <th>Unnamed: 0</th>\n",
       "      <th>item_id</th>\n",
       "      <th>receipt_id</th>\n",
       "      <th>device_id</th>\n",
       "      <th>local_date</th>\n",
       "      <th>barcode</th>\n",
       "      <th>price</th>\n",
       "      <th>quantity</th>\n",
       "      <th>region</th>\n",
       "    </tr>\n",
       "  </thead>\n",
       "  <tbody>\n",
       "    <tr>\n",
       "      <th>46</th>\n",
       "      <td>46</td>\n",
       "      <td>11660932533</td>\n",
       "      <td>7364787139</td>\n",
       "      <td>352400866634268</td>\n",
       "      <td>2021-02-02 00:02:42</td>\n",
       "      <td>NaN</td>\n",
       "      <td>1600.0</td>\n",
       "      <td>0.150</td>\n",
       "      <td>Краснодарский край</td>\n",
       "    </tr>\n",
       "    <tr>\n",
       "      <th>47</th>\n",
       "      <td>47</td>\n",
       "      <td>11660932534</td>\n",
       "      <td>7364787139</td>\n",
       "      <td>352400866634268</td>\n",
       "      <td>2021-02-02 00:02:42</td>\n",
       "      <td>NaN</td>\n",
       "      <td>650.0</td>\n",
       "      <td>0.108</td>\n",
       "      <td>Краснодарский край</td>\n",
       "    </tr>\n",
       "    <tr>\n",
       "      <th>53</th>\n",
       "      <td>53</td>\n",
       "      <td>11660933011</td>\n",
       "      <td>7364787387</td>\n",
       "      <td>352400866634268</td>\n",
       "      <td>2021-02-02 00:03:33</td>\n",
       "      <td>NaN</td>\n",
       "      <td>290.0</td>\n",
       "      <td>0.104</td>\n",
       "      <td>Краснодарский край</td>\n",
       "    </tr>\n",
       "    <tr>\n",
       "      <th>54</th>\n",
       "      <td>54</td>\n",
       "      <td>11660933038</td>\n",
       "      <td>7364787410</td>\n",
       "      <td>352402132536876</td>\n",
       "      <td>2021-02-02 05:03:40</td>\n",
       "      <td>NaN</td>\n",
       "      <td>175.0</td>\n",
       "      <td>0.390</td>\n",
       "      <td>Иркутская область</td>\n",
       "    </tr>\n",
       "    <tr>\n",
       "      <th>61</th>\n",
       "      <td>61</td>\n",
       "      <td>11660933542</td>\n",
       "      <td>7364787741</td>\n",
       "      <td>352400866634268</td>\n",
       "      <td>2021-02-02 00:04:33</td>\n",
       "      <td>NaN</td>\n",
       "      <td>310.0</td>\n",
       "      <td>0.274</td>\n",
       "      <td>Краснодарский край</td>\n",
       "    </tr>\n",
       "  </tbody>\n",
       "</table>\n",
       "</div>"
      ],
      "text/plain": [
       "    Unnamed: 0      item_id  receipt_id        device_id           local_date  \\\n",
       "46          46  11660932533  7364787139  352400866634268  2021-02-02 00:02:42   \n",
       "47          47  11660932534  7364787139  352400866634268  2021-02-02 00:02:42   \n",
       "53          53  11660933011  7364787387  352400866634268  2021-02-02 00:03:33   \n",
       "54          54  11660933038  7364787410  352402132536876  2021-02-02 05:03:40   \n",
       "61          61  11660933542  7364787741  352400866634268  2021-02-02 00:04:33   \n",
       "\n",
       "   barcode   price  quantity              region  \n",
       "46     NaN  1600.0     0.150  Краснодарский край  \n",
       "47     NaN   650.0     0.108  Краснодарский край  \n",
       "53     NaN   290.0     0.104  Краснодарский край  \n",
       "54     NaN   175.0     0.390   Иркутская область  \n",
       "61     NaN   310.0     0.274  Краснодарский край  "
      ]
     },
     "execution_count": 5,
     "metadata": {},
     "output_type": "execute_result"
    }
   ],
   "source": [
    "X[ (X['quantity'] <= 0) | (X['quantity'] % 1 != 0) ].head(5) "
   ]
  },
  {
   "cell_type": "code",
   "execution_count": 6,
   "id": "b397ece3",
   "metadata": {},
   "outputs": [],
   "source": [
    "#Drop the rows where the region is missing\n",
    "r_drop = X['region'].isna() #rows to drop\n",
    "X.drop( r_drop.index[r_drop], axis=0, inplace=True )\n",
    "\n",
    "#Drop rows with incorrect quantity\n",
    "NonInt = (X['quantity'] <= 0) | (X['quantity'] % 1 != 0) #is non integer \"quantity\"\n",
    "X.drop( NonInt.index[NonInt], axis=0, inplace=True  )\n",
    "\n",
    "X['local_date'] = pd.to_datetime(X['local_date']) #Transform to datetime format"
   ]
  },
  {
   "cell_type": "markdown",
   "id": "b7baad55",
   "metadata": {},
   "source": [
    "Sort by date and reset index"
   ]
  },
  {
   "cell_type": "code",
   "execution_count": 7,
   "id": "9577d9e3",
   "metadata": {},
   "outputs": [
    {
     "data": {
      "text/html": [
       "<div>\n",
       "<style scoped>\n",
       "    .dataframe tbody tr th:only-of-type {\n",
       "        vertical-align: middle;\n",
       "    }\n",
       "\n",
       "    .dataframe tbody tr th {\n",
       "        vertical-align: top;\n",
       "    }\n",
       "\n",
       "    .dataframe thead th {\n",
       "        text-align: right;\n",
       "    }\n",
       "</style>\n",
       "<table border=\"1\" class=\"dataframe\">\n",
       "  <thead>\n",
       "    <tr style=\"text-align: right;\">\n",
       "      <th></th>\n",
       "      <th>item_id</th>\n",
       "      <th>receipt_id</th>\n",
       "      <th>device_id</th>\n",
       "      <th>local_date</th>\n",
       "      <th>barcode</th>\n",
       "      <th>price</th>\n",
       "      <th>quantity</th>\n",
       "      <th>region</th>\n",
       "    </tr>\n",
       "  </thead>\n",
       "  <tbody>\n",
       "    <tr>\n",
       "      <th>0</th>\n",
       "      <td>11651314851</td>\n",
       "      <td>7359194219</td>\n",
       "      <td>352400319648496</td>\n",
       "      <td>2018-07-09 09:15:47</td>\n",
       "      <td>NaN</td>\n",
       "      <td>67.500000</td>\n",
       "      <td>1.0</td>\n",
       "      <td>Алтайский край</td>\n",
       "    </tr>\n",
       "    <tr>\n",
       "      <th>1</th>\n",
       "      <td>11651315784</td>\n",
       "      <td>7359194748</td>\n",
       "      <td>352400319648496</td>\n",
       "      <td>2018-07-09 09:16:52</td>\n",
       "      <td>NaN</td>\n",
       "      <td>151.000000</td>\n",
       "      <td>1.0</td>\n",
       "      <td>Алтайский край</td>\n",
       "    </tr>\n",
       "    <tr>\n",
       "      <th>2</th>\n",
       "      <td>11651316440</td>\n",
       "      <td>7359195116</td>\n",
       "      <td>352400319648496</td>\n",
       "      <td>2018-07-09 09:19:53</td>\n",
       "      <td>NaN</td>\n",
       "      <td>144.000000</td>\n",
       "      <td>1.0</td>\n",
       "      <td>Алтайский край</td>\n",
       "    </tr>\n",
       "    <tr>\n",
       "      <th>3</th>\n",
       "      <td>11651317525</td>\n",
       "      <td>7359195760</td>\n",
       "      <td>352400319648496</td>\n",
       "      <td>2018-07-09 09:22:33</td>\n",
       "      <td>NaN</td>\n",
       "      <td>49.700001</td>\n",
       "      <td>1.0</td>\n",
       "      <td>Алтайский край</td>\n",
       "    </tr>\n",
       "  </tbody>\n",
       "</table>\n",
       "</div>"
      ],
      "text/plain": [
       "       item_id  receipt_id        device_id          local_date barcode  \\\n",
       "0  11651314851  7359194219  352400319648496 2018-07-09 09:15:47     NaN   \n",
       "1  11651315784  7359194748  352400319648496 2018-07-09 09:16:52     NaN   \n",
       "2  11651316440  7359195116  352400319648496 2018-07-09 09:19:53     NaN   \n",
       "3  11651317525  7359195760  352400319648496 2018-07-09 09:22:33     NaN   \n",
       "\n",
       "        price  quantity          region  \n",
       "0   67.500000       1.0  Алтайский край  \n",
       "1  151.000000       1.0  Алтайский край  \n",
       "2  144.000000       1.0  Алтайский край  \n",
       "3   49.700001       1.0  Алтайский край  "
      ]
     },
     "execution_count": 7,
     "metadata": {},
     "output_type": "execute_result"
    }
   ],
   "source": [
    "X.sort_values(by=['local_date'],inplace=True)\n",
    "X.drop('Unnamed: 0',axis=1,inplace=True)\n",
    "X.reset_index(drop=True,inplace=True)\n",
    "X.head(4)"
   ]
  },
  {
   "cell_type": "markdown",
   "id": "1529621e",
   "metadata": {},
   "source": [
    "<b> Search information in some variables <b>     \n",
    "\n",
    "item_id, receipt_id, device_id, barcode, price"
   ]
  },
  {
   "cell_type": "code",
   "execution_count": 8,
   "id": "fae80a0d",
   "metadata": {},
   "outputs": [
    {
     "name": "stdout",
     "output_type": "stream",
     "text": [
      "part of unique item_id: 1.00\n",
      "part of unique receipt_id: 0.60\n",
      "part of unique device_id: 0.01\n"
     ]
    }
   ],
   "source": [
    "print( 'part of unique item_id: {:.2f}'.format(X['item_id'].value_counts().shape[0]/X['item_id'].shape[0])    )\n",
    "print( 'part of unique receipt_id: {:.2f}'.format(X['receipt_id'].value_counts().shape[0]/X['item_id'].shape[0]) )\n",
    "print( 'part of unique device_id: {:.2f}'.format(X['device_id'].value_counts().shape[0]/X['item_id'].shape[0]) )"
   ]
  },
  {
   "cell_type": "code",
   "execution_count": 9,
   "id": "2c3e8e46",
   "metadata": {},
   "outputs": [
    {
     "name": "stdout",
     "output_type": "stream",
     "text": [
      "part of unique barcode: 0.15\n"
     ]
    }
   ],
   "source": [
    "tmp = X.loc[~X['barcode'].isna()]['barcode']\n",
    "print( 'part of unique barcode: {:.2f}'.format(tmp.value_counts().shape[0]/tmp.shape[0]) )"
   ]
  },
  {
   "cell_type": "markdown",
   "id": "66f64399",
   "metadata": {},
   "source": [
    "In my opinion only device_id can have predictive power."
   ]
  },
  {
   "cell_type": "markdown",
   "id": "68aabb65",
   "metadata": {},
   "source": [
    "<b> Let's consider statistical characteristics of some features </b>"
   ]
  },
  {
   "cell_type": "code",
   "execution_count": 10,
   "id": "a98a14dd",
   "metadata": {},
   "outputs": [
    {
     "data": {
      "text/plain": [
       "<AxesSubplot:ylabel='Count'>"
      ]
     },
     "execution_count": 10,
     "metadata": {},
     "output_type": "execute_result"
    },
    {
     "data": {
      "image/png": "[encoded data removed]",
      "text/plain": [
       "<Figure size 720x216 with 3 Axes>"
      ]
     },
     "metadata": {
      "needs_background": "light"
     },
     "output_type": "display_data"
    }
   ],
   "source": [
    "fig, axes = plt.subplots(nrows=1,ncols=3,figsize=(10,3))\n",
    "sns.histplot(X[ X['price'] < 3000 ]['price'],ax=axes[0], bins=30)\n",
    "sns.histplot(X[ X['quantity'] < 10 ]['quantity'],ax=axes[1])\n",
    "sns.histplot(X['price']/X['quantity'],ax=axes[2],bins=30)"
   ]
  },
  {
   "cell_type": "markdown",
   "id": "5efb1418",
   "metadata": {},
   "source": [
    "Looks like the price value is randomly generated and can't be using for prediction"
   ]
  },
  {
   "cell_type": "code",
   "execution_count": 11,
   "id": "442dbf92",
   "metadata": {},
   "outputs": [
    {
     "name": "stdout",
     "output_type": "stream",
     "text": [
      "403.3802482289022\n",
      "12113.702301850037\n"
     ]
    }
   ],
   "source": [
    "print( (X['price']/X['quantity']).mean() )\n",
    "print( (X['price']/X['quantity']).std()  )"
   ]
  },
  {
   "cell_type": "code",
   "execution_count": 12,
   "id": "2b493733",
   "metadata": {},
   "outputs": [
    {
     "name": "stdout",
     "output_type": "stream",
     "text": [
      "2.3750407548375425\n",
      "146.2167702849724\n"
     ]
    }
   ],
   "source": [
    "print( X['quantity'].mean() )\n",
    "print( X['quantity'].std()  )"
   ]
  },
  {
   "cell_type": "markdown",
   "id": "1cedef37",
   "metadata": {},
   "source": [
    "<h3> Encode datetame as separate columns. Add week_day </h3>"
   ]
  },
  {
   "cell_type": "code",
   "execution_count": 13,
   "id": "3f7dbd98",
   "metadata": {},
   "outputs": [],
   "source": [
    "Xt = X[ X['region'] == 'Нижегородская область']\n",
    "DF =    {'year'    :[0]*Xt.shape[0],\n",
    "         'month'   :[0]*Xt.shape[0],\n",
    "         'day'     :[0]*Xt.shape[0],\n",
    "         'week_day':[0]*Xt.shape[0],\n",
    "         'hour'    :[0]*Xt.shape[0],}\n",
    "for i in range(0,Xt.shape[0]):\n",
    "    date = Xt['local_date'].iloc[i]\n",
    "    DF['year'][i]     = np.int16(date.year)\n",
    "    DF['month'][i]    = np.int8(date.month)\n",
    "    DF['day'][i]      = np.int8(date.day)\n",
    "    DF['week_day'][i] = np.int8(date.weekday())\n",
    "    DF['hour'][i]     = np.int8(date.hour)"
   ]
  },
  {
   "cell_type": "markdown",
   "id": "0edc323d",
   "metadata": {},
   "source": [
    "Check: are datetime correct? In general it's correct "
   ]
  },
  {
   "cell_type": "code",
   "execution_count": 14,
   "id": "e7ca3285",
   "metadata": {},
   "outputs": [],
   "source": [
    "DFd = pd.DataFrame(DF)"
   ]
  },
  {
   "cell_type": "code",
   "execution_count": 15,
   "id": "e70560dc",
   "metadata": {},
   "outputs": [
    {
     "data": {
      "image/png": "[encoded data removed]",
      "text/plain": [
       "<Figure size 1080x720 with 6 Axes>"
      ]
     },
     "metadata": {
      "needs_background": "light"
     },
     "output_type": "display_data"
    }
   ],
   "source": [
    "fig, ax = plt.subplots( nrows=2,ncols=3, figsize=(15,10) )\n",
    "ax = ax.flatten()\n",
    "bins = [4,12,31,7,24]\n",
    "for i,feature in enumerate(DFd.columns):\n",
    "    ax[i].hist(DFd[feature],bins=bins[i])\n",
    "    ax[i].set_xlabel(feature,fontsize=14)"
   ]
  },
  {
   "cell_type": "code",
   "execution_count": 16,
   "id": "1b71342b",
   "metadata": {},
   "outputs": [
    {
     "data": {
      "text/plain": [
       "0.9717007762879323"
      ]
     },
     "execution_count": 16,
     "metadata": {},
     "output_type": "execute_result"
    }
   ],
   "source": [
    "#93% of the rows are relate to the last month represented in the data\n",
    "DFd[ (DFd['year']==2021) & (DFd['month']==2) ].shape[0]/DFd.shape[0]"
   ]
  },
  {
   "cell_type": "markdown",
   "id": "6978ce37",
   "metadata": {},
   "source": [
    "<h2> Prepair simple dataset for prediction </h2>"
   ]
  },
  {
   "cell_type": "code",
   "execution_count": 17,
   "id": "d53f405e",
   "metadata": {},
   "outputs": [],
   "source": [
    "sX = DFd.join( Xt['quantity'].reset_index(drop=True)  )"
   ]
  },
  {
   "cell_type": "code",
   "execution_count": 18,
   "id": "150fce4c",
   "metadata": {},
   "outputs": [
    {
     "data": {
      "text/plain": [
       "0.0"
      ]
     },
     "execution_count": 18,
     "metadata": {},
     "output_type": "execute_result"
    }
   ],
   "source": [
    "sX.loc[ (sX['year'] == 2018) \n",
    "       & (sX['month'] == 7) & (sX['day'] == 9) \n",
    "       & (sX['hour'] == 9)  ]['quantity'].sum()"
   ]
  },
  {
   "cell_type": "code",
   "execution_count": 19,
   "id": "b5b2561a",
   "metadata": {},
   "outputs": [
    {
     "data": {
      "text/html": [
       "<div>\n",
       "<style scoped>\n",
       "    .dataframe tbody tr th:only-of-type {\n",
       "        vertical-align: middle;\n",
       "    }\n",
       "\n",
       "    .dataframe tbody tr th {\n",
       "        vertical-align: top;\n",
       "    }\n",
       "\n",
       "    .dataframe thead th {\n",
       "        text-align: right;\n",
       "    }\n",
       "</style>\n",
       "<table border=\"1\" class=\"dataframe\">\n",
       "  <thead>\n",
       "    <tr style=\"text-align: right;\">\n",
       "      <th></th>\n",
       "      <th>year</th>\n",
       "      <th>month</th>\n",
       "      <th>day</th>\n",
       "      <th>week_day</th>\n",
       "      <th>hour</th>\n",
       "      <th>quantity</th>\n",
       "    </tr>\n",
       "  </thead>\n",
       "  <tbody>\n",
       "    <tr>\n",
       "      <th>0</th>\n",
       "      <td>2020</td>\n",
       "      <td>8</td>\n",
       "      <td>3</td>\n",
       "      <td>0</td>\n",
       "      <td>9</td>\n",
       "      <td>1.0</td>\n",
       "    </tr>\n",
       "    <tr>\n",
       "      <th>1</th>\n",
       "      <td>2020</td>\n",
       "      <td>8</td>\n",
       "      <td>3</td>\n",
       "      <td>0</td>\n",
       "      <td>9</td>\n",
       "      <td>1.0</td>\n",
       "    </tr>\n",
       "    <tr>\n",
       "      <th>2</th>\n",
       "      <td>2020</td>\n",
       "      <td>8</td>\n",
       "      <td>3</td>\n",
       "      <td>0</td>\n",
       "      <td>9</td>\n",
       "      <td>1.0</td>\n",
       "    </tr>\n",
       "    <tr>\n",
       "      <th>3</th>\n",
       "      <td>2020</td>\n",
       "      <td>8</td>\n",
       "      <td>3</td>\n",
       "      <td>0</td>\n",
       "      <td>10</td>\n",
       "      <td>1.0</td>\n",
       "    </tr>\n",
       "    <tr>\n",
       "      <th>4</th>\n",
       "      <td>2020</td>\n",
       "      <td>8</td>\n",
       "      <td>3</td>\n",
       "      <td>0</td>\n",
       "      <td>11</td>\n",
       "      <td>1.0</td>\n",
       "    </tr>\n",
       "    <tr>\n",
       "      <th>...</th>\n",
       "      <td>...</td>\n",
       "      <td>...</td>\n",
       "      <td>...</td>\n",
       "      <td>...</td>\n",
       "      <td>...</td>\n",
       "      <td>...</td>\n",
       "    </tr>\n",
       "    <tr>\n",
       "      <th>42505</th>\n",
       "      <td>2021</td>\n",
       "      <td>2</td>\n",
       "      <td>6</td>\n",
       "      <td>5</td>\n",
       "      <td>23</td>\n",
       "      <td>1.0</td>\n",
       "    </tr>\n",
       "    <tr>\n",
       "      <th>42506</th>\n",
       "      <td>2021</td>\n",
       "      <td>2</td>\n",
       "      <td>6</td>\n",
       "      <td>5</td>\n",
       "      <td>23</td>\n",
       "      <td>2.0</td>\n",
       "    </tr>\n",
       "    <tr>\n",
       "      <th>42507</th>\n",
       "      <td>2021</td>\n",
       "      <td>2</td>\n",
       "      <td>6</td>\n",
       "      <td>5</td>\n",
       "      <td>23</td>\n",
       "      <td>1.0</td>\n",
       "    </tr>\n",
       "    <tr>\n",
       "      <th>42508</th>\n",
       "      <td>2021</td>\n",
       "      <td>2</td>\n",
       "      <td>6</td>\n",
       "      <td>5</td>\n",
       "      <td>23</td>\n",
       "      <td>2.0</td>\n",
       "    </tr>\n",
       "    <tr>\n",
       "      <th>42509</th>\n",
       "      <td>2021</td>\n",
       "      <td>2</td>\n",
       "      <td>6</td>\n",
       "      <td>5</td>\n",
       "      <td>23</td>\n",
       "      <td>1.0</td>\n",
       "    </tr>\n",
       "  </tbody>\n",
       "</table>\n",
       "<p>42510 rows × 6 columns</p>\n",
       "</div>"
      ],
      "text/plain": [
       "       year  month  day  week_day  hour  quantity\n",
       "0      2020      8    3         0     9       1.0\n",
       "1      2020      8    3         0     9       1.0\n",
       "2      2020      8    3         0     9       1.0\n",
       "3      2020      8    3         0    10       1.0\n",
       "4      2020      8    3         0    11       1.0\n",
       "...     ...    ...  ...       ...   ...       ...\n",
       "42505  2021      2    6         5    23       1.0\n",
       "42506  2021      2    6         5    23       2.0\n",
       "42507  2021      2    6         5    23       1.0\n",
       "42508  2021      2    6         5    23       2.0\n",
       "42509  2021      2    6         5    23       1.0\n",
       "\n",
       "[42510 rows x 6 columns]"
      ]
     },
     "execution_count": 19,
     "metadata": {},
     "output_type": "execute_result"
    }
   ],
   "source": [
    "sX"
   ]
  },
  {
   "cell_type": "code",
   "execution_count": 20,
   "id": "2b549e04",
   "metadata": {},
   "outputs": [],
   "source": [
    "Df2 = {'year' :[],\n",
    "       'month':[],\n",
    "       'day'  :[],\n",
    "       'hour' :[],\n",
    "       'week_day':[],\n",
    "       'quantity':[]\n",
    "       }\n",
    "a  = sX['hour'].iloc[0]\n",
    "sa = 0\n",
    "is_write = True\n",
    "for i in range(sX.shape[0]):\n",
    "    \n",
    "    if is_write:        \n",
    "        Df2['year'].append(sX['year'].iloc[i])\n",
    "        Df2['month'].append(sX['month'].iloc[i])\n",
    "        Df2['day'].append(sX['day'].iloc[i])\n",
    "        Df2['hour'].append(sX['hour'].iloc[i])\n",
    "        Df2['week_day'].append(sX['week_day'].iloc[i])\n",
    "        is_write = False\n",
    "                             \n",
    "    if sX['hour'].iloc[i] != a:\n",
    "        Df2['quantity'].append(sa)\n",
    "        sa = 0\n",
    "        a  = sX['hour'].iloc[i]        \n",
    "        is_write = True\n",
    "    \n",
    "    sa += sX['quantity'].iloc[0]\n",
    "Df2['quantity'].append(sa)"
   ]
  },
  {
   "cell_type": "code",
   "execution_count": 21,
   "id": "5a130e34",
   "metadata": {},
   "outputs": [],
   "source": [
    "X2 = pd.DataFrame(Df2)"
   ]
  },
  {
   "cell_type": "code",
   "execution_count": 22,
   "id": "51a7a395",
   "metadata": {},
   "outputs": [
    {
     "data": {
      "text/html": [
       "<div>\n",
       "<style scoped>\n",
       "    .dataframe tbody tr th:only-of-type {\n",
       "        vertical-align: middle;\n",
       "    }\n",
       "\n",
       "    .dataframe tbody tr th {\n",
       "        vertical-align: top;\n",
       "    }\n",
       "\n",
       "    .dataframe thead th {\n",
       "        text-align: right;\n",
       "    }\n",
       "</style>\n",
       "<table border=\"1\" class=\"dataframe\">\n",
       "  <thead>\n",
       "    <tr style=\"text-align: right;\">\n",
       "      <th></th>\n",
       "      <th>year</th>\n",
       "      <th>month</th>\n",
       "      <th>day</th>\n",
       "      <th>hour</th>\n",
       "      <th>week_day</th>\n",
       "      <th>quantity</th>\n",
       "    </tr>\n",
       "  </thead>\n",
       "  <tbody>\n",
       "    <tr>\n",
       "      <th>0</th>\n",
       "      <td>2020</td>\n",
       "      <td>8</td>\n",
       "      <td>3</td>\n",
       "      <td>9</td>\n",
       "      <td>0</td>\n",
       "      <td>3.0</td>\n",
       "    </tr>\n",
       "    <tr>\n",
       "      <th>1</th>\n",
       "      <td>2020</td>\n",
       "      <td>8</td>\n",
       "      <td>3</td>\n",
       "      <td>11</td>\n",
       "      <td>0</td>\n",
       "      <td>1.0</td>\n",
       "    </tr>\n",
       "    <tr>\n",
       "      <th>2</th>\n",
       "      <td>2020</td>\n",
       "      <td>8</td>\n",
       "      <td>3</td>\n",
       "      <td>12</td>\n",
       "      <td>0</td>\n",
       "      <td>1.0</td>\n",
       "    </tr>\n",
       "    <tr>\n",
       "      <th>3</th>\n",
       "      <td>2020</td>\n",
       "      <td>8</td>\n",
       "      <td>3</td>\n",
       "      <td>12</td>\n",
       "      <td>0</td>\n",
       "      <td>3.0</td>\n",
       "    </tr>\n",
       "    <tr>\n",
       "      <th>4</th>\n",
       "      <td>2020</td>\n",
       "      <td>8</td>\n",
       "      <td>3</td>\n",
       "      <td>14</td>\n",
       "      <td>0</td>\n",
       "      <td>3.0</td>\n",
       "    </tr>\n",
       "    <tr>\n",
       "      <th>5</th>\n",
       "      <td>2020</td>\n",
       "      <td>8</td>\n",
       "      <td>3</td>\n",
       "      <td>15</td>\n",
       "      <td>0</td>\n",
       "      <td>2.0</td>\n",
       "    </tr>\n",
       "    <tr>\n",
       "      <th>6</th>\n",
       "      <td>2020</td>\n",
       "      <td>8</td>\n",
       "      <td>3</td>\n",
       "      <td>16</td>\n",
       "      <td>0</td>\n",
       "      <td>2.0</td>\n",
       "    </tr>\n",
       "  </tbody>\n",
       "</table>\n",
       "</div>"
      ],
      "text/plain": [
       "   year  month  day  hour  week_day  quantity\n",
       "0  2020      8    3     9         0       3.0\n",
       "1  2020      8    3    11         0       1.0\n",
       "2  2020      8    3    12         0       1.0\n",
       "3  2020      8    3    12         0       3.0\n",
       "4  2020      8    3    14         0       3.0\n",
       "5  2020      8    3    15         0       2.0\n",
       "6  2020      8    3    16         0       2.0"
      ]
     },
     "execution_count": 22,
     "metadata": {},
     "output_type": "execute_result"
    }
   ],
   "source": [
    "X2.iloc[0:7]"
   ]
  },
  {
   "cell_type": "code",
   "execution_count": 23,
   "id": "1f0b79d9",
   "metadata": {},
   "outputs": [
    {
     "data": {
      "text/plain": [
       "<matplotlib.collections.PathCollection at 0x26e80a29c88>"
      ]
     },
     "execution_count": 23,
     "metadata": {},
     "output_type": "execute_result"
    },
    {
     "data": {
      "image/png": "[encoded data removed]",
      "text/plain": [
       "<Figure size 1296x360 with 1 Axes>"
      ]
     },
     "metadata": {
      "needs_background": "light"
     },
     "output_type": "display_data"
    }
   ],
   "source": [
    "indx = (pd.to_datetime( X2.iloc[:,:-2] ) >= '2021-1-30').sum()\n",
    "plt.figure(figsize=(18,5))\n",
    "plt.scatter(pd.to_datetime( X2.iloc[-indx:,:-2] ),X2.iloc[-indx:]['quantity'])"
   ]
  },
  {
   "cell_type": "markdown",
   "id": "a933cc1a",
   "metadata": {},
   "source": [
    "As we can see, datetime dependences manifests itself after February 1st. Now let's try to predict the values."
   ]
  },
  {
   "cell_type": "code",
   "execution_count": 24,
   "id": "8a32d1eb",
   "metadata": {},
   "outputs": [
    {
     "data": {
      "text/html": [
       "<div>\n",
       "<style scoped>\n",
       "    .dataframe tbody tr th:only-of-type {\n",
       "        vertical-align: middle;\n",
       "    }\n",
       "\n",
       "    .dataframe tbody tr th {\n",
       "        vertical-align: top;\n",
       "    }\n",
       "\n",
       "    .dataframe thead th {\n",
       "        text-align: right;\n",
       "    }\n",
       "</style>\n",
       "<table border=\"1\" class=\"dataframe\">\n",
       "  <thead>\n",
       "    <tr style=\"text-align: right;\">\n",
       "      <th></th>\n",
       "      <th>year</th>\n",
       "      <th>month</th>\n",
       "      <th>day</th>\n",
       "      <th>hour</th>\n",
       "      <th>week_day</th>\n",
       "      <th>quantity</th>\n",
       "    </tr>\n",
       "  </thead>\n",
       "  <tbody>\n",
       "    <tr>\n",
       "      <th>223</th>\n",
       "      <td>2021</td>\n",
       "      <td>2</td>\n",
       "      <td>1</td>\n",
       "      <td>0</td>\n",
       "      <td>0</td>\n",
       "      <td>43.0</td>\n",
       "    </tr>\n",
       "    <tr>\n",
       "      <th>224</th>\n",
       "      <td>2021</td>\n",
       "      <td>2</td>\n",
       "      <td>1</td>\n",
       "      <td>1</td>\n",
       "      <td>0</td>\n",
       "      <td>31.0</td>\n",
       "    </tr>\n",
       "    <tr>\n",
       "      <th>225</th>\n",
       "      <td>2021</td>\n",
       "      <td>2</td>\n",
       "      <td>1</td>\n",
       "      <td>2</td>\n",
       "      <td>0</td>\n",
       "      <td>12.0</td>\n",
       "    </tr>\n",
       "  </tbody>\n",
       "</table>\n",
       "</div>"
      ],
      "text/plain": [
       "     year  month  day  hour  week_day  quantity\n",
       "223  2021      2    1     0         0      43.0\n",
       "224  2021      2    1     1         0      31.0\n",
       "225  2021      2    1     2         0      12.0"
      ]
     },
     "execution_count": 24,
     "metadata": {},
     "output_type": "execute_result"
    }
   ],
   "source": [
    "indx = (pd.to_datetime( X2.iloc[:,:-2] ) >= '2021-02-01').sum()\n",
    "X2.drop(range(X2.shape[0]-indx),axis=0,inplace=True)\n",
    "X2.head(3)"
   ]
  },
  {
   "cell_type": "code",
   "execution_count": 25,
   "id": "cec8e32a",
   "metadata": {},
   "outputs": [],
   "source": [
    "def DataPrep(X,day_lag=1,test_size=.15):\n",
    "    \n",
    "    test_index = X.shape[0] - int(X.shape[0]*test_size)\n",
    "    \n",
    "    Xtrain = X.iloc[:test_index,:-1]\n",
    "    ytrain = X.iloc[:test_index, -1]\n",
    "    Xtest  = X.iloc[test_index:,:-1]\n",
    "    ytest  = X.iloc[test_index:, -1]\n",
    "        \n",
    "    return Xtrain, Xtest, ytrain, ytest\n",
    "\n",
    "\n",
    "Xtrain, Xtest, ytrain, ytest = DataPrep(X2,test_size=.15)\n"
   ]
  },
  {
   "cell_type": "code",
   "execution_count": 26,
   "id": "4f57700e",
   "metadata": {},
   "outputs": [
    {
     "data": {
      "text/html": [
       "<div>\n",
       "<style scoped>\n",
       "    .dataframe tbody tr th:only-of-type {\n",
       "        vertical-align: middle;\n",
       "    }\n",
       "\n",
       "    .dataframe tbody tr th {\n",
       "        vertical-align: top;\n",
       "    }\n",
       "\n",
       "    .dataframe thead th {\n",
       "        text-align: right;\n",
       "    }\n",
       "</style>\n",
       "<table border=\"1\" class=\"dataframe\">\n",
       "  <thead>\n",
       "    <tr style=\"text-align: right;\">\n",
       "      <th></th>\n",
       "      <th>year</th>\n",
       "      <th>month</th>\n",
       "      <th>day</th>\n",
       "      <th>hour</th>\n",
       "      <th>week_day</th>\n",
       "      <th>quantity</th>\n",
       "    </tr>\n",
       "  </thead>\n",
       "  <tbody>\n",
       "    <tr>\n",
       "      <th>223</th>\n",
       "      <td>2021</td>\n",
       "      <td>2</td>\n",
       "      <td>1</td>\n",
       "      <td>0</td>\n",
       "      <td>0</td>\n",
       "      <td>43.0</td>\n",
       "    </tr>\n",
       "    <tr>\n",
       "      <th>224</th>\n",
       "      <td>2021</td>\n",
       "      <td>2</td>\n",
       "      <td>1</td>\n",
       "      <td>1</td>\n",
       "      <td>0</td>\n",
       "      <td>31.0</td>\n",
       "    </tr>\n",
       "    <tr>\n",
       "      <th>225</th>\n",
       "      <td>2021</td>\n",
       "      <td>2</td>\n",
       "      <td>1</td>\n",
       "      <td>2</td>\n",
       "      <td>0</td>\n",
       "      <td>12.0</td>\n",
       "    </tr>\n",
       "    <tr>\n",
       "      <th>226</th>\n",
       "      <td>2021</td>\n",
       "      <td>2</td>\n",
       "      <td>1</td>\n",
       "      <td>3</td>\n",
       "      <td>0</td>\n",
       "      <td>3.0</td>\n",
       "    </tr>\n",
       "    <tr>\n",
       "      <th>227</th>\n",
       "      <td>2021</td>\n",
       "      <td>2</td>\n",
       "      <td>1</td>\n",
       "      <td>4</td>\n",
       "      <td>0</td>\n",
       "      <td>12.0</td>\n",
       "    </tr>\n",
       "  </tbody>\n",
       "</table>\n",
       "</div>"
      ],
      "text/plain": [
       "     year  month  day  hour  week_day  quantity\n",
       "223  2021      2    1     0         0      43.0\n",
       "224  2021      2    1     1         0      31.0\n",
       "225  2021      2    1     2         0      12.0\n",
       "226  2021      2    1     3         0       3.0\n",
       "227  2021      2    1     4         0      12.0"
      ]
     },
     "execution_count": 26,
     "metadata": {},
     "output_type": "execute_result"
    }
   ],
   "source": [
    "X2.head()"
   ]
  },
  {
   "cell_type": "code",
   "execution_count": 27,
   "id": "9448b2cf",
   "metadata": {},
   "outputs": [],
   "source": [
    "import xgboost as xgb\n",
    "regB = xgb.XGBRegressor()\n",
    "\n",
    "regB.fit(Xtrain,ytrain)\n",
    "pr = regB.predict(Xtrain)"
   ]
  },
  {
   "cell_type": "code",
   "execution_count": 28,
   "id": "4b318f63",
   "metadata": {},
   "outputs": [
    {
     "data": {
      "text/plain": [
       "<matplotlib.legend.Legend at 0x26e81463f88>"
      ]
     },
     "execution_count": 28,
     "metadata": {},
     "output_type": "execute_result"
    },
    {
     "data": {
      "image/png": "[encoded data removed]",
      "text/plain": [
       "<Figure size 1080x360 with 1 Axes>"
      ]
     },
     "metadata": {
      "needs_background": "light"
     },
     "output_type": "display_data"
    }
   ],
   "source": [
    "plt.figure(figsize=(15,5))\n",
    "plt.rc('font',size=12)\n",
    "plt.scatter(pd.to_datetime( Xtest.iloc[:,:-1] ),regB.predict(Xtest), label='Pred' )\n",
    "plt.scatter(pd.to_datetime( Xtest.iloc[:,:-1] ),ytest, label='test')\n",
    "plt.legend(loc='upper right')"
   ]
  },
  {
   "cell_type": "code",
   "execution_count": 29,
   "id": "e25bbd01",
   "metadata": {},
   "outputs": [
    {
     "name": "stdout",
     "output_type": "stream",
     "text": [
      "[0.         0.         0.16422299 0.83577704 0.        ]\n"
     ]
    }
   ],
   "source": [
    "print( regB.feature_importances_ )"
   ]
  },
  {
   "cell_type": "markdown",
   "id": "e69a687b",
   "metadata": {},
   "source": [
    "<h2> Make prediction to new day </h2>"
   ]
  },
  {
   "cell_type": "code",
   "execution_count": 36,
   "id": "a1f96886",
   "metadata": {},
   "outputs": [],
   "source": [
    "ND = pd.DataFrame( { 'year' :[2021]*24,\n",
    "       'month':[2]*24,\n",
    "       'day'  :[X2.iloc[-1]['day']+1]*24,\n",
    "       'hour' :np.arange(0,24),\n",
    "       'week_day':[X2.iloc[-1]['week_day']+1]*24})"
   ]
  },
  {
   "cell_type": "code",
   "execution_count": 37,
   "id": "70395bb9",
   "metadata": {},
   "outputs": [
    {
     "data": {
      "image/png": "[encoded data removed]",
      "text/plain": [
       "<Figure size 1080x360 with 1 Axes>"
      ]
     },
     "metadata": {
      "needs_background": "light"
     },
     "output_type": "display_data"
    }
   ],
   "source": [
    "prediction = regB.predict(ND)\n",
    "plt.figure(figsize=(15,5))\n",
    "plt.rc('font',size=16)\n",
    "plt.scatter(pd.to_datetime( ND.iloc[:,:-1] ),prediction)\n",
    "plt.xticks(pd.to_datetime( ND.iloc[:,:-1] ),np.arange(0,24));\n",
    "plt.ylabel('Number of bottels')\n",
    "plt.xlabel('Hour')\n",
    "plt.title('Prediction on 07.02.2021')\n",
    "plt.grid(True)"
   ]
  }
 ],
 "metadata": {
  "kernelspec": {
   "display_name": "Python 3 (ipykernel)",
   "language": "python",
   "name": "python3"
  },
  "language_info": {
   "codemirror_mode": {
    "name": "ipython",
    "version": 3
   },
   "file_extension": ".py",
   "mimetype": "text/x-python",
   "name": "python",
   "nbconvert_exporter": "python",
   "pygments_lexer": "ipython3",
   "version": "3.7.6"
  }
 },
 "nbformat": 4,
 "nbformat_minor": 5
}
