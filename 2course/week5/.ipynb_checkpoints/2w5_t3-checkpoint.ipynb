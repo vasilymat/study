{
 "cells": [
  {
   "cell_type": "code",
   "execution_count": 58,
   "metadata": {},
   "outputs": [],
   "source": [
    "import numpy as np\n",
    "from sklearn.datasets import load_digits\n",
    "from sklearn.model_selection import train_test_split\n",
    "from sklearn.neighbors import KNeighborsClassifier\n",
    "from sklearn.ensemble  import RandomForestClassifier"
   ]
  },
  {
   "cell_type": "code",
   "execution_count": 18,
   "metadata": {},
   "outputs": [
    {
     "data": {
      "text/plain": [
       "450"
      ]
     },
     "execution_count": 18,
     "metadata": {},
     "output_type": "execute_result"
    }
   ],
   "source": [
    "X_test.shape[0]"
   ]
  },
  {
   "cell_type": "code",
   "execution_count": 50,
   "metadata": {},
   "outputs": [],
   "source": [
    "data = load_digits()\n",
    "X = data['data']\n",
    "y = data['target']\n",
    "[X_train,X_test,y_train,y_test] = train_test_split(X,y,test_size=0.25,shuffle=False,stratify=None)"
   ]
  },
  {
   "cell_type": "code",
   "execution_count": 51,
   "metadata": {},
   "outputs": [],
   "source": [
    "def k1N(test_obj,X_train,y_train):\n",
    "    D = np.inf\n",
    "    num = 0\n",
    "    for i,trg in enumerate(X_train):\n",
    "        dv = test_obj - trg\n",
    "        Dn = dv.T @ dv\n",
    "        if D > Dn: \n",
    "            D = Dn\n",
    "            num = i\n",
    "    return num\n",
    "\n",
    "y_pred = np.zeros(X_test.shape[0])\n",
    "for i,test_obj in enumerate(X_test):\n",
    "    i_pred = k1N(test_obj,X_train,y_train)\n",
    "    y_pred[i] = y_train[i_pred]\n",
    "        "
   ]
  },
  {
   "cell_type": "code",
   "execution_count": 52,
   "metadata": {},
   "outputs": [
    {
     "name": "stdout",
     "output_type": "stream",
     "text": [
      "[3 7 3 3 4 6 6 6 4 9 1 5 0 9 6 2 8 2 0 0 1 7 6 3 2 1 7 4 6 3 1 3 9 1 7]\n",
      "[3 7 3 3 4 6 6 6 4 9 1 5 0 9 5 2 8 2 0 0 1 7 6 3 2 1 7 4 6 3 1 3 9 1 7]\n"
     ]
    }
   ],
   "source": [
    "y_pred = np.int32(y_pred)\n",
    "print(y_pred[:35])\n",
    "print(y_test[:35])"
   ]
  },
  {
   "cell_type": "code",
   "execution_count": 55,
   "metadata": {},
   "outputs": [
    {
     "name": "stdout",
     "output_type": "stream",
     "text": [
      "0.9622222222222222\n"
     ]
    }
   ],
   "source": [
    "tmp = y_pred != y_test\n",
    "tmp = np.int32(tmp)\n",
    "score = -(tmp.sum()-y_pred.shape[0])/y_pred.shape[0]\n",
    "print( score )\n",
    "with open('2w_t3_a1.txt','w') as f:\n",
    "    f.write(str(1-score))"
   ]
  },
  {
   "cell_type": "code",
   "execution_count": 54,
   "metadata": {},
   "outputs": [
    {
     "name": "stdout",
     "output_type": "stream",
     "text": [
      "[3 7 3 3 4 6 6 6 4 9 1 5 0 9 6 2 8 2 0 0 1 7 6 3 2 1 7 4 6 3 1 3 9 1 7]\n",
      "[3 7 3 3 4 6 6 6 4 9 1 5 0 9 5 2 8 2 0 0 1 7 6 3 2 1 7 4 6 3 1 3 9 1 7]\n",
      "0.9622222222222222\n"
     ]
    }
   ],
   "source": [
    "clf = KNeighborsClassifier(n_neighbors=1)\n",
    "clf.fit(X_train,y_train)\n",
    "y_pred2 = clf.predict(X_test)\n",
    "print(y_pred2[:35])\n",
    "print(y_test[:35])\n",
    "print( clf.score(X_test, y_test) )"
   ]
  },
  {
   "cell_type": "code",
   "execution_count": 61,
   "metadata": {},
   "outputs": [
    {
     "name": "stdout",
     "output_type": "stream",
     "text": [
      "0.9288888888888889\n"
     ]
    }
   ],
   "source": [
    "clf_rf = RandomForestClassifier(n_estimators=1000)\n",
    "clf_rf.fit(X_train,y_train)\n",
    "score3 = clf_rf.score(X_test,y_test)\n",
    "print(score3)\n",
    "with open('2w_t3_a2.txt','w') as f:\n",
    "    f.write(str(1-score3))"
   ]
  }
 ],
 "metadata": {
  "kernelspec": {
   "display_name": "Python 3",
   "language": "python",
   "name": "python3"
  },
  "language_info": {
   "codemirror_mode": {
    "name": "ipython",
    "version": 3
   },
   "file_extension": ".py",
   "mimetype": "text/x-python",
   "name": "python",
   "nbconvert_exporter": "python",
   "pygments_lexer": "ipython3",
   "version": "3.7.6"
  }
 },
 "nbformat": 4,
 "nbformat_minor": 4
}
