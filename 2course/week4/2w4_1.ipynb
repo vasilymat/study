{
 "cells": [
  {
   "cell_type": "code",
   "execution_count": 6,
   "metadata": {},
   "outputs": [],
   "source": [
    "from sklearn.datasets import load_digits\n",
    "from sklearn.ensemble import RandomForestClassifier\n",
    "from sklearn.ensemble import BaggingClassifier \n",
    "from sklearn.model_selection import cross_val_score\n",
    "from sklearn.tree import DecisionTreeClassifier\n",
    "from sklearn.model_selection import GridSearchCV\n",
    "import numpy as np"
   ]
  },
  {
   "cell_type": "markdown",
   "metadata": {},
   "source": [
    "Для начала подготовим датасет (X,y):\n",
    "Т.е. у нас есть 1797 объектов, у которых есть 64 признака, меняющихся от 0 до 16ти. Это оцифровка рукописных циферок. И есть метки клссов - это то, что там реально записано. Нужно обучить дерево решений, чтобы оно верно эти циферки распозновало."
   ]
  },
  {
   "cell_type": "code",
   "execution_count": 2,
   "metadata": {},
   "outputs": [
    {
     "name": "stdout",
     "output_type": "stream",
     "text": [
      "dict_keys(['data', 'target', 'target_names', 'images', 'DESCR'])\n",
      "(1797, 64)\n",
      "[ 0.  0.  0.  4. 15. 12.  0.  0.  0.  0.  3. 16. 15. 14.  0.  0.  0.  0.\n",
      "  8. 13.  8. 16.  0.  0.  0.  0.  1.  6. 15. 11.  0.  0.  0.  1.  8. 13.\n",
      " 15.  1.  0.  0.  0.  9. 16. 16.  5.  0.  0.  0.  0.  3. 13. 16. 16. 11.\n",
      "  5.  0.  0.  0.  0.  3. 11. 16.  9.  0.]\n"
     ]
    }
   ],
   "source": [
    "Dig = load_digits()\n",
    "print(Dig.keys())\n",
    "X = Dig.data\n",
    "y = Dig.target\n",
    "print(X.shape)\n",
    "#print(Dig.DESCR)\n",
    "print(X[2,:])"
   ]
  },
  {
   "cell_type": "code",
   "execution_count": 3,
   "metadata": {},
   "outputs": [],
   "source": [
    "regressor = RandomForestClassifier()\n",
    "CV = cross_val_score(regressor,X,y,cv=10,n_jobs=2)"
   ]
  },
  {
   "cell_type": "code",
   "execution_count": 4,
   "metadata": {},
   "outputs": [
    {
     "name": "stdout",
     "output_type": "stream",
     "text": [
      "[0.89444444 0.96666667 0.96666667 0.93333333 0.97777778 0.97777778\n",
      " 0.97222222 0.96648045 0.91620112 0.93296089]\n",
      "0.9504531346989447\n"
     ]
    }
   ],
   "source": [
    "print(CV)\n",
    "print(CV.mean())"
   ]
  },
  {
   "cell_type": "markdown",
   "metadata": {},
   "source": [
    "<H2>Решаем задания</H2>"
   ]
  },
  {
   "cell_type": "code",
   "execution_count": 11,
   "metadata": {},
   "outputs": [
    {
     "data": {
      "text/plain": [
       "0.8307883302296709"
      ]
     },
     "execution_count": 11,
     "metadata": {},
     "output_type": "execute_result"
    }
   ],
   "source": [
    "CV.mean()"
   ]
  },
  {
   "cell_type": "code",
   "execution_count": 13,
   "metadata": {},
   "outputs": [
    {
     "name": "stdout",
     "output_type": "stream",
     "text": [
      "ответ на задание 1 = 0.8224705152079453\n",
      "[0.81111111 0.82777778 0.81111111 0.80555556 0.77222222 0.87777778\n",
      " 0.87222222 0.79329609 0.82681564 0.82681564]\n"
     ]
    }
   ],
   "source": [
    "clf = DecisionTreeClassifier()\n",
    "CV = cross_val_score(clf,X,y,cv=10,n_jobs=2)\n",
    "print('ответ на задание 1 =',CV.mean())\n",
    "print(CV)\n",
    "with open(\"c:/MatkivskiyV/study/2course/week4/t1.txt\", \"w\") as fout:\n",
    "    fout.write(str(CV.mean()))"
   ]
  },
  {
   "cell_type": "code",
   "execution_count": 14,
   "metadata": {},
   "outputs": [
    {
     "name": "stdout",
     "output_type": "stream",
     "text": [
      "[0.88333333 0.96111111 0.90555556 0.92777778 0.92777778 0.98888889\n",
      " 0.96111111 0.92178771 0.87709497 0.91061453]\n",
      "ответ на задание 2 = 0.9265052762259465\n"
     ]
    }
   ],
   "source": [
    "#Задание2\n",
    "clfb = BaggingClassifier(clf,n_estimators=100)\n",
    "CVb = cross_val_score(clfb,X,y,cv=10,n_jobs=2)\n",
    "print(CVb)\n",
    "print('ответ на задание 2 =',CVb.mean())\n",
    "with open(\"c:/MatkivskiyV/study/2course/week4/t2.txt\", \"w\") as fout:\n",
    "    fout.write(str(CVb.mean()))"
   ]
  },
  {
   "cell_type": "code",
   "execution_count": 15,
   "metadata": {},
   "outputs": [
    {
     "name": "stdout",
     "output_type": "stream",
     "text": [
      "[0.9        0.96666667 0.89444444 0.88333333 0.95       0.95\n",
      " 0.96111111 0.98324022 0.88826816 0.91620112]\n",
      "ответ на задание 3 = 0.9293265052762258\n"
     ]
    }
   ],
   "source": [
    "#Задание3\n",
    "clfb_m8 = BaggingClassifier(clf,n_estimators=100,max_features=8)\n",
    "CVb_m8 = cross_val_score(clfb_m8,X,y,cv=10,n_jobs=2)\n",
    "print(CVb_m8)\n",
    "print('ответ на задание 3 =',CVb_m8.mean())\n",
    "with open(\"c:/MatkivskiyV/study/2course/week4/t3.txt\", \"w\") as fout:\n",
    "    fout.write(str(CVb_m8.mean()))"
   ]
  },
  {
   "cell_type": "code",
   "execution_count": 16,
   "metadata": {},
   "outputs": [
    {
     "name": "stdout",
     "output_type": "stream",
     "text": [
      "[0.9        0.96666667 0.95555556 0.90555556 0.97222222 0.96111111\n",
      " 0.97777778 0.96648045 0.94413408 0.93296089]\n",
      "ответ на задание 4 = 0.9482464307883302\n"
     ]
    }
   ],
   "source": [
    "#Задание4\n",
    "clf_m8 = DecisionTreeClassifier(max_features=8)\n",
    "clfb_m8 = BaggingClassifier(clf_m8,n_estimators=100)\n",
    "CVbm_8 = cross_val_score(clfb_m8,X,y,cv=10,n_jobs=2)\n",
    "print(CVbm_8)\n",
    "print('ответ на задание 4 =',CVbm_8.mean())\n",
    "with open(\"c:/MatkivskiyV/study/2course/week4/t4.txt\", \"w\") as fout:\n",
    "    fout.write(str(CVbm_8.mean()))"
   ]
  },
  {
   "cell_type": "markdown",
   "metadata": {},
   "source": [
    "<h3>Играем с random forest</h3>\n",
    "\n",
    "Как влияет на качество алгоритма:\n",
    "1. Количество деревьев\n",
    "2. Количество признаков\n",
    "3. Ограничение на глубину деревьев"
   ]
  },
  {
   "cell_type": "code",
   "execution_count": 16,
   "metadata": {},
   "outputs": [],
   "source": [
    "#Давайте построим поиск по сетке и оттуда попробуем получить нужные параметры\n",
    "param_grid = {'max_depth': [2,5,10,15,25,50,100],'n_jobs': [2],\n",
    "              'max_features': [2,8,16,32,64],'n_estimators': [1,10,25,50,100]}\n",
    "\n",
    "clf_RF = RandomForestClassifier()\n",
    "optimizer = GridSearchCV(clf_RF,param_grid,cv=5)"
   ]
  },
  {
   "cell_type": "code",
   "execution_count": 17,
   "metadata": {},
   "outputs": [
    {
     "data": {
      "text/plain": [
       "GridSearchCV(cv=5, error_score=nan,\n",
       "             estimator=RandomForestClassifier(bootstrap=True, ccp_alpha=0.0,\n",
       "                                              class_weight=None,\n",
       "                                              criterion='gini', max_depth=None,\n",
       "                                              max_features='auto',\n",
       "                                              max_leaf_nodes=None,\n",
       "                                              max_samples=None,\n",
       "                                              min_impurity_decrease=0.0,\n",
       "                                              min_impurity_split=None,\n",
       "                                              min_samples_leaf=1,\n",
       "                                              min_samples_split=2,\n",
       "                                              min_weight_fraction_leaf=0.0,\n",
       "                                              n_estimators=100, n_jobs=None,\n",
       "                                              oob_score=False,\n",
       "                                              random_state=None, verbose=0,\n",
       "                                              warm_start=False),\n",
       "             iid='deprecated', n_jobs=None,\n",
       "             param_grid={'max_depth': [2, 5, 10, 15, 25, 50, 100],\n",
       "                         'max_features': [2, 8, 16, 32, 64],\n",
       "                         'n_estimators': [1, 10, 25, 50, 100], 'n_jobs': [2]},\n",
       "             pre_dispatch='2*n_jobs', refit=True, return_train_score=False,\n",
       "             scoring=None, verbose=0)"
      ]
     },
     "execution_count": 17,
     "metadata": {},
     "output_type": "execute_result"
    }
   ],
   "source": [
    "optimizer.fit(X,y)"
   ]
  },
  {
   "cell_type": "code",
   "execution_count": 45,
   "metadata": {},
   "outputs": [
    {
     "name": "stdout",
     "output_type": "stream",
     "text": [
      "{'max_depth': 25, 'max_features': 2, 'n_estimators': 100, 'n_jobs': 2}\n"
     ]
    }
   ],
   "source": [
    "optimizer.cv_results_['mean_test_score']\n",
    "print(optimizer.best_params_)\n",
    "\n",
    "clf_RF = RandomForestClassifier(n_estimators=100,max_features=2,n_jobs=2)\n",
    "optimizer_max_depth = GridSearchCV(clf_RF,{'max_depth': [2,5,10,15,25,50,100]},cv=5)\n",
    "\n",
    "clf_RF = RandomForestClassifier(max_depth=25,n_estimators=100,n_jobs=2)\n",
    "optimizer_max_features = GridSearchCV(clf_RF,{'max_features': [2,8,16,32,64]},cv=5)\n",
    "\n",
    "clf_RF = RandomForestClassifier(max_depth=25,max_features=2,n_jobs=2)\n",
    "optimizer_n_estimators = GridSearchCV(clf_RF,{'n_estimators': [1,10,25,50,100]},cv=5)\n"
   ]
  },
  {
   "cell_type": "code",
   "execution_count": 46,
   "metadata": {},
   "outputs": [
    {
     "name": "stdout",
     "output_type": "stream",
     "text": [
      "Wall time: 42.8 s\n"
     ]
    },
    {
     "data": {
      "text/plain": [
       "GridSearchCV(cv=5, error_score=nan,\n",
       "             estimator=RandomForestClassifier(bootstrap=True, ccp_alpha=0.0,\n",
       "                                              class_weight=None,\n",
       "                                              criterion='gini', max_depth=25,\n",
       "                                              max_features=2,\n",
       "                                              max_leaf_nodes=None,\n",
       "                                              max_samples=None,\n",
       "                                              min_impurity_decrease=0.0,\n",
       "                                              min_impurity_split=None,\n",
       "                                              min_samples_leaf=1,\n",
       "                                              min_samples_split=2,\n",
       "                                              min_weight_fraction_leaf=0.0,\n",
       "                                              n_estimators=100, n_jobs=2,\n",
       "                                              oob_score=False,\n",
       "                                              random_state=None, verbose=0,\n",
       "                                              warm_start=False),\n",
       "             iid='deprecated', n_jobs=None,\n",
       "             param_grid={'n_estimators': [1, 10, 25, 50, 100]},\n",
       "             pre_dispatch='2*n_jobs', refit=True, return_train_score=False,\n",
       "             scoring=None, verbose=0)"
      ]
     },
     "execution_count": 46,
     "metadata": {},
     "output_type": "execute_result"
    }
   ],
   "source": [
    "%%time\n",
    "optimizer_max_depth.fit(X,y)\n",
    "optimizer_max_features.fit(X,y)\n",
    "optimizer_n_estimators.fit(X,y)"
   ]
  },
  {
   "cell_type": "code",
   "execution_count": 51,
   "metadata": {},
   "outputs": [
    {
     "data": {
      "text/plain": [
       "Text(0.5, 1.0, 'n_estimators')"
      ]
     },
     "execution_count": 51,
     "metadata": {},
     "output_type": "execute_result"
    },
    {
     "data": {
      "image/png": "[encoded data removed]",
      "text/plain": [
       "<Figure size 432x288 with 1 Axes>"
      ]
     },
     "metadata": {
      "needs_background": "light"
     },
     "output_type": "display_data"
    },
    {
     "data": {
      "image/png": "[encoded data removed]",
      "text/plain": [
       "<Figure size 432x288 with 1 Axes>"
      ]
     },
     "metadata": {
      "needs_background": "light"
     },
     "output_type": "display_data"
    },
    {
     "data": {
      "image/png": "[encoded data removed]",
      "text/plain": [
       "<Figure size 432x288 with 1 Axes>"
      ]
     },
     "metadata": {
      "needs_background": "light"
     },
     "output_type": "display_data"
    }
   ],
   "source": [
    "import matplotlib.pyplot as plt\n",
    "plt.figure(); plt.plot([2,5,10,15,25,50,100],optimizer_max_depth.cv_results_['mean_test_score'])\n",
    "plt.title('max_depth')\n",
    "plt.figure(); plt.plot([2,8,16,32,64],optimizer_max_features.cv_results_['mean_test_score'])\n",
    "plt.title('max_features')\n",
    "plt.figure(); plt.plot([1,10,25,50,100],optimizer_n_estimators.cv_results_['mean_test_score'])\n",
    "plt.title('n_estimators')"
   ]
  },
  {
   "cell_type": "markdown",
   "metadata": {},
   "source": [
    "Ответы на вопросы: 2 3 4 7"
   ]
  }
 ],
 "metadata": {
  "kernelspec": {
   "display_name": "Python 3",
   "language": "python",
   "name": "python3"
  },
  "language_info": {
   "codemirror_mode": {
    "name": "ipython",
    "version": 3
   },
   "file_extension": ".py",
   "mimetype": "text/x-python",
   "name": "python",
   "nbconvert_exporter": "python",
   "pygments_lexer": "ipython3",
   "version": "3.7.6"
  }
 },
 "nbformat": 4,
 "nbformat_minor": 4
}
