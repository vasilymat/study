{
  "nbformat": 4,
  "nbformat_minor": 0,
  "metadata": {
    "colab": {
      "name": "devim.ipynb",
      "provenance": [],
      "collapsed_sections": []
    },
    "kernelspec": {
      "name": "python3",
      "display_name": "Python 3"
    },
    "language_info": {
      "name": "python"
    }
  },
  "cells": [
    {
      "cell_type": "markdown",
      "metadata": {
        "id": "bXSd23sKwSvc"
      },
      "source": [
        "#  Тестовое задание. Бондарев Дмитрий. Задача 3 "
      ]
    },
    {
      "cell_type": "markdown",
      "metadata": {
        "id": "Z4AFbyhn7eVh"
      },
      "source": [
        "**ЗАДАЧА**: Проанализировать данные и поискать в них интересные инсайты, построить графики.\n",
        "Инструменты: jupyter notebook или excel + отчет в pdf\n",
        "\n",
        "**Переменные, характеризующие кредитную историю клиента:**\n",
        "\n",
        "● cred_sum_cc_all - сумма кредитов по кредитным картам\n",
        "\n",
        "● mfo_inqs_count_month - количество запросов на кредиты в другие в МФО\n",
        "\n",
        "● all_closed_creds_sum_all - сумма закрытых кредитов\n",
        "\n",
        "● bank_inqs_count_quarter - количество запросов на кредиты в банки\n",
        "\n",
        "● cred_max_overdue_max_ly - максимальная просрочка за год\n",
        "\n",
        "● all_active_creds_sum_all - денежная сумма всех активных кредитов\n",
        "\n",
        "● mfo_last_days_all - Количество дней с последнего займа в МФО\n",
        "\n",
        "● cred_sum_cc_ly - Сумма лимитов кредитных карт, оформленных за последний\n",
        "год\n",
        "\n",
        "● cred_sum_debt_all_all - Сумма задолженности по всем кредитам\n",
        "\n",
        "● all_closed_creds_sum_ly - Сумма закрытых кредитов за последний год\n",
        "\n",
        "● mfo_cred_mean_sum_3lm - Средняя сумма МФО кредитов, выданных за\n",
        "последние 3 месяца\n",
        "\n",
        "● delay_more_sum_all - Количество просрочек более чем на 90 дней по всем\n",
        "кредитам\n",
        "\n",
        "● all_creds_count_all - Общее количество кредитов\n",
        "\n",
        "● cred_day_overdue_all_sum_all - Суммарное количество дней просрочки текущих активных кредитов\n",
        "\n",
        "● cred_max_overdue_max_3lm - Максимальная сумма просроченной задолженности, по кредитам взятым за последние 3 месяца\n",
        "\n",
        "● mfo_closed_count_ly - Количество закрытых МФО кредитов, взятых за последний год\n",
        "\n",
        "● cred_sum_overdue_cc_all - Сумма просрочек по кредитным картам\n",
        "\n",
        "● count_overdue_all_3lm - Количество кредитов на просрочке, взятых за последние 3 месяца\n",
        "\n",
        "● all_creds_count_lm - Количество кредитов, взятых за последний месяц\n",
        "\n",
        "● region - регион подачи заявки\n",
        "\n",
        "**Переменные характеризующие клиента**\n",
        "\n",
        "● work_code - Профессия. 5 - рабочие профессии (слесарь, токарь). 3 - офисный\n",
        "работник (бухгалтер, программист). 1 - госслужащий (полицейский, медсестра)\n",
        "\n",
        "● month_income - доход\n",
        "\n",
        "Целевые переменные:\n",
        "bad - 1 - кредит просрочен, 0 - кредит возвращен, nan - отказ.\n",
        "\n",
        "approved - 1 - одобрено, 0 - отказано."
      ]
    },
    {
      "cell_type": "markdown",
      "metadata": {
        "id": "H1UK2yb0wrbb"
      },
      "source": [
        "## Загрузка данных"
      ]
    },
    {
      "cell_type": "code",
      "metadata": {
        "id": "qcLrrEaqkMGW",
        "colab": {
          "base_uri": "https://localhost:8080/"
        },
        "outputId": "09827fbb-c137-40ed-9f56-562a39aa53d1"
      },
      "source": [
        "pip install catboost"
      ],
      "execution_count": 1,
      "outputs": [
        {
          "output_type": "stream",
          "name": "stdout",
          "text": [
            "Requirement already satisfied: catboost in /usr/local/lib/python3.7/dist-packages (1.0.0)\n",
            "Requirement already satisfied: pandas>=0.24.0 in /usr/local/lib/python3.7/dist-packages (from catboost) (1.1.5)\n",
            "Requirement already satisfied: plotly in /usr/local/lib/python3.7/dist-packages (from catboost) (4.4.1)\n",
            "Requirement already satisfied: graphviz in /usr/local/lib/python3.7/dist-packages (from catboost) (0.10.1)\n",
            "Requirement already satisfied: matplotlib in /usr/local/lib/python3.7/dist-packages (from catboost) (3.2.2)\n",
            "Requirement already satisfied: numpy>=1.16.0 in /usr/local/lib/python3.7/dist-packages (from catboost) (1.19.5)\n",
            "Requirement already satisfied: scipy in /usr/local/lib/python3.7/dist-packages (from catboost) (1.4.1)\n",
            "Requirement already satisfied: six in /usr/local/lib/python3.7/dist-packages (from catboost) (1.15.0)\n",
            "Requirement already satisfied: pytz>=2017.2 in /usr/local/lib/python3.7/dist-packages (from pandas>=0.24.0->catboost) (2018.9)\n",
            "Requirement already satisfied: python-dateutil>=2.7.3 in /usr/local/lib/python3.7/dist-packages (from pandas>=0.24.0->catboost) (2.8.2)\n",
            "Requirement already satisfied: pyparsing!=2.0.4,!=2.1.2,!=2.1.6,>=2.0.1 in /usr/local/lib/python3.7/dist-packages (from matplotlib->catboost) (2.4.7)\n",
            "Requirement already satisfied: cycler>=0.10 in /usr/local/lib/python3.7/dist-packages (from matplotlib->catboost) (0.10.0)\n",
            "Requirement already satisfied: kiwisolver>=1.0.1 in /usr/local/lib/python3.7/dist-packages (from matplotlib->catboost) (1.3.2)\n",
            "Requirement already satisfied: retrying>=1.3.3 in /usr/local/lib/python3.7/dist-packages (from plotly->catboost) (1.3.3)\n"
          ]
        }
      ]
    },
    {
      "cell_type": "code",
      "metadata": {
        "id": "AHra_AQGB57i"
      },
      "source": [
        "import pandas as pd\n",
        "import numpy as np\n",
        "import matplotlib.pyplot as plt\n",
        "import seaborn as sns\n",
        "import plotly.express as px\n",
        "from google.colab import drive \n",
        "from sklearn.preprocessing import OneHotEncoder\n",
        "from catboost import CatBoostClassifier"
      ],
      "execution_count": 2,
      "outputs": []
    },
    {
      "cell_type": "code",
      "metadata": {
        "colab": {
          "base_uri": "https://localhost:8080/"
        },
        "id": "1c-vTI1Y7gVg",
        "outputId": "543b7f57-2e13-4f8b-8ef6-35e13bdb8400"
      },
      "source": [
        "drive.mount(\"/content/google_drive\")"
      ],
      "execution_count": 3,
      "outputs": [
        {
          "output_type": "stream",
          "name": "stdout",
          "text": [
            "Drive already mounted at /content/google_drive; to attempt to forcibly remount, call drive.mount(\"/content/google_drive\", force_remount=True).\n"
          ]
        }
      ]
    },
    {
      "cell_type": "code",
      "metadata": {
        "colab": {
          "base_uri": "https://localhost:8080/"
        },
        "id": "LPI58tYX7gXt",
        "outputId": "07db8206-7585-4451-efc8-633163e81631"
      },
      "source": [
        "!ls /content/google_drive/MyDrive/data/"
      ],
      "execution_count": 4,
      "outputs": [
        {
          "output_type": "stream",
          "name": "stdout",
          "text": [
            "forFBpost.csv\n"
          ]
        }
      ]
    },
    {
      "cell_type": "markdown",
      "metadata": {
        "id": "CKfJKDCcwzna"
      },
      "source": [
        "## Анализ данных"
      ]
    },
    {
      "cell_type": "code",
      "metadata": {
        "colab": {
          "base_uri": "https://localhost:8080/",
          "height": 224
        },
        "id": "oIYZkM1P7gaW",
        "outputId": "06696c79-4547-410b-c458-f5c9fbdc1ae9"
      },
      "source": [
        "data = pd.read_csv('/content/google_drive/MyDrive/3_task_data.csv')\n",
        "data.head()"
      ],
      "execution_count": 5,
      "outputs": [
        {
          "output_type": "execute_result",
          "data": {
            "text/html": [
              "<div>\n",
              "<style scoped>\n",
              "    .dataframe tbody tr th:only-of-type {\n",
              "        vertical-align: middle;\n",
              "    }\n",
              "\n",
              "    .dataframe tbody tr th {\n",
              "        vertical-align: top;\n",
              "    }\n",
              "\n",
              "    .dataframe thead th {\n",
              "        text-align: right;\n",
              "    }\n",
              "</style>\n",
              "<table border=\"1\" class=\"dataframe\">\n",
              "  <thead>\n",
              "    <tr style=\"text-align: right;\">\n",
              "      <th></th>\n",
              "      <th>order_id</th>\n",
              "      <th>cred_sum_cc_all</th>\n",
              "      <th>mfo_inqs_count_month</th>\n",
              "      <th>all_closed_creds_sum_all</th>\n",
              "      <th>bank_inqs_count_quarter</th>\n",
              "      <th>cred_max_overdue_max_ly</th>\n",
              "      <th>all_active_creds_sum_all</th>\n",
              "      <th>mfo_last_days_all</th>\n",
              "      <th>cred_sum_cc_ly</th>\n",
              "      <th>cred_sum_debt_all_all</th>\n",
              "      <th>all_closed_creds_sum_ly</th>\n",
              "      <th>mfo_cred_mean_sum_3lm</th>\n",
              "      <th>delay_more_sum_all</th>\n",
              "      <th>all_creds_count_all</th>\n",
              "      <th>cred_day_overdue_all_sum_all</th>\n",
              "      <th>cred_max_overdue_max_3lm</th>\n",
              "      <th>mfo_closed_count_ly</th>\n",
              "      <th>cred_sum_overdue_cc_all</th>\n",
              "      <th>count_overdue_all_3lm</th>\n",
              "      <th>all_creds_count_lm</th>\n",
              "      <th>work_code</th>\n",
              "      <th>month_income</th>\n",
              "      <th>region</th>\n",
              "      <th>bad</th>\n",
              "      <th>approved</th>\n",
              "    </tr>\n",
              "  </thead>\n",
              "  <tbody>\n",
              "    <tr>\n",
              "      <th>0</th>\n",
              "      <td>5498546</td>\n",
              "      <td>0.0</td>\n",
              "      <td>0</td>\n",
              "      <td>40364</td>\n",
              "      <td>0</td>\n",
              "      <td>0.0</td>\n",
              "      <td>3000</td>\n",
              "      <td>560</td>\n",
              "      <td>0.0</td>\n",
              "      <td>0.0</td>\n",
              "      <td>0</td>\n",
              "      <td>0.0</td>\n",
              "      <td>2</td>\n",
              "      <td>3</td>\n",
              "      <td>529</td>\n",
              "      <td>0.0</td>\n",
              "      <td>0</td>\n",
              "      <td>0.00</td>\n",
              "      <td>0</td>\n",
              "      <td>0</td>\n",
              "      <td>3</td>\n",
              "      <td>50000</td>\n",
              "      <td>46</td>\n",
              "      <td>NaN</td>\n",
              "      <td>0</td>\n",
              "    </tr>\n",
              "    <tr>\n",
              "      <th>1</th>\n",
              "      <td>5498604</td>\n",
              "      <td>1500.0</td>\n",
              "      <td>0</td>\n",
              "      <td>23456</td>\n",
              "      <td>0</td>\n",
              "      <td>0.0</td>\n",
              "      <td>0</td>\n",
              "      <td>9999</td>\n",
              "      <td>0.0</td>\n",
              "      <td>0.0</td>\n",
              "      <td>0</td>\n",
              "      <td>0.0</td>\n",
              "      <td>10</td>\n",
              "      <td>3</td>\n",
              "      <td>0</td>\n",
              "      <td>0.0</td>\n",
              "      <td>0</td>\n",
              "      <td>0.00</td>\n",
              "      <td>0</td>\n",
              "      <td>0</td>\n",
              "      <td>3</td>\n",
              "      <td>35000</td>\n",
              "      <td>17</td>\n",
              "      <td>NaN</td>\n",
              "      <td>0</td>\n",
              "    </tr>\n",
              "    <tr>\n",
              "      <th>2</th>\n",
              "      <td>5498609</td>\n",
              "      <td>0.1</td>\n",
              "      <td>0</td>\n",
              "      <td>17999</td>\n",
              "      <td>3</td>\n",
              "      <td>0.0</td>\n",
              "      <td>9999</td>\n",
              "      <td>9999</td>\n",
              "      <td>0.1</td>\n",
              "      <td>9999.0</td>\n",
              "      <td>0</td>\n",
              "      <td>0.0</td>\n",
              "      <td>18</td>\n",
              "      <td>4</td>\n",
              "      <td>0</td>\n",
              "      <td>0.0</td>\n",
              "      <td>0</td>\n",
              "      <td>0.00</td>\n",
              "      <td>0</td>\n",
              "      <td>2</td>\n",
              "      <td>3</td>\n",
              "      <td>35000</td>\n",
              "      <td>58</td>\n",
              "      <td>NaN</td>\n",
              "      <td>0</td>\n",
              "    </tr>\n",
              "    <tr>\n",
              "      <th>3</th>\n",
              "      <td>5498645</td>\n",
              "      <td>5000.0</td>\n",
              "      <td>0</td>\n",
              "      <td>313247</td>\n",
              "      <td>0</td>\n",
              "      <td>0.0</td>\n",
              "      <td>0</td>\n",
              "      <td>9999</td>\n",
              "      <td>0.0</td>\n",
              "      <td>0.0</td>\n",
              "      <td>0</td>\n",
              "      <td>0.0</td>\n",
              "      <td>8</td>\n",
              "      <td>5</td>\n",
              "      <td>0</td>\n",
              "      <td>0.0</td>\n",
              "      <td>0</td>\n",
              "      <td>4923.97</td>\n",
              "      <td>0</td>\n",
              "      <td>0</td>\n",
              "      <td>5</td>\n",
              "      <td>35000</td>\n",
              "      <td>4</td>\n",
              "      <td>NaN</td>\n",
              "      <td>0</td>\n",
              "    </tr>\n",
              "    <tr>\n",
              "      <th>4</th>\n",
              "      <td>5498647</td>\n",
              "      <td>0.0</td>\n",
              "      <td>0</td>\n",
              "      <td>0</td>\n",
              "      <td>1</td>\n",
              "      <td>0.0</td>\n",
              "      <td>0</td>\n",
              "      <td>9999</td>\n",
              "      <td>0.0</td>\n",
              "      <td>0.0</td>\n",
              "      <td>0</td>\n",
              "      <td>0.0</td>\n",
              "      <td>11</td>\n",
              "      <td>1</td>\n",
              "      <td>0</td>\n",
              "      <td>0.0</td>\n",
              "      <td>0</td>\n",
              "      <td>0.00</td>\n",
              "      <td>0</td>\n",
              "      <td>0</td>\n",
              "      <td>5</td>\n",
              "      <td>35000</td>\n",
              "      <td>34</td>\n",
              "      <td>NaN</td>\n",
              "      <td>0</td>\n",
              "    </tr>\n",
              "  </tbody>\n",
              "</table>\n",
              "</div>"
            ],
            "text/plain": [
              "   order_id  cred_sum_cc_all  mfo_inqs_count_month  ...  region  bad  approved\n",
              "0   5498546              0.0                     0  ...      46  NaN         0\n",
              "1   5498604           1500.0                     0  ...      17  NaN         0\n",
              "2   5498609              0.1                     0  ...      58  NaN         0\n",
              "3   5498645           5000.0                     0  ...       4  NaN         0\n",
              "4   5498647              0.0                     0  ...      34  NaN         0\n",
              "\n",
              "[5 rows x 25 columns]"
            ]
          },
          "metadata": {},
          "execution_count": 5
        }
      ]
    },
    {
      "cell_type": "code",
      "metadata": {
        "colab": {
          "base_uri": "https://localhost:8080/"
        },
        "id": "BScmIJUz7gc2",
        "outputId": "99131308-a520-4b4d-bf7b-e8b666c8c319"
      },
      "source": [
        "data.info()"
      ],
      "execution_count": 6,
      "outputs": [
        {
          "output_type": "stream",
          "name": "stdout",
          "text": [
            "<class 'pandas.core.frame.DataFrame'>\n",
            "RangeIndex: 23116 entries, 0 to 23115\n",
            "Data columns (total 25 columns):\n",
            " #   Column                        Non-Null Count  Dtype  \n",
            "---  ------                        --------------  -----  \n",
            " 0   order_id                      23116 non-null  int64  \n",
            " 1   cred_sum_cc_all               23116 non-null  float64\n",
            " 2   mfo_inqs_count_month          23116 non-null  int64  \n",
            " 3   all_closed_creds_sum_all      23116 non-null  int64  \n",
            " 4   bank_inqs_count_quarter       23116 non-null  int64  \n",
            " 5   cred_max_overdue_max_ly       23116 non-null  float64\n",
            " 6   all_active_creds_sum_all      23116 non-null  int64  \n",
            " 7   mfo_last_days_all             23116 non-null  int64  \n",
            " 8   cred_sum_cc_ly                23116 non-null  float64\n",
            " 9   cred_sum_debt_all_all         23116 non-null  float64\n",
            " 10  all_closed_creds_sum_ly       23116 non-null  int64  \n",
            " 11  mfo_cred_mean_sum_3lm         23116 non-null  float64\n",
            " 12  delay_more_sum_all            23116 non-null  int64  \n",
            " 13  all_creds_count_all           23116 non-null  int64  \n",
            " 14  cred_day_overdue_all_sum_all  23116 non-null  int64  \n",
            " 15  cred_max_overdue_max_3lm      23116 non-null  float64\n",
            " 16  mfo_closed_count_ly           23116 non-null  int64  \n",
            " 17  cred_sum_overdue_cc_all       23116 non-null  float64\n",
            " 18  count_overdue_all_3lm         23116 non-null  int64  \n",
            " 19  all_creds_count_lm            23116 non-null  int64  \n",
            " 20  work_code                     23116 non-null  int64  \n",
            " 21  month_income                  23116 non-null  int64  \n",
            " 22  region                        23116 non-null  int64  \n",
            " 23  bad                           7269 non-null   float64\n",
            " 24  approved                      23116 non-null  int64  \n",
            "dtypes: float64(8), int64(17)\n",
            "memory usage: 4.4 MB\n"
          ]
        }
      ]
    },
    {
      "cell_type": "code",
      "metadata": {
        "colab": {
          "base_uri": "https://localhost:8080/",
          "height": 317
        },
        "id": "9__Owk36IoLj",
        "outputId": "ee319dc6-748c-4faf-b26b-615ea815761b"
      },
      "source": [
        "data.describe()"
      ],
      "execution_count": 7,
      "outputs": [
        {
          "output_type": "execute_result",
          "data": {
            "text/html": [
              "<div>\n",
              "<style scoped>\n",
              "    .dataframe tbody tr th:only-of-type {\n",
              "        vertical-align: middle;\n",
              "    }\n",
              "\n",
              "    .dataframe tbody tr th {\n",
              "        vertical-align: top;\n",
              "    }\n",
              "\n",
              "    .dataframe thead th {\n",
              "        text-align: right;\n",
              "    }\n",
              "</style>\n",
              "<table border=\"1\" class=\"dataframe\">\n",
              "  <thead>\n",
              "    <tr style=\"text-align: right;\">\n",
              "      <th></th>\n",
              "      <th>order_id</th>\n",
              "      <th>cred_sum_cc_all</th>\n",
              "      <th>mfo_inqs_count_month</th>\n",
              "      <th>all_closed_creds_sum_all</th>\n",
              "      <th>bank_inqs_count_quarter</th>\n",
              "      <th>cred_max_overdue_max_ly</th>\n",
              "      <th>all_active_creds_sum_all</th>\n",
              "      <th>mfo_last_days_all</th>\n",
              "      <th>cred_sum_cc_ly</th>\n",
              "      <th>cred_sum_debt_all_all</th>\n",
              "      <th>all_closed_creds_sum_ly</th>\n",
              "      <th>mfo_cred_mean_sum_3lm</th>\n",
              "      <th>delay_more_sum_all</th>\n",
              "      <th>all_creds_count_all</th>\n",
              "      <th>cred_day_overdue_all_sum_all</th>\n",
              "      <th>cred_max_overdue_max_3lm</th>\n",
              "      <th>mfo_closed_count_ly</th>\n",
              "      <th>cred_sum_overdue_cc_all</th>\n",
              "      <th>count_overdue_all_3lm</th>\n",
              "      <th>all_creds_count_lm</th>\n",
              "      <th>work_code</th>\n",
              "      <th>month_income</th>\n",
              "      <th>region</th>\n",
              "      <th>bad</th>\n",
              "      <th>approved</th>\n",
              "    </tr>\n",
              "  </thead>\n",
              "  <tbody>\n",
              "    <tr>\n",
              "      <th>count</th>\n",
              "      <td>2.311600e+04</td>\n",
              "      <td>2.311600e+04</td>\n",
              "      <td>23116.000000</td>\n",
              "      <td>2.311600e+04</td>\n",
              "      <td>23116.000000</td>\n",
              "      <td>2.311600e+04</td>\n",
              "      <td>2.311600e+04</td>\n",
              "      <td>23116.000000</td>\n",
              "      <td>23116.000000</td>\n",
              "      <td>2.311600e+04</td>\n",
              "      <td>2.311600e+04</td>\n",
              "      <td>23116.000000</td>\n",
              "      <td>23116.000000</td>\n",
              "      <td>23116.000000</td>\n",
              "      <td>23116.000000</td>\n",
              "      <td>23116.000000</td>\n",
              "      <td>23116.000000</td>\n",
              "      <td>2.311600e+04</td>\n",
              "      <td>23116.000000</td>\n",
              "      <td>23116.000000</td>\n",
              "      <td>23116.000000</td>\n",
              "      <td>23116.000000</td>\n",
              "      <td>23116.000000</td>\n",
              "      <td>7269.000000</td>\n",
              "      <td>23116.000000</td>\n",
              "    </tr>\n",
              "    <tr>\n",
              "      <th>mean</th>\n",
              "      <td>6.060602e+06</td>\n",
              "      <td>4.424794e+04</td>\n",
              "      <td>1.284262</td>\n",
              "      <td>1.653574e+05</td>\n",
              "      <td>3.760642</td>\n",
              "      <td>4.070925e+03</td>\n",
              "      <td>1.284212e+05</td>\n",
              "      <td>2615.988925</td>\n",
              "      <td>10672.104919</td>\n",
              "      <td>8.414683e+04</td>\n",
              "      <td>3.006949e+04</td>\n",
              "      <td>4228.567470</td>\n",
              "      <td>5.084487</td>\n",
              "      <td>11.403876</td>\n",
              "      <td>259.105944</td>\n",
              "      <td>1107.137568</td>\n",
              "      <td>3.474087</td>\n",
              "      <td>4.878172e+03</td>\n",
              "      <td>0.118576</td>\n",
              "      <td>1.080637</td>\n",
              "      <td>3.433250</td>\n",
              "      <td>39363.189998</td>\n",
              "      <td>47.632203</td>\n",
              "      <td>0.270051</td>\n",
              "      <td>0.314458</td>\n",
              "    </tr>\n",
              "    <tr>\n",
              "      <th>std</th>\n",
              "      <td>3.678480e+05</td>\n",
              "      <td>1.006016e+05</td>\n",
              "      <td>2.373415</td>\n",
              "      <td>4.788942e+05</td>\n",
              "      <td>5.057107</td>\n",
              "      <td>2.689042e+04</td>\n",
              "      <td>3.890718e+05</td>\n",
              "      <td>4228.621029</td>\n",
              "      <td>37246.943546</td>\n",
              "      <td>3.054724e+05</td>\n",
              "      <td>1.021166e+05</td>\n",
              "      <td>8216.632710</td>\n",
              "      <td>11.628365</td>\n",
              "      <td>18.543562</td>\n",
              "      <td>768.039823</td>\n",
              "      <td>7073.931364</td>\n",
              "      <td>9.202313</td>\n",
              "      <td>3.793714e+04</td>\n",
              "      <td>0.466854</td>\n",
              "      <td>2.137757</td>\n",
              "      <td>1.370812</td>\n",
              "      <td>13887.644526</td>\n",
              "      <td>27.615823</td>\n",
              "      <td>0.444016</td>\n",
              "      <td>0.464310</td>\n",
              "    </tr>\n",
              "    <tr>\n",
              "      <th>min</th>\n",
              "      <td>5.498546e+06</td>\n",
              "      <td>0.000000e+00</td>\n",
              "      <td>0.000000</td>\n",
              "      <td>0.000000e+00</td>\n",
              "      <td>0.000000</td>\n",
              "      <td>0.000000e+00</td>\n",
              "      <td>0.000000e+00</td>\n",
              "      <td>0.000000</td>\n",
              "      <td>0.000000</td>\n",
              "      <td>0.000000e+00</td>\n",
              "      <td>0.000000e+00</td>\n",
              "      <td>0.000000</td>\n",
              "      <td>0.000000</td>\n",
              "      <td>0.000000</td>\n",
              "      <td>0.000000</td>\n",
              "      <td>0.000000</td>\n",
              "      <td>0.000000</td>\n",
              "      <td>0.000000e+00</td>\n",
              "      <td>0.000000</td>\n",
              "      <td>0.000000</td>\n",
              "      <td>1.000000</td>\n",
              "      <td>0.000000</td>\n",
              "      <td>0.000000</td>\n",
              "      <td>0.000000</td>\n",
              "      <td>0.000000</td>\n",
              "    </tr>\n",
              "    <tr>\n",
              "      <th>25%</th>\n",
              "      <td>5.739749e+06</td>\n",
              "      <td>0.000000e+00</td>\n",
              "      <td>0.000000</td>\n",
              "      <td>3.000000e+03</td>\n",
              "      <td>0.000000</td>\n",
              "      <td>0.000000e+00</td>\n",
              "      <td>2.000000e+03</td>\n",
              "      <td>13.000000</td>\n",
              "      <td>0.000000</td>\n",
              "      <td>0.000000e+00</td>\n",
              "      <td>0.000000e+00</td>\n",
              "      <td>0.000000</td>\n",
              "      <td>0.000000</td>\n",
              "      <td>3.000000</td>\n",
              "      <td>0.000000</td>\n",
              "      <td>0.000000</td>\n",
              "      <td>0.000000</td>\n",
              "      <td>0.000000e+00</td>\n",
              "      <td>0.000000</td>\n",
              "      <td>0.000000</td>\n",
              "      <td>2.000000</td>\n",
              "      <td>35000.000000</td>\n",
              "      <td>25.000000</td>\n",
              "      <td>0.000000</td>\n",
              "      <td>0.000000</td>\n",
              "    </tr>\n",
              "    <tr>\n",
              "      <th>50%</th>\n",
              "      <td>6.020794e+06</td>\n",
              "      <td>5.000000e+03</td>\n",
              "      <td>0.000000</td>\n",
              "      <td>3.083450e+04</td>\n",
              "      <td>2.000000</td>\n",
              "      <td>0.000000e+00</td>\n",
              "      <td>1.500000e+04</td>\n",
              "      <td>83.500000</td>\n",
              "      <td>0.000000</td>\n",
              "      <td>5.000000e+03</td>\n",
              "      <td>0.000000e+00</td>\n",
              "      <td>1000.000000</td>\n",
              "      <td>0.000000</td>\n",
              "      <td>6.000000</td>\n",
              "      <td>0.000000</td>\n",
              "      <td>0.000000</td>\n",
              "      <td>0.000000</td>\n",
              "      <td>0.000000e+00</td>\n",
              "      <td>0.000000</td>\n",
              "      <td>0.000000</td>\n",
              "      <td>3.000000</td>\n",
              "      <td>35000.000000</td>\n",
              "      <td>46.000000</td>\n",
              "      <td>0.000000</td>\n",
              "      <td>0.000000</td>\n",
              "    </tr>\n",
              "    <tr>\n",
              "      <th>75%</th>\n",
              "      <td>6.445488e+06</td>\n",
              "      <td>4.972685e+04</td>\n",
              "      <td>2.000000</td>\n",
              "      <td>1.357758e+05</td>\n",
              "      <td>5.000000</td>\n",
              "      <td>3.000000e+03</td>\n",
              "      <td>7.500000e+04</td>\n",
              "      <td>2070.500000</td>\n",
              "      <td>0.000000</td>\n",
              "      <td>3.496056e+04</td>\n",
              "      <td>2.000000e+04</td>\n",
              "      <td>6266.754762</td>\n",
              "      <td>5.000000</td>\n",
              "      <td>13.000000</td>\n",
              "      <td>70.000000</td>\n",
              "      <td>0.000000</td>\n",
              "      <td>3.000000</td>\n",
              "      <td>0.000000e+00</td>\n",
              "      <td>0.000000</td>\n",
              "      <td>1.000000</td>\n",
              "      <td>5.000000</td>\n",
              "      <td>50000.000000</td>\n",
              "      <td>70.000000</td>\n",
              "      <td>1.000000</td>\n",
              "      <td>1.000000</td>\n",
              "    </tr>\n",
              "    <tr>\n",
              "      <th>max</th>\n",
              "      <td>6.697265e+06</td>\n",
              "      <td>5.739786e+06</td>\n",
              "      <td>25.000000</td>\n",
              "      <td>3.030997e+07</td>\n",
              "      <td>67.000000</td>\n",
              "      <td>1.914581e+06</td>\n",
              "      <td>1.200000e+07</td>\n",
              "      <td>9999.000000</td>\n",
              "      <td>878000.000000</td>\n",
              "      <td>1.150825e+07</td>\n",
              "      <td>4.929320e+06</td>\n",
              "      <td>315200.000000</td>\n",
              "      <td>171.000000</td>\n",
              "      <td>546.000000</td>\n",
              "      <td>15327.000000</td>\n",
              "      <td>673495.420000</td>\n",
              "      <td>344.000000</td>\n",
              "      <td>2.878197e+06</td>\n",
              "      <td>10.000000</td>\n",
              "      <td>48.000000</td>\n",
              "      <td>5.000000</td>\n",
              "      <td>65000.000000</td>\n",
              "      <td>99.000000</td>\n",
              "      <td>1.000000</td>\n",
              "      <td>1.000000</td>\n",
              "    </tr>\n",
              "  </tbody>\n",
              "</table>\n",
              "</div>"
            ],
            "text/plain": [
              "           order_id  cred_sum_cc_all  ...          bad      approved\n",
              "count  2.311600e+04     2.311600e+04  ...  7269.000000  23116.000000\n",
              "mean   6.060602e+06     4.424794e+04  ...     0.270051      0.314458\n",
              "std    3.678480e+05     1.006016e+05  ...     0.444016      0.464310\n",
              "min    5.498546e+06     0.000000e+00  ...     0.000000      0.000000\n",
              "25%    5.739749e+06     0.000000e+00  ...     0.000000      0.000000\n",
              "50%    6.020794e+06     5.000000e+03  ...     0.000000      0.000000\n",
              "75%    6.445488e+06     4.972685e+04  ...     1.000000      1.000000\n",
              "max    6.697265e+06     5.739786e+06  ...     1.000000      1.000000\n",
              "\n",
              "[8 rows x 25 columns]"
            ]
          },
          "metadata": {},
          "execution_count": 7
        }
      ]
    },
    {
      "cell_type": "code",
      "metadata": {
        "colab": {
          "base_uri": "https://localhost:8080/"
        },
        "id": "44OVKzp7C5RE",
        "outputId": "be181705-1a8a-4604-d4a1-d36a3aa5f7a8"
      },
      "source": [
        "#Проверим на дубликаты:\n",
        "data.duplicated().unique()"
      ],
      "execution_count": 8,
      "outputs": [
        {
          "output_type": "execute_result",
          "data": {
            "text/plain": [
              "array([False])"
            ]
          },
          "metadata": {},
          "execution_count": 8
        }
      ]
    },
    {
      "cell_type": "code",
      "metadata": {
        "colab": {
          "base_uri": "https://localhost:8080/"
        },
        "id": "GDUmZarPrJqR",
        "outputId": "71b4daff-e98d-4e1a-ed12-6b031a69b393"
      },
      "source": [
        "data['approved'].value_counts()"
      ],
      "execution_count": 9,
      "outputs": [
        {
          "output_type": "execute_result",
          "data": {
            "text/plain": [
              "0    15847\n",
              "1     7269\n",
              "Name: approved, dtype: int64"
            ]
          },
          "metadata": {},
          "execution_count": 9
        }
      ]
    },
    {
      "cell_type": "code",
      "metadata": {
        "colab": {
          "base_uri": "https://localhost:8080/"
        },
        "id": "D_EO4I53YRn7",
        "outputId": "ccf362f3-6cd4-48b7-a19f-c0a9ef8916e9"
      },
      "source": [
        "data['bad'].value_counts()"
      ],
      "execution_count": 10,
      "outputs": [
        {
          "output_type": "execute_result",
          "data": {
            "text/plain": [
              "0.0    5306\n",
              "1.0    1963\n",
              "Name: bad, dtype: int64"
            ]
          },
          "metadata": {},
          "execution_count": 10
        }
      ]
    },
    {
      "cell_type": "code",
      "metadata": {
        "colab": {
          "base_uri": "https://localhost:8080/"
        },
        "id": "H08MQHw30QJc",
        "outputId": "b2637abb-59bb-4a8b-9c23-430c91858149"
      },
      "source": [
        "data['month_income'].max()"
      ],
      "execution_count": 11,
      "outputs": [
        {
          "output_type": "execute_result",
          "data": {
            "text/plain": [
              "65000"
            ]
          },
          "metadata": {},
          "execution_count": 11
        }
      ]
    },
    {
      "cell_type": "code",
      "metadata": {
        "colab": {
          "base_uri": "https://localhost:8080/"
        },
        "id": "Ezdvz8N-XAHW",
        "outputId": "69e408c4-f058-404b-c8b1-336fb0d7713f"
      },
      "source": [
        "data['work_code'].value_counts()"
      ],
      "execution_count": 12,
      "outputs": [
        {
          "output_type": "execute_result",
          "data": {
            "text/plain": [
              "5    7747\n",
              "2    4881\n",
              "3    4834\n",
              "4    3570\n",
              "1    2084\n",
              "Name: work_code, dtype: int64"
            ]
          },
          "metadata": {},
          "execution_count": 12
        }
      ]
    },
    {
      "cell_type": "markdown",
      "metadata": {
        "id": "MOjInTG9BLPX"
      },
      "source": [
        "Датасет с одобренным и неодобренным кредитом соответственно:"
      ]
    },
    {
      "cell_type": "code",
      "metadata": {
        "id": "Oua7yqs07gfO"
      },
      "source": [
        "data_app_T = data.query('approved == 1')\n",
        "data_app_F = data.query('approved == 0')"
      ],
      "execution_count": 13,
      "outputs": []
    },
    {
      "cell_type": "markdown",
      "metadata": {
        "id": "7Z8u3xuJBrel"
      },
      "source": [
        "С просроченым и возвращённым кредитом соответственно:"
      ]
    },
    {
      "cell_type": "code",
      "metadata": {
        "id": "iBY0hTNb7ghv"
      },
      "source": [
        "data_bad_T = data_app_T.query('bad == 1')\n",
        "data_bad_F = data_app_T.query('bad == 0')"
      ],
      "execution_count": 14,
      "outputs": []
    },
    {
      "cell_type": "code",
      "metadata": {
        "id": "TjkBGQmTIkeU"
      },
      "source": [
        "def plot_hist(data,col,a,b):\n",
        "    plt.figure(figsize=(15,5))\n",
        "    data[col].plot(kind='hist', alpha = 0.5, bins = 100, range=(a, b))"
      ],
      "execution_count": 15,
      "outputs": []
    },
    {
      "cell_type": "code",
      "metadata": {
        "colab": {
          "base_uri": "https://localhost:8080/",
          "height": 351
        },
        "id": "fPSz3GLqNPbc",
        "outputId": "f5d4388c-ba6d-4e17-b616-cc330384bbb3"
      },
      "source": [
        "plot_hist(data,'mfo_cred_mean_sum_3lm',1,20000)\n",
        "plt.xlabel('Средняя сумма МФО кредитов, выданных за последние 3 месяца')"
      ],
      "execution_count": 16,
      "outputs": [
        {
          "output_type": "execute_result",
          "data": {
            "text/plain": [
              "Text(0.5, 0, 'Средняя сумма МФО кредитов, выданных за последние 3 месяца')"
            ]
          },
          "metadata": {},
          "execution_count": 16
        },
        {
          "output_type": "display_data",
          "data": {
            "image/png": "[encoded data removed]",
            "text/plain": [
              "<Figure size 1080x360 with 1 Axes>"
            ]
          },
          "metadata": {
            "needs_background": "light"
          }
        }
      ]
    },
    {
      "cell_type": "code",
      "metadata": {
        "colab": {
          "base_uri": "https://localhost:8080/",
          "height": 351
        },
        "id": "nEs1gBh9O_hl",
        "outputId": "7bbede66-d8f7-4eb8-b103-4491bcaa461d"
      },
      "source": [
        "plot_hist(data,'all_creds_count_all',0,200)\n",
        "plt.xlabel('Общее количество кредитов')"
      ],
      "execution_count": 17,
      "outputs": [
        {
          "output_type": "execute_result",
          "data": {
            "text/plain": [
              "Text(0.5, 0, 'Общее количество кредитов')"
            ]
          },
          "metadata": {},
          "execution_count": 17
        },
        {
          "output_type": "display_data",
          "data": {
            "image/png": "[encoded data removed]",
            "text/plain": [
              "<Figure size 1080x360 with 1 Axes>"
            ]
          },
          "metadata": {
            "needs_background": "light"
          }
        }
      ]
    },
    {
      "cell_type": "code",
      "metadata": {
        "colab": {
          "base_uri": "https://localhost:8080/"
        },
        "id": "GEw1HPzYOld8",
        "outputId": "ec9004af-23e0-4ed4-e12e-52266c7ccce2"
      },
      "source": [
        "##Размер среднего кредита, взятого в МФО:\n",
        "data.query('0<mfo_cred_mean_sum_3lm < 20000')['mfo_cred_mean_sum_3lm'].mean()"
      ],
      "execution_count": 18,
      "outputs": [
        {
          "output_type": "execute_result",
          "data": {
            "text/plain": [
              "6836.921081200022"
            ]
          },
          "metadata": {},
          "execution_count": 18
        }
      ]
    },
    {
      "cell_type": "code",
      "metadata": {
        "colab": {
          "base_uri": "https://localhost:8080/"
        },
        "id": "GbVpLSNmOqCq",
        "outputId": "8bba873c-d514-48ef-d18a-7b0d5383bbea"
      },
      "source": [
        "##Медиана:\n",
        "data.query('0<mfo_cred_mean_sum_3lm < 20000')['mfo_cred_mean_sum_3lm'].median()"
      ],
      "execution_count": 19,
      "outputs": [
        {
          "output_type": "execute_result",
          "data": {
            "text/plain": [
              "6000.0"
            ]
          },
          "metadata": {},
          "execution_count": 19
        }
      ]
    },
    {
      "cell_type": "code",
      "metadata": {
        "colab": {
          "base_uri": "https://localhost:8080/",
          "height": 351
        },
        "id": "c5N8bwsgQx2c",
        "outputId": "240d2081-14e9-41f8-b55a-1dbf31fe0b11"
      },
      "source": [
        "plot_hist(data,'all_closed_creds_sum_all',0,350000)\n",
        "plt.xlabel('Cумма закрытых кредитов')"
      ],
      "execution_count": 20,
      "outputs": [
        {
          "output_type": "execute_result",
          "data": {
            "text/plain": [
              "Text(0.5, 0, 'Cумма закрытых кредитов')"
            ]
          },
          "metadata": {},
          "execution_count": 20
        },
        {
          "output_type": "display_data",
          "data": {
            "image/png": "[encoded data removed]",
            "text/plain": [
              "<Figure size 1080x360 with 1 Axes>"
            ]
          },
          "metadata": {
            "needs_background": "light"
          }
        }
      ]
    },
    {
      "cell_type": "markdown",
      "metadata": {
        "id": "v_lHuUemS61D"
      },
      "source": [
        "Количество одобренных/отказанных кредитов у клиентов без кредитной истории:"
      ]
    },
    {
      "cell_type": "code",
      "metadata": {
        "colab": {
          "base_uri": "https://localhost:8080/"
        },
        "id": "a41mtDmtQx5b",
        "outputId": "307da3a2-b556-44bc-8ddf-1b31d0d7e1f0"
      },
      "source": [
        "data.query('all_closed_creds_sum_all == 0')['approved'].value_counts()"
      ],
      "execution_count": 21,
      "outputs": [
        {
          "output_type": "execute_result",
          "data": {
            "text/plain": [
              "0    4533\n",
              "1     430\n",
              "Name: approved, dtype: int64"
            ]
          },
          "metadata": {},
          "execution_count": 21
        }
      ]
    },
    {
      "cell_type": "markdown",
      "metadata": {
        "id": "AzoDdSCUTLMU"
      },
      "source": [
        "Количество одобренных/отказанных кредитов у клиентов с кредитной историей:"
      ]
    },
    {
      "cell_type": "code",
      "metadata": {
        "colab": {
          "base_uri": "https://localhost:8080/"
        },
        "id": "sAN---jJTLOa",
        "outputId": "9888c0b5-ab96-4e84-f601-2646dc64f6a1"
      },
      "source": [
        "data.query('all_closed_creds_sum_all > 0')['approved'].value_counts()"
      ],
      "execution_count": 22,
      "outputs": [
        {
          "output_type": "execute_result",
          "data": {
            "text/plain": [
              "0    11314\n",
              "1     6839\n",
              "Name: approved, dtype: int64"
            ]
          },
          "metadata": {},
          "execution_count": 22
        }
      ]
    },
    {
      "cell_type": "markdown",
      "metadata": {
        "id": "Cw4B_8SbV77j"
      },
      "source": [
        "Количество одобренных/отказанных кредитов у клиентов без задержки выплат кредита:"
      ]
    },
    {
      "cell_type": "code",
      "metadata": {
        "colab": {
          "base_uri": "https://localhost:8080/"
        },
        "id": "KmbTjKvrV2Td",
        "outputId": "57c5393b-e476-4af3-f429-094a82fedae5"
      },
      "source": [
        "data.query('cred_day_overdue_all_sum_all == 0')['approved'].value_counts()"
      ],
      "execution_count": 23,
      "outputs": [
        {
          "output_type": "execute_result",
          "data": {
            "text/plain": [
              "0    8684\n",
              "1    6362\n",
              "Name: approved, dtype: int64"
            ]
          },
          "metadata": {},
          "execution_count": 23
        }
      ]
    },
    {
      "cell_type": "markdown",
      "metadata": {
        "id": "V2AO_vuTV9Ki"
      },
      "source": [
        "Количество одобренных/отказанных кредитов у клиентов с задержкой выплаты кредита больше одного дня:"
      ]
    },
    {
      "cell_type": "code",
      "metadata": {
        "colab": {
          "base_uri": "https://localhost:8080/"
        },
        "id": "mJjs26LfV2XQ",
        "outputId": "f599059c-6f62-4ae7-8fc2-ad8315b7a588"
      },
      "source": [
        "data.query('cred_day_overdue_all_sum_all > 0')['approved'].value_counts()"
      ],
      "execution_count": 24,
      "outputs": [
        {
          "output_type": "execute_result",
          "data": {
            "text/plain": [
              "0    7163\n",
              "1     907\n",
              "Name: approved, dtype: int64"
            ]
          },
          "metadata": {},
          "execution_count": 24
        }
      ]
    },
    {
      "cell_type": "code",
      "metadata": {
        "colab": {
          "base_uri": "https://localhost:8080/"
        },
        "id": "LQcUmXErc1y0",
        "outputId": "6d6691d3-6c89-4a23-9dd8-8774ed015715"
      },
      "source": [
        "data_app_T.query('work_code == 1')['bad'].value_counts()"
      ],
      "execution_count": 25,
      "outputs": [
        {
          "output_type": "execute_result",
          "data": {
            "text/plain": [
              "0.0    694\n",
              "1.0    177\n",
              "Name: bad, dtype: int64"
            ]
          },
          "metadata": {},
          "execution_count": 25
        }
      ]
    },
    {
      "cell_type": "markdown",
      "metadata": {
        "id": "jTW3kjQfKZd-"
      },
      "source": [
        "Построим матрицу корреляции:"
      ]
    },
    {
      "cell_type": "code",
      "metadata": {
        "colab": {
          "base_uri": "https://localhost:8080/",
          "height": 480
        },
        "id": "NPlIXuaU02za",
        "outputId": "94efd384-7915-41cf-bf1f-00c39b877247"
      },
      "source": [
        "corr = data.drop(['bad','approved','order_id','region','work_code'], axis=1).corr()\n",
        "corr.style.background_gradient(cmap='coolwarm')"
      ],
      "execution_count": 26,
      "outputs": [
        {
          "output_type": "execute_result",
          "data": {
            "text/html": [
              "<style  type=\"text/css\" >\n",
              "#T_698be840_2bf5_11ec_9e0f_0242ac1c0002row0_col0,#T_698be840_2bf5_11ec_9e0f_0242ac1c0002row1_col1,#T_698be840_2bf5_11ec_9e0f_0242ac1c0002row2_col2,#T_698be840_2bf5_11ec_9e0f_0242ac1c0002row3_col3,#T_698be840_2bf5_11ec_9e0f_0242ac1c0002row4_col4,#T_698be840_2bf5_11ec_9e0f_0242ac1c0002row5_col5,#T_698be840_2bf5_11ec_9e0f_0242ac1c0002row6_col6,#T_698be840_2bf5_11ec_9e0f_0242ac1c0002row7_col7,#T_698be840_2bf5_11ec_9e0f_0242ac1c0002row8_col8,#T_698be840_2bf5_11ec_9e0f_0242ac1c0002row9_col9,#T_698be840_2bf5_11ec_9e0f_0242ac1c0002row10_col10,#T_698be840_2bf5_11ec_9e0f_0242ac1c0002row11_col11,#T_698be840_2bf5_11ec_9e0f_0242ac1c0002row12_col12,#T_698be840_2bf5_11ec_9e0f_0242ac1c0002row13_col13,#T_698be840_2bf5_11ec_9e0f_0242ac1c0002row14_col14,#T_698be840_2bf5_11ec_9e0f_0242ac1c0002row15_col15,#T_698be840_2bf5_11ec_9e0f_0242ac1c0002row16_col16,#T_698be840_2bf5_11ec_9e0f_0242ac1c0002row17_col17,#T_698be840_2bf5_11ec_9e0f_0242ac1c0002row18_col18,#T_698be840_2bf5_11ec_9e0f_0242ac1c0002row19_col19{\n",
              "            background-color:  #b40426;\n",
              "            color:  #f1f1f1;\n",
              "        }#T_698be840_2bf5_11ec_9e0f_0242ac1c0002row0_col1,#T_698be840_2bf5_11ec_9e0f_0242ac1c0002row0_col11,#T_698be840_2bf5_11ec_9e0f_0242ac1c0002row4_col18,#T_698be840_2bf5_11ec_9e0f_0242ac1c0002row16_col12{\n",
              "            background-color:  #8badfd;\n",
              "            color:  #000000;\n",
              "        }#T_698be840_2bf5_11ec_9e0f_0242ac1c0002row0_col2{\n",
              "            background-color:  #d3dbe7;\n",
              "            color:  #000000;\n",
              "        }#T_698be840_2bf5_11ec_9e0f_0242ac1c0002row0_col3,#T_698be840_2bf5_11ec_9e0f_0242ac1c0002row8_col15,#T_698be840_2bf5_11ec_9e0f_0242ac1c0002row12_col0,#T_698be840_2bf5_11ec_9e0f_0242ac1c0002row19_col9{\n",
              "            background-color:  #94b6ff;\n",
              "            color:  #000000;\n",
              "        }#T_698be840_2bf5_11ec_9e0f_0242ac1c0002row0_col4,#T_698be840_2bf5_11ec_9e0f_0242ac1c0002row4_col8,#T_698be840_2bf5_11ec_9e0f_0242ac1c0002row9_col11,#T_698be840_2bf5_11ec_9e0f_0242ac1c0002row14_col7,#T_698be840_2bf5_11ec_9e0f_0242ac1c0002row17_col11{\n",
              "            background-color:  #5875e1;\n",
              "            color:  #000000;\n",
              "        }#T_698be840_2bf5_11ec_9e0f_0242ac1c0002row0_col5,#T_698be840_2bf5_11ec_9e0f_0242ac1c0002row1_col15,#T_698be840_2bf5_11ec_9e0f_0242ac1c0002row3_col10,#T_698be840_2bf5_11ec_9e0f_0242ac1c0002row5_col0{\n",
              "            background-color:  #c1d4f4;\n",
              "            color:  #000000;\n",
              "        }#T_698be840_2bf5_11ec_9e0f_0242ac1c0002row0_col6,#T_698be840_2bf5_11ec_9e0f_0242ac1c0002row8_col6,#T_698be840_2bf5_11ec_9e0f_0242ac1c0002row8_col19,#T_698be840_2bf5_11ec_9e0f_0242ac1c0002row9_col14,#T_698be840_2bf5_11ec_9e0f_0242ac1c0002row12_col11{\n",
              "            background-color:  #82a6fb;\n",
              "            color:  #000000;\n",
              "        }#T_698be840_2bf5_11ec_9e0f_0242ac1c0002row0_col7{\n",
              "            background-color:  #e5d8d1;\n",
              "            color:  #000000;\n",
              "        }#T_698be840_2bf5_11ec_9e0f_0242ac1c0002row0_col8,#T_698be840_2bf5_11ec_9e0f_0242ac1c0002row5_col12{\n",
              "            background-color:  #b2ccfb;\n",
              "            color:  #000000;\n",
              "        }#T_698be840_2bf5_11ec_9e0f_0242ac1c0002row0_col9,#T_698be840_2bf5_11ec_9e0f_0242ac1c0002row8_col7,#T_698be840_2bf5_11ec_9e0f_0242ac1c0002row14_col4{\n",
              "            background-color:  #9bbcff;\n",
              "            color:  #000000;\n",
              "        }#T_698be840_2bf5_11ec_9e0f_0242ac1c0002row0_col10,#T_698be840_2bf5_11ec_9e0f_0242ac1c0002row3_col1{\n",
              "            background-color:  #b3cdfb;\n",
              "            color:  #000000;\n",
              "        }#T_698be840_2bf5_11ec_9e0f_0242ac1c0002row0_col12,#T_698be840_2bf5_11ec_9e0f_0242ac1c0002row13_col11{\n",
              "            background-color:  #c0d4f5;\n",
              "            color:  #000000;\n",
              "        }#T_698be840_2bf5_11ec_9e0f_0242ac1c0002row0_col13,#T_698be840_2bf5_11ec_9e0f_0242ac1c0002row3_col2,#T_698be840_2bf5_11ec_9e0f_0242ac1c0002row4_col2,#T_698be840_2bf5_11ec_9e0f_0242ac1c0002row4_col5,#T_698be840_2bf5_11ec_9e0f_0242ac1c0002row6_col11,#T_698be840_2bf5_11ec_9e0f_0242ac1c0002row11_col18,#T_698be840_2bf5_11ec_9e0f_0242ac1c0002row12_col7{\n",
              "            background-color:  #6b8df0;\n",
              "            color:  #000000;\n",
              "        }#T_698be840_2bf5_11ec_9e0f_0242ac1c0002row0_col14,#T_698be840_2bf5_11ec_9e0f_0242ac1c0002row1_col7,#T_698be840_2bf5_11ec_9e0f_0242ac1c0002row3_col14,#T_698be840_2bf5_11ec_9e0f_0242ac1c0002row5_col14{\n",
              "            background-color:  #6282ea;\n",
              "            color:  #000000;\n",
              "        }#T_698be840_2bf5_11ec_9e0f_0242ac1c0002row0_col15,#T_698be840_2bf5_11ec_9e0f_0242ac1c0002row4_col10,#T_698be840_2bf5_11ec_9e0f_0242ac1c0002row5_col7{\n",
              "            background-color:  #92b4fe;\n",
              "            color:  #000000;\n",
              "        }#T_698be840_2bf5_11ec_9e0f_0242ac1c0002row0_col16{\n",
              "            background-color:  #e1dad6;\n",
              "            color:  #000000;\n",
              "        }#T_698be840_2bf5_11ec_9e0f_0242ac1c0002row0_col17,#T_698be840_2bf5_11ec_9e0f_0242ac1c0002row1_col2,#T_698be840_2bf5_11ec_9e0f_0242ac1c0002row1_col14,#T_698be840_2bf5_11ec_9e0f_0242ac1c0002row2_col4,#T_698be840_2bf5_11ec_9e0f_0242ac1c0002row5_col11,#T_698be840_2bf5_11ec_9e0f_0242ac1c0002row5_col16,#T_698be840_2bf5_11ec_9e0f_0242ac1c0002row13_col1,#T_698be840_2bf5_11ec_9e0f_0242ac1c0002row16_col9{\n",
              "            background-color:  #6687ed;\n",
              "            color:  #000000;\n",
              "        }#T_698be840_2bf5_11ec_9e0f_0242ac1c0002row0_col18,#T_698be840_2bf5_11ec_9e0f_0242ac1c0002row3_col15,#T_698be840_2bf5_11ec_9e0f_0242ac1c0002row4_col14{\n",
              "            background-color:  #a3c2fe;\n",
              "            color:  #000000;\n",
              "        }#T_698be840_2bf5_11ec_9e0f_0242ac1c0002row0_col19,#T_698be840_2bf5_11ec_9e0f_0242ac1c0002row7_col6,#T_698be840_2bf5_11ec_9e0f_0242ac1c0002row9_col8,#T_698be840_2bf5_11ec_9e0f_0242ac1c0002row9_col17,#T_698be840_2bf5_11ec_9e0f_0242ac1c0002row11_col16{\n",
              "            background-color:  #89acfd;\n",
              "            color:  #000000;\n",
              "        }#T_698be840_2bf5_11ec_9e0f_0242ac1c0002row1_col0,#T_698be840_2bf5_11ec_9e0f_0242ac1c0002row4_col0,#T_698be840_2bf5_11ec_9e0f_0242ac1c0002row4_col7,#T_698be840_2bf5_11ec_9e0f_0242ac1c0002row13_col14,#T_698be840_2bf5_11ec_9e0f_0242ac1c0002row14_col0,#T_698be840_2bf5_11ec_9e0f_0242ac1c0002row17_col7,#T_698be840_2bf5_11ec_9e0f_0242ac1c0002row17_col8{\n",
              "            background-color:  #536edd;\n",
              "            color:  #000000;\n",
              "        }#T_698be840_2bf5_11ec_9e0f_0242ac1c0002row1_col3,#T_698be840_2bf5_11ec_9e0f_0242ac1c0002row16_col11{\n",
              "            background-color:  #9ebeff;\n",
              "            color:  #000000;\n",
              "        }#T_698be840_2bf5_11ec_9e0f_0242ac1c0002row1_col4,#T_698be840_2bf5_11ec_9e0f_0242ac1c0002row7_col13{\n",
              "            background-color:  #485fd1;\n",
              "            color:  #f1f1f1;\n",
              "        }#T_698be840_2bf5_11ec_9e0f_0242ac1c0002row1_col5,#T_698be840_2bf5_11ec_9e0f_0242ac1c0002row8_col4{\n",
              "            background-color:  #5470de;\n",
              "            color:  #000000;\n",
              "        }#T_698be840_2bf5_11ec_9e0f_0242ac1c0002row1_col6,#T_698be840_2bf5_11ec_9e0f_0242ac1c0002row1_col13,#T_698be840_2bf5_11ec_9e0f_0242ac1c0002row12_col6,#T_698be840_2bf5_11ec_9e0f_0242ac1c0002row17_col5{\n",
              "            background-color:  #4a63d3;\n",
              "            color:  #f1f1f1;\n",
              "        }#T_698be840_2bf5_11ec_9e0f_0242ac1c0002row1_col8,#T_698be840_2bf5_11ec_9e0f_0242ac1c0002row17_col6{\n",
              "            background-color:  #6384eb;\n",
              "            color:  #000000;\n",
              "        }#T_698be840_2bf5_11ec_9e0f_0242ac1c0002row1_col9,#T_698be840_2bf5_11ec_9e0f_0242ac1c0002row8_col18{\n",
              "            background-color:  #adc9fd;\n",
              "            color:  #000000;\n",
              "        }#T_698be840_2bf5_11ec_9e0f_0242ac1c0002row1_col10,#T_698be840_2bf5_11ec_9e0f_0242ac1c0002row9_col1,#T_698be840_2bf5_11ec_9e0f_0242ac1c0002row10_col9{\n",
              "            background-color:  #bad0f8;\n",
              "            color:  #000000;\n",
              "        }#T_698be840_2bf5_11ec_9e0f_0242ac1c0002row1_col11,#T_698be840_2bf5_11ec_9e0f_0242ac1c0002row6_col7,#T_698be840_2bf5_11ec_9e0f_0242ac1c0002row9_col13,#T_698be840_2bf5_11ec_9e0f_0242ac1c0002row10_col11,#T_698be840_2bf5_11ec_9e0f_0242ac1c0002row16_col3{\n",
              "            background-color:  #516ddb;\n",
              "            color:  #000000;\n",
              "        }#T_698be840_2bf5_11ec_9e0f_0242ac1c0002row1_col12,#T_698be840_2bf5_11ec_9e0f_0242ac1c0002row12_col1,#T_698be840_2bf5_11ec_9e0f_0242ac1c0002row17_col14{\n",
              "            background-color:  #b9d0f9;\n",
              "            color:  #000000;\n",
              "        }#T_698be840_2bf5_11ec_9e0f_0242ac1c0002row1_col16,#T_698be840_2bf5_11ec_9e0f_0242ac1c0002row6_col8,#T_698be840_2bf5_11ec_9e0f_0242ac1c0002row13_col19{\n",
              "            background-color:  #445acc;\n",
              "            color:  #f1f1f1;\n",
              "        }#T_698be840_2bf5_11ec_9e0f_0242ac1c0002row1_col17,#T_698be840_2bf5_11ec_9e0f_0242ac1c0002row2_col19,#T_698be840_2bf5_11ec_9e0f_0242ac1c0002row12_col5,#T_698be840_2bf5_11ec_9e0f_0242ac1c0002row13_col6{\n",
              "            background-color:  #81a4fb;\n",
              "            color:  #000000;\n",
              "        }#T_698be840_2bf5_11ec_9e0f_0242ac1c0002row1_col18{\n",
              "            background-color:  #f7b396;\n",
              "            color:  #000000;\n",
              "        }#T_698be840_2bf5_11ec_9e0f_0242ac1c0002row1_col19,#T_698be840_2bf5_11ec_9e0f_0242ac1c0002row8_col14,#T_698be840_2bf5_11ec_9e0f_0242ac1c0002row13_col9,#T_698be840_2bf5_11ec_9e0f_0242ac1c0002row19_col14{\n",
              "            background-color:  #5b7ae5;\n",
              "            color:  #000000;\n",
              "        }#T_698be840_2bf5_11ec_9e0f_0242ac1c0002row2_col0{\n",
              "            background-color:  #cdd9ec;\n",
              "            color:  #000000;\n",
              "        }#T_698be840_2bf5_11ec_9e0f_0242ac1c0002row2_col1,#T_698be840_2bf5_11ec_9e0f_0242ac1c0002row5_col15,#T_698be840_2bf5_11ec_9e0f_0242ac1c0002row7_col12,#T_698be840_2bf5_11ec_9e0f_0242ac1c0002row9_col3,#T_698be840_2bf5_11ec_9e0f_0242ac1c0002row11_col6{\n",
              "            background-color:  #93b5fe;\n",
              "            color:  #000000;\n",
              "        }#T_698be840_2bf5_11ec_9e0f_0242ac1c0002row2_col3,#T_698be840_2bf5_11ec_9e0f_0242ac1c0002row3_col17,#T_698be840_2bf5_11ec_9e0f_0242ac1c0002row19_col6{\n",
              "            background-color:  #7ea1fa;\n",
              "            color:  #000000;\n",
              "        }#T_698be840_2bf5_11ec_9e0f_0242ac1c0002row2_col5{\n",
              "            background-color:  #d2dbe8;\n",
              "            color:  #000000;\n",
              "        }#T_698be840_2bf5_11ec_9e0f_0242ac1c0002row2_col6,#T_698be840_2bf5_11ec_9e0f_0242ac1c0002row2_col7,#T_698be840_2bf5_11ec_9e0f_0242ac1c0002row3_col0,#T_698be840_2bf5_11ec_9e0f_0242ac1c0002row4_col17,#T_698be840_2bf5_11ec_9e0f_0242ac1c0002row10_col14{\n",
              "            background-color:  #799cf8;\n",
              "            color:  #000000;\n",
              "        }#T_698be840_2bf5_11ec_9e0f_0242ac1c0002row2_col8{\n",
              "            background-color:  #bed2f6;\n",
              "            color:  #000000;\n",
              "        }#T_698be840_2bf5_11ec_9e0f_0242ac1c0002row2_col9{\n",
              "            background-color:  #dadce0;\n",
              "            color:  #000000;\n",
              "        }#T_698be840_2bf5_11ec_9e0f_0242ac1c0002row2_col10,#T_698be840_2bf5_11ec_9e0f_0242ac1c0002row5_col10,#T_698be840_2bf5_11ec_9e0f_0242ac1c0002row10_col15{\n",
              "            background-color:  #b7cff9;\n",
              "            color:  #000000;\n",
              "        }#T_698be840_2bf5_11ec_9e0f_0242ac1c0002row2_col11,#T_698be840_2bf5_11ec_9e0f_0242ac1c0002row5_col6,#T_698be840_2bf5_11ec_9e0f_0242ac1c0002row7_col5,#T_698be840_2bf5_11ec_9e0f_0242ac1c0002row7_col9,#T_698be840_2bf5_11ec_9e0f_0242ac1c0002row10_col2,#T_698be840_2bf5_11ec_9e0f_0242ac1c0002row12_col13,#T_698be840_2bf5_11ec_9e0f_0242ac1c0002row15_col14{\n",
              "            background-color:  #84a7fc;\n",
              "            color:  #000000;\n",
              "        }#T_698be840_2bf5_11ec_9e0f_0242ac1c0002row2_col12{\n",
              "            background-color:  #edd1c2;\n",
              "            color:  #000000;\n",
              "        }#T_698be840_2bf5_11ec_9e0f_0242ac1c0002row2_col13,#T_698be840_2bf5_11ec_9e0f_0242ac1c0002row11_col2,#T_698be840_2bf5_11ec_9e0f_0242ac1c0002row14_col3{\n",
              "            background-color:  #7093f3;\n",
              "            color:  #000000;\n",
              "        }#T_698be840_2bf5_11ec_9e0f_0242ac1c0002row2_col14,#T_698be840_2bf5_11ec_9e0f_0242ac1c0002row5_col17,#T_698be840_2bf5_11ec_9e0f_0242ac1c0002row15_col8,#T_698be840_2bf5_11ec_9e0f_0242ac1c0002row15_col19,#T_698be840_2bf5_11ec_9e0f_0242ac1c0002row18_col17,#T_698be840_2bf5_11ec_9e0f_0242ac1c0002row19_col17{\n",
              "            background-color:  #6a8bef;\n",
              "            color:  #000000;\n",
              "        }#T_698be840_2bf5_11ec_9e0f_0242ac1c0002row2_col15,#T_698be840_2bf5_11ec_9e0f_0242ac1c0002row10_col18,#T_698be840_2bf5_11ec_9e0f_0242ac1c0002row12_col10{\n",
              "            background-color:  #c6d6f1;\n",
              "            color:  #000000;\n",
              "        }#T_698be840_2bf5_11ec_9e0f_0242ac1c0002row2_col16,#T_698be840_2bf5_11ec_9e0f_0242ac1c0002row2_col17,#T_698be840_2bf5_11ec_9e0f_0242ac1c0002row5_col4,#T_698be840_2bf5_11ec_9e0f_0242ac1c0002row7_col19,#T_698be840_2bf5_11ec_9e0f_0242ac1c0002row10_col7,#T_698be840_2bf5_11ec_9e0f_0242ac1c0002row13_col16{\n",
              "            background-color:  #7295f4;\n",
              "            color:  #000000;\n",
              "        }#T_698be840_2bf5_11ec_9e0f_0242ac1c0002row2_col18{\n",
              "            background-color:  #b5cdfa;\n",
              "            color:  #000000;\n",
              "        }#T_698be840_2bf5_11ec_9e0f_0242ac1c0002row3_col4,#T_698be840_2bf5_11ec_9e0f_0242ac1c0002row15_col16,#T_698be840_2bf5_11ec_9e0f_0242ac1c0002row17_col0{\n",
              "            background-color:  #455cce;\n",
              "            color:  #f1f1f1;\n",
              "        }#T_698be840_2bf5_11ec_9e0f_0242ac1c0002row3_col5,#T_698be840_2bf5_11ec_9e0f_0242ac1c0002row18_col8{\n",
              "            background-color:  #7a9df8;\n",
              "            color:  #000000;\n",
              "        }#T_698be840_2bf5_11ec_9e0f_0242ac1c0002row3_col6,#T_698be840_2bf5_11ec_9e0f_0242ac1c0002row9_col7,#T_698be840_2bf5_11ec_9e0f_0242ac1c0002row11_col1,#T_698be840_2bf5_11ec_9e0f_0242ac1c0002row11_col15,#T_698be840_2bf5_11ec_9e0f_0242ac1c0002row14_col11{\n",
              "            background-color:  #6c8ff1;\n",
              "            color:  #000000;\n",
              "        }#T_698be840_2bf5_11ec_9e0f_0242ac1c0002row3_col7,#T_698be840_2bf5_11ec_9e0f_0242ac1c0002row8_col3,#T_698be840_2bf5_11ec_9e0f_0242ac1c0002row8_col9,#T_698be840_2bf5_11ec_9e0f_0242ac1c0002row10_col3{\n",
              "            background-color:  #a2c1ff;\n",
              "            color:  #000000;\n",
              "        }#T_698be840_2bf5_11ec_9e0f_0242ac1c0002row3_col8,#T_698be840_2bf5_11ec_9e0f_0242ac1c0002row8_col1,#T_698be840_2bf5_11ec_9e0f_0242ac1c0002row12_col3{\n",
              "            background-color:  #90b2fe;\n",
              "            color:  #000000;\n",
              "        }#T_698be840_2bf5_11ec_9e0f_0242ac1c0002row3_col9,#T_698be840_2bf5_11ec_9e0f_0242ac1c0002row11_col12,#T_698be840_2bf5_11ec_9e0f_0242ac1c0002row12_col17{\n",
              "            background-color:  #9abbff;\n",
              "            color:  #000000;\n",
              "        }#T_698be840_2bf5_11ec_9e0f_0242ac1c0002row3_col11,#T_698be840_2bf5_11ec_9e0f_0242ac1c0002row3_col13,#T_698be840_2bf5_11ec_9e0f_0242ac1c0002row3_col16,#T_698be840_2bf5_11ec_9e0f_0242ac1c0002row6_col0,#T_698be840_2bf5_11ec_9e0f_0242ac1c0002row6_col1,#T_698be840_2bf5_11ec_9e0f_0242ac1c0002row6_col2,#T_698be840_2bf5_11ec_9e0f_0242ac1c0002row6_col4,#T_698be840_2bf5_11ec_9e0f_0242ac1c0002row6_col5,#T_698be840_2bf5_11ec_9e0f_0242ac1c0002row6_col9,#T_698be840_2bf5_11ec_9e0f_0242ac1c0002row6_col10,#T_698be840_2bf5_11ec_9e0f_0242ac1c0002row6_col12,#T_698be840_2bf5_11ec_9e0f_0242ac1c0002row6_col14,#T_698be840_2bf5_11ec_9e0f_0242ac1c0002row6_col15,#T_698be840_2bf5_11ec_9e0f_0242ac1c0002row6_col17,#T_698be840_2bf5_11ec_9e0f_0242ac1c0002row6_col18,#T_698be840_2bf5_11ec_9e0f_0242ac1c0002row6_col19,#T_698be840_2bf5_11ec_9e0f_0242ac1c0002row10_col6,#T_698be840_2bf5_11ec_9e0f_0242ac1c0002row11_col3,#T_698be840_2bf5_11ec_9e0f_0242ac1c0002row11_col8,#T_698be840_2bf5_11ec_9e0f_0242ac1c0002row13_col7,#T_698be840_2bf5_11ec_9e0f_0242ac1c0002row13_col8{\n",
              "            background-color:  #3b4cc0;\n",
              "            color:  #f1f1f1;\n",
              "        }#T_698be840_2bf5_11ec_9e0f_0242ac1c0002row3_col12,#T_698be840_2bf5_11ec_9e0f_0242ac1c0002row5_col18,#T_698be840_2bf5_11ec_9e0f_0242ac1c0002row7_col10,#T_698be840_2bf5_11ec_9e0f_0242ac1c0002row19_col12{\n",
              "            background-color:  #a6c4fe;\n",
              "            color:  #000000;\n",
              "        }#T_698be840_2bf5_11ec_9e0f_0242ac1c0002row3_col18{\n",
              "            background-color:  #c7d7f0;\n",
              "            color:  #000000;\n",
              "        }#T_698be840_2bf5_11ec_9e0f_0242ac1c0002row3_col19,#T_698be840_2bf5_11ec_9e0f_0242ac1c0002row16_col2{\n",
              "            background-color:  #7699f6;\n",
              "            color:  #000000;\n",
              "        }#T_698be840_2bf5_11ec_9e0f_0242ac1c0002row4_col1,#T_698be840_2bf5_11ec_9e0f_0242ac1c0002row16_col18,#T_698be840_2bf5_11ec_9e0f_0242ac1c0002row19_col7{\n",
              "            background-color:  #7b9ff9;\n",
              "            color:  #000000;\n",
              "        }#T_698be840_2bf5_11ec_9e0f_0242ac1c0002row4_col3,#T_698be840_2bf5_11ec_9e0f_0242ac1c0002row11_col14,#T_698be840_2bf5_11ec_9e0f_0242ac1c0002row13_col4,#T_698be840_2bf5_11ec_9e0f_0242ac1c0002row15_col0,#T_698be840_2bf5_11ec_9e0f_0242ac1c0002row15_col5,#T_698be840_2bf5_11ec_9e0f_0242ac1c0002row15_col7,#T_698be840_2bf5_11ec_9e0f_0242ac1c0002row16_col5,#T_698be840_2bf5_11ec_9e0f_0242ac1c0002row17_col4{\n",
              "            background-color:  #5e7de7;\n",
              "            color:  #000000;\n",
              "        }#T_698be840_2bf5_11ec_9e0f_0242ac1c0002row4_col6,#T_698be840_2bf5_11ec_9e0f_0242ac1c0002row9_col5,#T_698be840_2bf5_11ec_9e0f_0242ac1c0002row11_col10,#T_698be840_2bf5_11ec_9e0f_0242ac1c0002row17_col3{\n",
              "            background-color:  #7da0f9;\n",
              "            color:  #000000;\n",
              "        }#T_698be840_2bf5_11ec_9e0f_0242ac1c0002row4_col9,#T_698be840_2bf5_11ec_9e0f_0242ac1c0002row12_col8,#T_698be840_2bf5_11ec_9e0f_0242ac1c0002row19_col5{\n",
              "            background-color:  #80a3fa;\n",
              "            color:  #000000;\n",
              "        }#T_698be840_2bf5_11ec_9e0f_0242ac1c0002row4_col11,#T_698be840_2bf5_11ec_9e0f_0242ac1c0002row9_col0,#T_698be840_2bf5_11ec_9e0f_0242ac1c0002row10_col5,#T_698be840_2bf5_11ec_9e0f_0242ac1c0002row12_col19,#T_698be840_2bf5_11ec_9e0f_0242ac1c0002row16_col1{\n",
              "            background-color:  #779af7;\n",
              "            color:  #000000;\n",
              "        }#T_698be840_2bf5_11ec_9e0f_0242ac1c0002row4_col12,#T_698be840_2bf5_11ec_9e0f_0242ac1c0002row5_col3,#T_698be840_2bf5_11ec_9e0f_0242ac1c0002row14_col9,#T_698be840_2bf5_11ec_9e0f_0242ac1c0002row15_col17{\n",
              "            background-color:  #97b8ff;\n",
              "            color:  #000000;\n",
              "        }#T_698be840_2bf5_11ec_9e0f_0242ac1c0002row4_col13,#T_698be840_2bf5_11ec_9e0f_0242ac1c0002row7_col2,#T_698be840_2bf5_11ec_9e0f_0242ac1c0002row9_col19,#T_698be840_2bf5_11ec_9e0f_0242ac1c0002row10_col19,#T_698be840_2bf5_11ec_9e0f_0242ac1c0002row13_col10,#T_698be840_2bf5_11ec_9e0f_0242ac1c0002row18_col7{\n",
              "            background-color:  #7597f6;\n",
              "            color:  #000000;\n",
              "        }#T_698be840_2bf5_11ec_9e0f_0242ac1c0002row4_col15,#T_698be840_2bf5_11ec_9e0f_0242ac1c0002row10_col8,#T_698be840_2bf5_11ec_9e0f_0242ac1c0002row16_col10,#T_698be840_2bf5_11ec_9e0f_0242ac1c0002row16_col13{\n",
              "            background-color:  #88abfd;\n",
              "            color:  #000000;\n",
              "        }#T_698be840_2bf5_11ec_9e0f_0242ac1c0002row4_col16,#T_698be840_2bf5_11ec_9e0f_0242ac1c0002row12_col16,#T_698be840_2bf5_11ec_9e0f_0242ac1c0002row17_col13{\n",
              "            background-color:  #5a78e4;\n",
              "            color:  #000000;\n",
              "        }#T_698be840_2bf5_11ec_9e0f_0242ac1c0002row4_col19,#T_698be840_2bf5_11ec_9e0f_0242ac1c0002row10_col4,#T_698be840_2bf5_11ec_9e0f_0242ac1c0002row13_col5,#T_698be840_2bf5_11ec_9e0f_0242ac1c0002row14_col5,#T_698be840_2bf5_11ec_9e0f_0242ac1c0002row14_col19,#T_698be840_2bf5_11ec_9e0f_0242ac1c0002row19_col4{\n",
              "            background-color:  #506bda;\n",
              "            color:  #000000;\n",
              "        }#T_698be840_2bf5_11ec_9e0f_0242ac1c0002row5_col1,#T_698be840_2bf5_11ec_9e0f_0242ac1c0002row7_col1,#T_698be840_2bf5_11ec_9e0f_0242ac1c0002row10_col17,#T_698be840_2bf5_11ec_9e0f_0242ac1c0002row16_col6,#T_698be840_2bf5_11ec_9e0f_0242ac1c0002row17_col18{\n",
              "            background-color:  #8caffe;\n",
              "            color:  #000000;\n",
              "        }#T_698be840_2bf5_11ec_9e0f_0242ac1c0002row5_col2{\n",
              "            background-color:  #d8dce2;\n",
              "            color:  #000000;\n",
              "        }#T_698be840_2bf5_11ec_9e0f_0242ac1c0002row5_col8{\n",
              "            background-color:  #d85646;\n",
              "            color:  #000000;\n",
              "        }#T_698be840_2bf5_11ec_9e0f_0242ac1c0002row5_col9{\n",
              "            background-color:  #9fbfff;\n",
              "            color:  #000000;\n",
              "        }#T_698be840_2bf5_11ec_9e0f_0242ac1c0002row5_col13,#T_698be840_2bf5_11ec_9e0f_0242ac1c0002row11_col0{\n",
              "            background-color:  #6e90f2;\n",
              "            color:  #000000;\n",
              "        }#T_698be840_2bf5_11ec_9e0f_0242ac1c0002row5_col19,#T_698be840_2bf5_11ec_9e0f_0242ac1c0002row7_col15,#T_698be840_2bf5_11ec_9e0f_0242ac1c0002row12_col14,#T_698be840_2bf5_11ec_9e0f_0242ac1c0002row18_col2,#T_698be840_2bf5_11ec_9e0f_0242ac1c0002row19_col0{\n",
              "            background-color:  #85a8fc;\n",
              "            color:  #000000;\n",
              "        }#T_698be840_2bf5_11ec_9e0f_0242ac1c0002row6_col3{\n",
              "            background-color:  #4055c8;\n",
              "            color:  #f1f1f1;\n",
              "        }#T_698be840_2bf5_11ec_9e0f_0242ac1c0002row6_col13,#T_698be840_2bf5_11ec_9e0f_0242ac1c0002row14_col8,#T_698be840_2bf5_11ec_9e0f_0242ac1c0002row15_col11{\n",
              "            background-color:  #5572df;\n",
              "            color:  #000000;\n",
              "        }#T_698be840_2bf5_11ec_9e0f_0242ac1c0002row6_col16,#T_698be840_2bf5_11ec_9e0f_0242ac1c0002row11_col19{\n",
              "            background-color:  #4b64d5;\n",
              "            color:  #f1f1f1;\n",
              "        }#T_698be840_2bf5_11ec_9e0f_0242ac1c0002row7_col0,#T_698be840_2bf5_11ec_9e0f_0242ac1c0002row16_col0{\n",
              "            background-color:  #dfdbd9;\n",
              "            color:  #000000;\n",
              "        }#T_698be840_2bf5_11ec_9e0f_0242ac1c0002row7_col3,#T_698be840_2bf5_11ec_9e0f_0242ac1c0002row10_col1,#T_698be840_2bf5_11ec_9e0f_0242ac1c0002row17_col10,#T_698be840_2bf5_11ec_9e0f_0242ac1c0002row17_col12,#T_698be840_2bf5_11ec_9e0f_0242ac1c0002row18_col3{\n",
              "            background-color:  #aec9fc;\n",
              "            color:  #000000;\n",
              "        }#T_698be840_2bf5_11ec_9e0f_0242ac1c0002row7_col4,#T_698be840_2bf5_11ec_9e0f_0242ac1c0002row8_col16,#T_698be840_2bf5_11ec_9e0f_0242ac1c0002row10_col13{\n",
              "            background-color:  #4961d2;\n",
              "            color:  #f1f1f1;\n",
              "        }#T_698be840_2bf5_11ec_9e0f_0242ac1c0002row7_col8,#T_698be840_2bf5_11ec_9e0f_0242ac1c0002row14_col18{\n",
              "            background-color:  #96b7ff;\n",
              "            color:  #000000;\n",
              "        }#T_698be840_2bf5_11ec_9e0f_0242ac1c0002row7_col11,#T_698be840_2bf5_11ec_9e0f_0242ac1c0002row14_col16,#T_698be840_2bf5_11ec_9e0f_0242ac1c0002row16_col8{\n",
              "            background-color:  #4c66d6;\n",
              "            color:  #000000;\n",
              "        }#T_698be840_2bf5_11ec_9e0f_0242ac1c0002row7_col14,#T_698be840_2bf5_11ec_9e0f_0242ac1c0002row11_col17,#T_698be840_2bf5_11ec_9e0f_0242ac1c0002row15_col4,#T_698be840_2bf5_11ec_9e0f_0242ac1c0002row16_col4{\n",
              "            background-color:  #5977e3;\n",
              "            color:  #000000;\n",
              "        }#T_698be840_2bf5_11ec_9e0f_0242ac1c0002row7_col16,#T_698be840_2bf5_11ec_9e0f_0242ac1c0002row8_col11,#T_698be840_2bf5_11ec_9e0f_0242ac1c0002row13_col0,#T_698be840_2bf5_11ec_9e0f_0242ac1c0002row15_col13,#T_698be840_2bf5_11ec_9e0f_0242ac1c0002row17_col19,#T_698be840_2bf5_11ec_9e0f_0242ac1c0002row19_col16{\n",
              "            background-color:  #4f69d9;\n",
              "            color:  #000000;\n",
              "        }#T_698be840_2bf5_11ec_9e0f_0242ac1c0002row7_col17,#T_698be840_2bf5_11ec_9e0f_0242ac1c0002row13_col18,#T_698be840_2bf5_11ec_9e0f_0242ac1c0002row14_col2,#T_698be840_2bf5_11ec_9e0f_0242ac1c0002row18_col0,#T_698be840_2bf5_11ec_9e0f_0242ac1c0002row18_col14,#T_698be840_2bf5_11ec_9e0f_0242ac1c0002row19_col11{\n",
              "            background-color:  #6485ec;\n",
              "            color:  #000000;\n",
              "        }#T_698be840_2bf5_11ec_9e0f_0242ac1c0002row7_col18,#T_698be840_2bf5_11ec_9e0f_0242ac1c0002row14_col15{\n",
              "            background-color:  #a5c3fe;\n",
              "            color:  #000000;\n",
              "        }#T_698be840_2bf5_11ec_9e0f_0242ac1c0002row8_col0,#T_698be840_2bf5_11ec_9e0f_0242ac1c0002row14_col10,#T_698be840_2bf5_11ec_9e0f_0242ac1c0002row17_col15{\n",
              "            background-color:  #aac7fd;\n",
              "            color:  #000000;\n",
              "        }#T_698be840_2bf5_11ec_9e0f_0242ac1c0002row8_col2,#T_698be840_2bf5_11ec_9e0f_0242ac1c0002row11_col13{\n",
              "            background-color:  #bfd3f6;\n",
              "            color:  #000000;\n",
              "        }#T_698be840_2bf5_11ec_9e0f_0242ac1c0002row8_col5{\n",
              "            background-color:  #d95847;\n",
              "            color:  #000000;\n",
              "        }#T_698be840_2bf5_11ec_9e0f_0242ac1c0002row8_col10{\n",
              "            background-color:  #bbd1f8;\n",
              "            color:  #000000;\n",
              "        }#T_698be840_2bf5_11ec_9e0f_0242ac1c0002row8_col12,#T_698be840_2bf5_11ec_9e0f_0242ac1c0002row14_col12{\n",
              "            background-color:  #a9c6fd;\n",
              "            color:  #000000;\n",
              "        }#T_698be840_2bf5_11ec_9e0f_0242ac1c0002row8_col13,#T_698be840_2bf5_11ec_9e0f_0242ac1c0002row15_col6,#T_698be840_2bf5_11ec_9e0f_0242ac1c0002row16_col19,#T_698be840_2bf5_11ec_9e0f_0242ac1c0002row18_col4{\n",
              "            background-color:  #4e68d8;\n",
              "            color:  #000000;\n",
              "        }#T_698be840_2bf5_11ec_9e0f_0242ac1c0002row8_col17,#T_698be840_2bf5_11ec_9e0f_0242ac1c0002row13_col15{\n",
              "            background-color:  #688aef;\n",
              "            color:  #000000;\n",
              "        }#T_698be840_2bf5_11ec_9e0f_0242ac1c0002row9_col2{\n",
              "            background-color:  #ccd9ed;\n",
              "            color:  #000000;\n",
              "        }#T_698be840_2bf5_11ec_9e0f_0242ac1c0002row9_col4,#T_698be840_2bf5_11ec_9e0f_0242ac1c0002row11_col4,#T_698be840_2bf5_11ec_9e0f_0242ac1c0002row13_col2,#T_698be840_2bf5_11ec_9e0f_0242ac1c0002row14_col13,#T_698be840_2bf5_11ec_9e0f_0242ac1c0002row16_col17{\n",
              "            background-color:  #5f7fe8;\n",
              "            color:  #000000;\n",
              "        }#T_698be840_2bf5_11ec_9e0f_0242ac1c0002row9_col6,#T_698be840_2bf5_11ec_9e0f_0242ac1c0002row13_col17,#T_698be840_2bf5_11ec_9e0f_0242ac1c0002row17_col2,#T_698be840_2bf5_11ec_9e0f_0242ac1c0002row19_col13{\n",
              "            background-color:  #5d7ce6;\n",
              "            color:  #000000;\n",
              "        }#T_698be840_2bf5_11ec_9e0f_0242ac1c0002row9_col10{\n",
              "            background-color:  #cedaeb;\n",
              "            color:  #000000;\n",
              "        }#T_698be840_2bf5_11ec_9e0f_0242ac1c0002row9_col12{\n",
              "            background-color:  #f59c7d;\n",
              "            color:  #000000;\n",
              "        }#T_698be840_2bf5_11ec_9e0f_0242ac1c0002row9_col15,#T_698be840_2bf5_11ec_9e0f_0242ac1c0002row15_col12{\n",
              "            background-color:  #e57058;\n",
              "            color:  #000000;\n",
              "        }#T_698be840_2bf5_11ec_9e0f_0242ac1c0002row9_col16,#T_698be840_2bf5_11ec_9e0f_0242ac1c0002row10_col16,#T_698be840_2bf5_11ec_9e0f_0242ac1c0002row11_col5,#T_698be840_2bf5_11ec_9e0f_0242ac1c0002row17_col16,#T_698be840_2bf5_11ec_9e0f_0242ac1c0002row18_col11{\n",
              "            background-color:  #465ecf;\n",
              "            color:  #f1f1f1;\n",
              "        }#T_698be840_2bf5_11ec_9e0f_0242ac1c0002row9_col18{\n",
              "            background-color:  #f2cbb7;\n",
              "            color:  #000000;\n",
              "        }#T_698be840_2bf5_11ec_9e0f_0242ac1c0002row10_col0,#T_698be840_2bf5_11ec_9e0f_0242ac1c0002row14_col6,#T_698be840_2bf5_11ec_9e0f_0242ac1c0002row16_col15{\n",
              "            background-color:  #7396f5;\n",
              "            color:  #000000;\n",
              "        }#T_698be840_2bf5_11ec_9e0f_0242ac1c0002row10_col12{\n",
              "            background-color:  #bcd2f7;\n",
              "            color:  #000000;\n",
              "        }#T_698be840_2bf5_11ec_9e0f_0242ac1c0002row11_col7{\n",
              "            background-color:  #3d50c3;\n",
              "            color:  #f1f1f1;\n",
              "        }#T_698be840_2bf5_11ec_9e0f_0242ac1c0002row11_col9{\n",
              "            background-color:  #6180e9;\n",
              "            color:  #000000;\n",
              "        }#T_698be840_2bf5_11ec_9e0f_0242ac1c0002row12_col2{\n",
              "            background-color:  #dddcdc;\n",
              "            color:  #000000;\n",
              "        }#T_698be840_2bf5_11ec_9e0f_0242ac1c0002row12_col4,#T_698be840_2bf5_11ec_9e0f_0242ac1c0002row18_col5{\n",
              "            background-color:  #6788ee;\n",
              "            color:  #000000;\n",
              "        }#T_698be840_2bf5_11ec_9e0f_0242ac1c0002row12_col9{\n",
              "            background-color:  #f6a283;\n",
              "            color:  #000000;\n",
              "        }#T_698be840_2bf5_11ec_9e0f_0242ac1c0002row12_col15{\n",
              "            background-color:  #e67259;\n",
              "            color:  #000000;\n",
              "        }#T_698be840_2bf5_11ec_9e0f_0242ac1c0002row12_col18{\n",
              "            background-color:  #efcebd;\n",
              "            color:  #000000;\n",
              "        }#T_698be840_2bf5_11ec_9e0f_0242ac1c0002row13_col3{\n",
              "            background-color:  #3c4ec2;\n",
              "            color:  #f1f1f1;\n",
              "        }#T_698be840_2bf5_11ec_9e0f_0242ac1c0002row13_col12{\n",
              "            background-color:  #9dbdff;\n",
              "            color:  #000000;\n",
              "        }#T_698be840_2bf5_11ec_9e0f_0242ac1c0002row14_col1,#T_698be840_2bf5_11ec_9e0f_0242ac1c0002row19_col3{\n",
              "            background-color:  #8db0fe;\n",
              "            color:  #000000;\n",
              "        }#T_698be840_2bf5_11ec_9e0f_0242ac1c0002row14_col17,#T_698be840_2bf5_11ec_9e0f_0242ac1c0002row15_col1,#T_698be840_2bf5_11ec_9e0f_0242ac1c0002row15_col10{\n",
              "            background-color:  #c4d5f3;\n",
              "            color:  #000000;\n",
              "        }#T_698be840_2bf5_11ec_9e0f_0242ac1c0002row15_col2,#T_698be840_2bf5_11ec_9e0f_0242ac1c0002row19_col18{\n",
              "            background-color:  #a7c5fe;\n",
              "            color:  #000000;\n",
              "        }#T_698be840_2bf5_11ec_9e0f_0242ac1c0002row15_col3,#T_698be840_2bf5_11ec_9e0f_0242ac1c0002row17_col9,#T_698be840_2bf5_11ec_9e0f_0242ac1c0002row19_col1{\n",
              "            background-color:  #8fb1fe;\n",
              "            color:  #000000;\n",
              "        }#T_698be840_2bf5_11ec_9e0f_0242ac1c0002row15_col9{\n",
              "            background-color:  #e8765c;\n",
              "            color:  #000000;\n",
              "        }#T_698be840_2bf5_11ec_9e0f_0242ac1c0002row15_col18{\n",
              "            background-color:  #f7b194;\n",
              "            color:  #000000;\n",
              "        }#T_698be840_2bf5_11ec_9e0f_0242ac1c0002row16_col7,#T_698be840_2bf5_11ec_9e0f_0242ac1c0002row16_col14{\n",
              "            background-color:  #5673e0;\n",
              "            color:  #000000;\n",
              "        }#T_698be840_2bf5_11ec_9e0f_0242ac1c0002row17_col1,#T_698be840_2bf5_11ec_9e0f_0242ac1c0002row19_col15{\n",
              "            background-color:  #98b9ff;\n",
              "            color:  #000000;\n",
              "        }#T_698be840_2bf5_11ec_9e0f_0242ac1c0002row18_col1,#T_698be840_2bf5_11ec_9e0f_0242ac1c0002row18_col15{\n",
              "            background-color:  #f7b79b;\n",
              "            color:  #000000;\n",
              "        }#T_698be840_2bf5_11ec_9e0f_0242ac1c0002row18_col6,#T_698be840_2bf5_11ec_9e0f_0242ac1c0002row18_col16{\n",
              "            background-color:  #3f53c6;\n",
              "            color:  #f1f1f1;\n",
              "        }#T_698be840_2bf5_11ec_9e0f_0242ac1c0002row18_col9{\n",
              "            background-color:  #ebd3c6;\n",
              "            color:  #000000;\n",
              "        }#T_698be840_2bf5_11ec_9e0f_0242ac1c0002row18_col10{\n",
              "            background-color:  #cad8ef;\n",
              "            color:  #000000;\n",
              "        }#T_698be840_2bf5_11ec_9e0f_0242ac1c0002row18_col12{\n",
              "            background-color:  #edd2c3;\n",
              "            color:  #000000;\n",
              "        }#T_698be840_2bf5_11ec_9e0f_0242ac1c0002row18_col13{\n",
              "            background-color:  #3e51c5;\n",
              "            color:  #f1f1f1;\n",
              "        }#T_698be840_2bf5_11ec_9e0f_0242ac1c0002row18_col19{\n",
              "            background-color:  #6f92f3;\n",
              "            color:  #000000;\n",
              "        }#T_698be840_2bf5_11ec_9e0f_0242ac1c0002row19_col2,#T_698be840_2bf5_11ec_9e0f_0242ac1c0002row19_col8{\n",
              "            background-color:  #86a9fc;\n",
              "            color:  #000000;\n",
              "        }#T_698be840_2bf5_11ec_9e0f_0242ac1c0002row19_col10{\n",
              "            background-color:  #afcafc;\n",
              "            color:  #000000;\n",
              "        }</style><table id=\"T_698be840_2bf5_11ec_9e0f_0242ac1c0002\" ><thead>    <tr>        <th class=\"blank level0\" ></th>        <th class=\"col_heading level0 col0\" >cred_sum_cc_all</th>        <th class=\"col_heading level0 col1\" >mfo_inqs_count_month</th>        <th class=\"col_heading level0 col2\" >all_closed_creds_sum_all</th>        <th class=\"col_heading level0 col3\" >bank_inqs_count_quarter</th>        <th class=\"col_heading level0 col4\" >cred_max_overdue_max_ly</th>        <th class=\"col_heading level0 col5\" >all_active_creds_sum_all</th>        <th class=\"col_heading level0 col6\" >mfo_last_days_all</th>        <th class=\"col_heading level0 col7\" >cred_sum_cc_ly</th>        <th class=\"col_heading level0 col8\" >cred_sum_debt_all_all</th>        <th class=\"col_heading level0 col9\" >all_closed_creds_sum_ly</th>        <th class=\"col_heading level0 col10\" >mfo_cred_mean_sum_3lm</th>        <th class=\"col_heading level0 col11\" >delay_more_sum_all</th>        <th class=\"col_heading level0 col12\" >all_creds_count_all</th>        <th class=\"col_heading level0 col13\" >cred_day_overdue_all_sum_all</th>        <th class=\"col_heading level0 col14\" >cred_max_overdue_max_3lm</th>        <th class=\"col_heading level0 col15\" >mfo_closed_count_ly</th>        <th class=\"col_heading level0 col16\" >cred_sum_overdue_cc_all</th>        <th class=\"col_heading level0 col17\" >count_overdue_all_3lm</th>        <th class=\"col_heading level0 col18\" >all_creds_count_lm</th>        <th class=\"col_heading level0 col19\" >month_income</th>    </tr></thead><tbody>\n",
              "                <tr>\n",
              "                        <th id=\"T_698be840_2bf5_11ec_9e0f_0242ac1c0002level0_row0\" class=\"row_heading level0 row0\" >cred_sum_cc_all</th>\n",
              "                        <td id=\"T_698be840_2bf5_11ec_9e0f_0242ac1c0002row0_col0\" class=\"data row0 col0\" >1.000000</td>\n",
              "                        <td id=\"T_698be840_2bf5_11ec_9e0f_0242ac1c0002row0_col1\" class=\"data row0 col1\" >0.058677</td>\n",
              "                        <td id=\"T_698be840_2bf5_11ec_9e0f_0242ac1c0002row0_col2\" class=\"data row0 col2\" >0.431347</td>\n",
              "                        <td id=\"T_698be840_2bf5_11ec_9e0f_0242ac1c0002row0_col3\" class=\"data row0 col3\" >0.172815</td>\n",
              "                        <td id=\"T_698be840_2bf5_11ec_9e0f_0242ac1c0002row0_col4\" class=\"data row0 col4\" >0.056833</td>\n",
              "                        <td id=\"T_698be840_2bf5_11ec_9e0f_0242ac1c0002row0_col5\" class=\"data row0 col5\" >0.390021</td>\n",
              "                        <td id=\"T_698be840_2bf5_11ec_9e0f_0242ac1c0002row0_col6\" class=\"data row0 col6\" >-0.024244</td>\n",
              "                        <td id=\"T_698be840_2bf5_11ec_9e0f_0242ac1c0002row0_col7\" class=\"data row0 col7\" >0.496817</td>\n",
              "                        <td id=\"T_698be840_2bf5_11ec_9e0f_0242ac1c0002row0_col8\" class=\"data row0 col8\" >0.318610</td>\n",
              "                        <td id=\"T_698be840_2bf5_11ec_9e0f_0242ac1c0002row0_col9\" class=\"data row0 col9\" >0.171721</td>\n",
              "                        <td id=\"T_698be840_2bf5_11ec_9e0f_0242ac1c0002row0_col10\" class=\"data row0 col10\" >0.158316</td>\n",
              "                        <td id=\"T_698be840_2bf5_11ec_9e0f_0242ac1c0002row0_col11\" class=\"data row0 col11\" >0.140823</td>\n",
              "                        <td id=\"T_698be840_2bf5_11ec_9e0f_0242ac1c0002row0_col12\" class=\"data row0 col12\" >0.252060</td>\n",
              "                        <td id=\"T_698be840_2bf5_11ec_9e0f_0242ac1c0002row0_col13\" class=\"data row0 col13\" >0.044141</td>\n",
              "                        <td id=\"T_698be840_2bf5_11ec_9e0f_0242ac1c0002row0_col14\" class=\"data row0 col14\" >0.056807</td>\n",
              "                        <td id=\"T_698be840_2bf5_11ec_9e0f_0242ac1c0002row0_col15\" class=\"data row0 col15\" >0.093122</td>\n",
              "                        <td id=\"T_698be840_2bf5_11ec_9e0f_0242ac1c0002row0_col16\" class=\"data row0 col16\" >0.496626</td>\n",
              "                        <td id=\"T_698be840_2bf5_11ec_9e0f_0242ac1c0002row0_col17\" class=\"data row0 col17\" >0.015333</td>\n",
              "                        <td id=\"T_698be840_2bf5_11ec_9e0f_0242ac1c0002row0_col18\" class=\"data row0 col18\" >0.113214</td>\n",
              "                        <td id=\"T_698be840_2bf5_11ec_9e0f_0242ac1c0002row0_col19\" class=\"data row0 col19\" >0.207815</td>\n",
              "            </tr>\n",
              "            <tr>\n",
              "                        <th id=\"T_698be840_2bf5_11ec_9e0f_0242ac1c0002level0_row1\" class=\"row_heading level0 row1\" >mfo_inqs_count_month</th>\n",
              "                        <td id=\"T_698be840_2bf5_11ec_9e0f_0242ac1c0002row1_col0\" class=\"data row1 col0\" >0.058677</td>\n",
              "                        <td id=\"T_698be840_2bf5_11ec_9e0f_0242ac1c0002row1_col1\" class=\"data row1 col1\" >1.000000</td>\n",
              "                        <td id=\"T_698be840_2bf5_11ec_9e0f_0242ac1c0002row1_col2\" class=\"data row1 col2\" >0.085077</td>\n",
              "                        <td id=\"T_698be840_2bf5_11ec_9e0f_0242ac1c0002row1_col3\" class=\"data row1 col3\" >0.204674</td>\n",
              "                        <td id=\"T_698be840_2bf5_11ec_9e0f_0242ac1c0002row1_col4\" class=\"data row1 col4\" >0.003307</td>\n",
              "                        <td id=\"T_698be840_2bf5_11ec_9e0f_0242ac1c0002row1_col5\" class=\"data row1 col5\" >0.063175</td>\n",
              "                        <td id=\"T_698be840_2bf5_11ec_9e0f_0242ac1c0002row1_col6\" class=\"data row1 col6\" >-0.246965</td>\n",
              "                        <td id=\"T_698be840_2bf5_11ec_9e0f_0242ac1c0002row1_col7\" class=\"data row1 col7\" >0.059942</td>\n",
              "                        <td id=\"T_698be840_2bf5_11ec_9e0f_0242ac1c0002row1_col8\" class=\"data row1 col8\" >0.078049</td>\n",
              "                        <td id=\"T_698be840_2bf5_11ec_9e0f_0242ac1c0002row1_col9\" class=\"data row1 col9\" >0.229005</td>\n",
              "                        <td id=\"T_698be840_2bf5_11ec_9e0f_0242ac1c0002row1_col10\" class=\"data row1 col10\" >0.185338</td>\n",
              "                        <td id=\"T_698be840_2bf5_11ec_9e0f_0242ac1c0002row1_col11\" class=\"data row1 col11\" >-0.049465</td>\n",
              "                        <td id=\"T_698be840_2bf5_11ec_9e0f_0242ac1c0002row1_col12\" class=\"data row1 col12\" >0.223039</td>\n",
              "                        <td id=\"T_698be840_2bf5_11ec_9e0f_0242ac1c0002row1_col13\" class=\"data row1 col13\" >-0.071696</td>\n",
              "                        <td id=\"T_698be840_2bf5_11ec_9e0f_0242ac1c0002row1_col14\" class=\"data row1 col14\" >0.068533</td>\n",
              "                        <td id=\"T_698be840_2bf5_11ec_9e0f_0242ac1c0002row1_col15\" class=\"data row1 col15\" >0.266253</td>\n",
              "                        <td id=\"T_698be840_2bf5_11ec_9e0f_0242ac1c0002row1_col16\" class=\"data row1 col16\" >-0.012114</td>\n",
              "                        <td id=\"T_698be840_2bf5_11ec_9e0f_0242ac1c0002row1_col17\" class=\"data row1 col17\" >0.104318</td>\n",
              "                        <td id=\"T_698be840_2bf5_11ec_9e0f_0242ac1c0002row1_col18\" class=\"data row1 col18\" >0.588334</td>\n",
              "                        <td id=\"T_698be840_2bf5_11ec_9e0f_0242ac1c0002row1_col19\" class=\"data row1 col19\" >0.070966</td>\n",
              "            </tr>\n",
              "            <tr>\n",
              "                        <th id=\"T_698be840_2bf5_11ec_9e0f_0242ac1c0002level0_row2\" class=\"row_heading level0 row2\" >all_closed_creds_sum_all</th>\n",
              "                        <td id=\"T_698be840_2bf5_11ec_9e0f_0242ac1c0002row2_col0\" class=\"data row2 col0\" >0.431347</td>\n",
              "                        <td id=\"T_698be840_2bf5_11ec_9e0f_0242ac1c0002row2_col1\" class=\"data row2 col1\" >0.085077</td>\n",
              "                        <td id=\"T_698be840_2bf5_11ec_9e0f_0242ac1c0002row2_col2\" class=\"data row2 col2\" >1.000000</td>\n",
              "                        <td id=\"T_698be840_2bf5_11ec_9e0f_0242ac1c0002row2_col3\" class=\"data row2 col3\" >0.100115</td>\n",
              "                        <td id=\"T_698be840_2bf5_11ec_9e0f_0242ac1c0002row2_col4\" class=\"data row2 col4\" >0.102137</td>\n",
              "                        <td id=\"T_698be840_2bf5_11ec_9e0f_0242ac1c0002row2_col5\" class=\"data row2 col5\" >0.448984</td>\n",
              "                        <td id=\"T_698be840_2bf5_11ec_9e0f_0242ac1c0002row2_col6\" class=\"data row2 col6\" >-0.062365</td>\n",
              "                        <td id=\"T_698be840_2bf5_11ec_9e0f_0242ac1c0002row2_col7\" class=\"data row2 col7\" >0.129438</td>\n",
              "                        <td id=\"T_698be840_2bf5_11ec_9e0f_0242ac1c0002row2_col8\" class=\"data row2 col8\" >0.358368</td>\n",
              "                        <td id=\"T_698be840_2bf5_11ec_9e0f_0242ac1c0002row2_col9\" class=\"data row2 col9\" >0.402542</td>\n",
              "                        <td id=\"T_698be840_2bf5_11ec_9e0f_0242ac1c0002row2_col10\" class=\"data row2 col10\" >0.175163</td>\n",
              "                        <td id=\"T_698be840_2bf5_11ec_9e0f_0242ac1c0002row2_col11\" class=\"data row2 col11\" >0.118174</td>\n",
              "                        <td id=\"T_698be840_2bf5_11ec_9e0f_0242ac1c0002row2_col12\" class=\"data row2 col12\" >0.469153</td>\n",
              "                        <td id=\"T_698be840_2bf5_11ec_9e0f_0242ac1c0002row2_col13\" class=\"data row2 col13\" >0.063826</td>\n",
              "                        <td id=\"T_698be840_2bf5_11ec_9e0f_0242ac1c0002row2_col14\" class=\"data row2 col14\" >0.081855</td>\n",
              "                        <td id=\"T_698be840_2bf5_11ec_9e0f_0242ac1c0002row2_col15\" class=\"data row2 col15\" >0.285679</td>\n",
              "                        <td id=\"T_698be840_2bf5_11ec_9e0f_0242ac1c0002row2_col16\" class=\"data row2 col16\" >0.135877</td>\n",
              "                        <td id=\"T_698be840_2bf5_11ec_9e0f_0242ac1c0002row2_col17\" class=\"data row2 col17\" >0.054085</td>\n",
              "                        <td id=\"T_698be840_2bf5_11ec_9e0f_0242ac1c0002row2_col18\" class=\"data row2 col18\" >0.179162</td>\n",
              "                        <td id=\"T_698be840_2bf5_11ec_9e0f_0242ac1c0002row2_col19\" class=\"data row2 col19\" >0.183125</td>\n",
              "            </tr>\n",
              "            <tr>\n",
              "                        <th id=\"T_698be840_2bf5_11ec_9e0f_0242ac1c0002level0_row3\" class=\"row_heading level0 row3\" >bank_inqs_count_quarter</th>\n",
              "                        <td id=\"T_698be840_2bf5_11ec_9e0f_0242ac1c0002row3_col0\" class=\"data row3 col0\" >0.172815</td>\n",
              "                        <td id=\"T_698be840_2bf5_11ec_9e0f_0242ac1c0002row3_col1\" class=\"data row3 col1\" >0.204674</td>\n",
              "                        <td id=\"T_698be840_2bf5_11ec_9e0f_0242ac1c0002row3_col2\" class=\"data row3 col2\" >0.100115</td>\n",
              "                        <td id=\"T_698be840_2bf5_11ec_9e0f_0242ac1c0002row3_col3\" class=\"data row3 col3\" >1.000000</td>\n",
              "                        <td id=\"T_698be840_2bf5_11ec_9e0f_0242ac1c0002row3_col4\" class=\"data row3 col4\" >-0.006891</td>\n",
              "                        <td id=\"T_698be840_2bf5_11ec_9e0f_0242ac1c0002row3_col5\" class=\"data row3 col5\" >0.180066</td>\n",
              "                        <td id=\"T_698be840_2bf5_11ec_9e0f_0242ac1c0002row3_col6\" class=\"data row3 col6\" >-0.109018</td>\n",
              "                        <td id=\"T_698be840_2bf5_11ec_9e0f_0242ac1c0002row3_col7\" class=\"data row3 col7\" >0.258852</td>\n",
              "                        <td id=\"T_698be840_2bf5_11ec_9e0f_0242ac1c0002row3_col8\" class=\"data row3 col8\" >0.215433</td>\n",
              "                        <td id=\"T_698be840_2bf5_11ec_9e0f_0242ac1c0002row3_col9\" class=\"data row3 col9\" >0.168398</td>\n",
              "                        <td id=\"T_698be840_2bf5_11ec_9e0f_0242ac1c0002row3_col10\" class=\"data row3 col10\" >0.215261</td>\n",
              "                        <td id=\"T_698be840_2bf5_11ec_9e0f_0242ac1c0002row3_col11\" class=\"data row3 col11\" >-0.135581</td>\n",
              "                        <td id=\"T_698be840_2bf5_11ec_9e0f_0242ac1c0002row3_col12\" class=\"data row3 col12\" >0.157466</td>\n",
              "                        <td id=\"T_698be840_2bf5_11ec_9e0f_0242ac1c0002row3_col13\" class=\"data row3 col13\" >-0.129822</td>\n",
              "                        <td id=\"T_698be840_2bf5_11ec_9e0f_0242ac1c0002row3_col14\" class=\"data row3 col14\" >0.056464</td>\n",
              "                        <td id=\"T_698be840_2bf5_11ec_9e0f_0242ac1c0002row3_col15\" class=\"data row3 col15\" >0.155818</td>\n",
              "                        <td id=\"T_698be840_2bf5_11ec_9e0f_0242ac1c0002row3_col16\" class=\"data row3 col16\" >-0.047603</td>\n",
              "                        <td id=\"T_698be840_2bf5_11ec_9e0f_0242ac1c0002row3_col17\" class=\"data row3 col17\" >0.097156</td>\n",
              "                        <td id=\"T_698be840_2bf5_11ec_9e0f_0242ac1c0002row3_col18\" class=\"data row3 col18\" >0.255482</td>\n",
              "                        <td id=\"T_698be840_2bf5_11ec_9e0f_0242ac1c0002row3_col19\" class=\"data row3 col19\" >0.150973</td>\n",
              "            </tr>\n",
              "            <tr>\n",
              "                        <th id=\"T_698be840_2bf5_11ec_9e0f_0242ac1c0002level0_row4\" class=\"row_heading level0 row4\" >cred_max_overdue_max_ly</th>\n",
              "                        <td id=\"T_698be840_2bf5_11ec_9e0f_0242ac1c0002row4_col0\" class=\"data row4 col0\" >0.056833</td>\n",
              "                        <td id=\"T_698be840_2bf5_11ec_9e0f_0242ac1c0002row4_col1\" class=\"data row4 col1\" >0.003307</td>\n",
              "                        <td id=\"T_698be840_2bf5_11ec_9e0f_0242ac1c0002row4_col2\" class=\"data row4 col2\" >0.102137</td>\n",
              "                        <td id=\"T_698be840_2bf5_11ec_9e0f_0242ac1c0002row4_col3\" class=\"data row4 col3\" >-0.006891</td>\n",
              "                        <td id=\"T_698be840_2bf5_11ec_9e0f_0242ac1c0002row4_col4\" class=\"data row4 col4\" >1.000000</td>\n",
              "                        <td id=\"T_698be840_2bf5_11ec_9e0f_0242ac1c0002row4_col5\" class=\"data row4 col5\" >0.136764</td>\n",
              "                        <td id=\"T_698be840_2bf5_11ec_9e0f_0242ac1c0002row4_col6\" class=\"data row4 col6\" >-0.044040</td>\n",
              "                        <td id=\"T_698be840_2bf5_11ec_9e0f_0242ac1c0002row4_col7\" class=\"data row4 col7\" >0.008580</td>\n",
              "                        <td id=\"T_698be840_2bf5_11ec_9e0f_0242ac1c0002row4_col8\" class=\"data row4 col8\" >0.042647</td>\n",
              "                        <td id=\"T_698be840_2bf5_11ec_9e0f_0242ac1c0002row4_col9\" class=\"data row4 col9\" >0.081666</td>\n",
              "                        <td id=\"T_698be840_2bf5_11ec_9e0f_0242ac1c0002row4_col10\" class=\"data row4 col10\" >0.030618</td>\n",
              "                        <td id=\"T_698be840_2bf5_11ec_9e0f_0242ac1c0002row4_col11\" class=\"data row4 col11\" >0.078470</td>\n",
              "                        <td id=\"T_698be840_2bf5_11ec_9e0f_0242ac1c0002row4_col12\" class=\"data row4 col12\" >0.103047</td>\n",
              "                        <td id=\"T_698be840_2bf5_11ec_9e0f_0242ac1c0002row4_col13\" class=\"data row4 col13\" >0.076932</td>\n",
              "                        <td id=\"T_698be840_2bf5_11ec_9e0f_0242ac1c0002row4_col14\" class=\"data row4 col14\" >0.258496</td>\n",
              "                        <td id=\"T_698be840_2bf5_11ec_9e0f_0242ac1c0002row4_col15\" class=\"data row4 col15\" >0.061859</td>\n",
              "                        <td id=\"T_698be840_2bf5_11ec_9e0f_0242ac1c0002row4_col16\" class=\"data row4 col16\" >0.061210</td>\n",
              "                        <td id=\"T_698be840_2bf5_11ec_9e0f_0242ac1c0002row4_col17\" class=\"data row4 col17\" >0.077639</td>\n",
              "                        <td id=\"T_698be840_2bf5_11ec_9e0f_0242ac1c0002row4_col18\" class=\"data row4 col18\" >0.022023</td>\n",
              "                        <td id=\"T_698be840_2bf5_11ec_9e0f_0242ac1c0002row4_col19\" class=\"data row4 col19\" >0.032971</td>\n",
              "            </tr>\n",
              "            <tr>\n",
              "                        <th id=\"T_698be840_2bf5_11ec_9e0f_0242ac1c0002level0_row5\" class=\"row_heading level0 row5\" >all_active_creds_sum_all</th>\n",
              "                        <td id=\"T_698be840_2bf5_11ec_9e0f_0242ac1c0002row5_col0\" class=\"data row5 col0\" >0.390021</td>\n",
              "                        <td id=\"T_698be840_2bf5_11ec_9e0f_0242ac1c0002row5_col1\" class=\"data row5 col1\" >0.063175</td>\n",
              "                        <td id=\"T_698be840_2bf5_11ec_9e0f_0242ac1c0002row5_col2\" class=\"data row5 col2\" >0.448984</td>\n",
              "                        <td id=\"T_698be840_2bf5_11ec_9e0f_0242ac1c0002row5_col3\" class=\"data row5 col3\" >0.180066</td>\n",
              "                        <td id=\"T_698be840_2bf5_11ec_9e0f_0242ac1c0002row5_col4\" class=\"data row5 col4\" >0.136764</td>\n",
              "                        <td id=\"T_698be840_2bf5_11ec_9e0f_0242ac1c0002row5_col5\" class=\"data row5 col5\" >1.000000</td>\n",
              "                        <td id=\"T_698be840_2bf5_11ec_9e0f_0242ac1c0002row5_col6\" class=\"data row5 col6\" >-0.020902</td>\n",
              "                        <td id=\"T_698be840_2bf5_11ec_9e0f_0242ac1c0002row5_col7\" class=\"data row5 col7\" >0.207856</td>\n",
              "                        <td id=\"T_698be840_2bf5_11ec_9e0f_0242ac1c0002row5_col8\" class=\"data row5 col8\" >0.887504</td>\n",
              "                        <td id=\"T_698be840_2bf5_11ec_9e0f_0242ac1c0002row5_col9\" class=\"data row5 col9\" >0.186648</td>\n",
              "                        <td id=\"T_698be840_2bf5_11ec_9e0f_0242ac1c0002row5_col10\" class=\"data row5 col10\" >0.173310</td>\n",
              "                        <td id=\"T_698be840_2bf5_11ec_9e0f_0242ac1c0002row5_col11\" class=\"data row5 col11\" >0.020434</td>\n",
              "                        <td id=\"T_698be840_2bf5_11ec_9e0f_0242ac1c0002row5_col12\" class=\"data row5 col12\" >0.201469</td>\n",
              "                        <td id=\"T_698be840_2bf5_11ec_9e0f_0242ac1c0002row5_col13\" class=\"data row5 col13\" >0.053058</td>\n",
              "                        <td id=\"T_698be840_2bf5_11ec_9e0f_0242ac1c0002row5_col14\" class=\"data row5 col14\" >0.054434</td>\n",
              "                        <td id=\"T_698be840_2bf5_11ec_9e0f_0242ac1c0002row5_col15\" class=\"data row5 col15\" >0.097137</td>\n",
              "                        <td id=\"T_698be840_2bf5_11ec_9e0f_0242ac1c0002row5_col16\" class=\"data row5 col16\" >0.097073</td>\n",
              "                        <td id=\"T_698be840_2bf5_11ec_9e0f_0242ac1c0002row5_col17\" class=\"data row5 col17\" >0.031452</td>\n",
              "                        <td id=\"T_698be840_2bf5_11ec_9e0f_0242ac1c0002row5_col18\" class=\"data row5 col18\" >0.124083</td>\n",
              "                        <td id=\"T_698be840_2bf5_11ec_9e0f_0242ac1c0002row5_col19\" class=\"data row5 col19\" >0.195676</td>\n",
              "            </tr>\n",
              "            <tr>\n",
              "                        <th id=\"T_698be840_2bf5_11ec_9e0f_0242ac1c0002level0_row6\" class=\"row_heading level0 row6\" >mfo_last_days_all</th>\n",
              "                        <td id=\"T_698be840_2bf5_11ec_9e0f_0242ac1c0002row6_col0\" class=\"data row6 col0\" >-0.024244</td>\n",
              "                        <td id=\"T_698be840_2bf5_11ec_9e0f_0242ac1c0002row6_col1\" class=\"data row6 col1\" >-0.246965</td>\n",
              "                        <td id=\"T_698be840_2bf5_11ec_9e0f_0242ac1c0002row6_col2\" class=\"data row6 col2\" >-0.062365</td>\n",
              "                        <td id=\"T_698be840_2bf5_11ec_9e0f_0242ac1c0002row6_col3\" class=\"data row6 col3\" >-0.109018</td>\n",
              "                        <td id=\"T_698be840_2bf5_11ec_9e0f_0242ac1c0002row6_col4\" class=\"data row6 col4\" >-0.044040</td>\n",
              "                        <td id=\"T_698be840_2bf5_11ec_9e0f_0242ac1c0002row6_col5\" class=\"data row6 col5\" >-0.020902</td>\n",
              "                        <td id=\"T_698be840_2bf5_11ec_9e0f_0242ac1c0002row6_col6\" class=\"data row6 col6\" >1.000000</td>\n",
              "                        <td id=\"T_698be840_2bf5_11ec_9e0f_0242ac1c0002row6_col7\" class=\"data row6 col7\" >0.002194</td>\n",
              "                        <td id=\"T_698be840_2bf5_11ec_9e0f_0242ac1c0002row6_col8\" class=\"data row6 col8\" >-0.025470</td>\n",
              "                        <td id=\"T_698be840_2bf5_11ec_9e0f_0242ac1c0002row6_col9\" class=\"data row6 col9\" >-0.169112</td>\n",
              "                        <td id=\"T_698be840_2bf5_11ec_9e0f_0242ac1c0002row6_col10\" class=\"data row6 col10\" >-0.315634</td>\n",
              "                        <td id=\"T_698be840_2bf5_11ec_9e0f_0242ac1c0002row6_col11\" class=\"data row6 col11\" >0.037811</td>\n",
              "                        <td id=\"T_698be840_2bf5_11ec_9e0f_0242ac1c0002row6_col12\" class=\"data row6 col12\" >-0.245556</td>\n",
              "                        <td id=\"T_698be840_2bf5_11ec_9e0f_0242ac1c0002row6_col13\" class=\"data row6 col13\" >-0.032678</td>\n",
              "                        <td id=\"T_698be840_2bf5_11ec_9e0f_0242ac1c0002row6_col14\" class=\"data row6 col14\" >-0.082629</td>\n",
              "                        <td id=\"T_698be840_2bf5_11ec_9e0f_0242ac1c0002row6_col15\" class=\"data row6 col15\" >-0.231477</td>\n",
              "                        <td id=\"T_698be840_2bf5_11ec_9e0f_0242ac1c0002row6_col16\" class=\"data row6 col16\" >0.010018</td>\n",
              "                        <td id=\"T_698be840_2bf5_11ec_9e0f_0242ac1c0002row6_col17\" class=\"data row6 col17\" >-0.142243</td>\n",
              "                        <td id=\"T_698be840_2bf5_11ec_9e0f_0242ac1c0002row6_col18\" class=\"data row6 col18\" >-0.290795</td>\n",
              "                        <td id=\"T_698be840_2bf5_11ec_9e0f_0242ac1c0002row6_col19\" class=\"data row6 col19\" >-0.041594</td>\n",
              "            </tr>\n",
              "            <tr>\n",
              "                        <th id=\"T_698be840_2bf5_11ec_9e0f_0242ac1c0002level0_row7\" class=\"row_heading level0 row7\" >cred_sum_cc_ly</th>\n",
              "                        <td id=\"T_698be840_2bf5_11ec_9e0f_0242ac1c0002row7_col0\" class=\"data row7 col0\" >0.496817</td>\n",
              "                        <td id=\"T_698be840_2bf5_11ec_9e0f_0242ac1c0002row7_col1\" class=\"data row7 col1\" >0.059942</td>\n",
              "                        <td id=\"T_698be840_2bf5_11ec_9e0f_0242ac1c0002row7_col2\" class=\"data row7 col2\" >0.129438</td>\n",
              "                        <td id=\"T_698be840_2bf5_11ec_9e0f_0242ac1c0002row7_col3\" class=\"data row7 col3\" >0.258852</td>\n",
              "                        <td id=\"T_698be840_2bf5_11ec_9e0f_0242ac1c0002row7_col4\" class=\"data row7 col4\" >0.008580</td>\n",
              "                        <td id=\"T_698be840_2bf5_11ec_9e0f_0242ac1c0002row7_col5\" class=\"data row7 col5\" >0.207856</td>\n",
              "                        <td id=\"T_698be840_2bf5_11ec_9e0f_0242ac1c0002row7_col6\" class=\"data row7 col6\" >0.002194</td>\n",
              "                        <td id=\"T_698be840_2bf5_11ec_9e0f_0242ac1c0002row7_col7\" class=\"data row7 col7\" >1.000000</td>\n",
              "                        <td id=\"T_698be840_2bf5_11ec_9e0f_0242ac1c0002row7_col8\" class=\"data row7 col8\" >0.234406</td>\n",
              "                        <td id=\"T_698be840_2bf5_11ec_9e0f_0242ac1c0002row7_col9\" class=\"data row7 col9\" >0.093090</td>\n",
              "                        <td id=\"T_698be840_2bf5_11ec_9e0f_0242ac1c0002row7_col10\" class=\"data row7 col10\" >0.108355</td>\n",
              "                        <td id=\"T_698be840_2bf5_11ec_9e0f_0242ac1c0002row7_col11\" class=\"data row7 col11\" >-0.065225</td>\n",
              "                        <td id=\"T_698be840_2bf5_11ec_9e0f_0242ac1c0002row7_col12\" class=\"data row7 col12\" >0.087915</td>\n",
              "                        <td id=\"T_698be840_2bf5_11ec_9e0f_0242ac1c0002row7_col13\" class=\"data row7 col13\" >-0.077849</td>\n",
              "                        <td id=\"T_698be840_2bf5_11ec_9e0f_0242ac1c0002row7_col14\" class=\"data row7 col14\" >0.025619</td>\n",
              "                        <td id=\"T_698be840_2bf5_11ec_9e0f_0242ac1c0002row7_col15\" class=\"data row7 col15\" >0.048135</td>\n",
              "                        <td id=\"T_698be840_2bf5_11ec_9e0f_0242ac1c0002row7_col16\" class=\"data row7 col16\" >0.022781</td>\n",
              "                        <td id=\"T_698be840_2bf5_11ec_9e0f_0242ac1c0002row7_col17\" class=\"data row7 col17\" >0.009596</td>\n",
              "                        <td id=\"T_698be840_2bf5_11ec_9e0f_0242ac1c0002row7_col18\" class=\"data row7 col18\" >0.118831</td>\n",
              "                        <td id=\"T_698be840_2bf5_11ec_9e0f_0242ac1c0002row7_col19\" class=\"data row7 col19\" >0.141069</td>\n",
              "            </tr>\n",
              "            <tr>\n",
              "                        <th id=\"T_698be840_2bf5_11ec_9e0f_0242ac1c0002level0_row8\" class=\"row_heading level0 row8\" >cred_sum_debt_all_all</th>\n",
              "                        <td id=\"T_698be840_2bf5_11ec_9e0f_0242ac1c0002row8_col0\" class=\"data row8 col0\" >0.318610</td>\n",
              "                        <td id=\"T_698be840_2bf5_11ec_9e0f_0242ac1c0002row8_col1\" class=\"data row8 col1\" >0.078049</td>\n",
              "                        <td id=\"T_698be840_2bf5_11ec_9e0f_0242ac1c0002row8_col2\" class=\"data row8 col2\" >0.358368</td>\n",
              "                        <td id=\"T_698be840_2bf5_11ec_9e0f_0242ac1c0002row8_col3\" class=\"data row8 col3\" >0.215433</td>\n",
              "                        <td id=\"T_698be840_2bf5_11ec_9e0f_0242ac1c0002row8_col4\" class=\"data row8 col4\" >0.042647</td>\n",
              "                        <td id=\"T_698be840_2bf5_11ec_9e0f_0242ac1c0002row8_col5\" class=\"data row8 col5\" >0.887504</td>\n",
              "                        <td id=\"T_698be840_2bf5_11ec_9e0f_0242ac1c0002row8_col6\" class=\"data row8 col6\" >-0.025470</td>\n",
              "                        <td id=\"T_698be840_2bf5_11ec_9e0f_0242ac1c0002row8_col7\" class=\"data row8 col7\" >0.234406</td>\n",
              "                        <td id=\"T_698be840_2bf5_11ec_9e0f_0242ac1c0002row8_col8\" class=\"data row8 col8\" >1.000000</td>\n",
              "                        <td id=\"T_698be840_2bf5_11ec_9e0f_0242ac1c0002row8_col9\" class=\"data row8 col9\" >0.195667</td>\n",
              "                        <td id=\"T_698be840_2bf5_11ec_9e0f_0242ac1c0002row8_col10\" class=\"data row8 col10\" >0.191391</td>\n",
              "                        <td id=\"T_698be840_2bf5_11ec_9e0f_0242ac1c0002row8_col11\" class=\"data row8 col11\" >-0.059367</td>\n",
              "                        <td id=\"T_698be840_2bf5_11ec_9e0f_0242ac1c0002row8_col12\" class=\"data row8 col12\" >0.166345</td>\n",
              "                        <td id=\"T_698be840_2bf5_11ec_9e0f_0242ac1c0002row8_col13\" class=\"data row8 col13\" >-0.056594</td>\n",
              "                        <td id=\"T_698be840_2bf5_11ec_9e0f_0242ac1c0002row8_col14\" class=\"data row8 col14\" >0.033434</td>\n",
              "                        <td id=\"T_698be840_2bf5_11ec_9e0f_0242ac1c0002row8_col15\" class=\"data row8 col15\" >0.101094</td>\n",
              "                        <td id=\"T_698be840_2bf5_11ec_9e0f_0242ac1c0002row8_col16\" class=\"data row8 col16\" >0.004435</td>\n",
              "                        <td id=\"T_698be840_2bf5_11ec_9e0f_0242ac1c0002row8_col17\" class=\"data row8 col17\" >0.024041</td>\n",
              "                        <td id=\"T_698be840_2bf5_11ec_9e0f_0242ac1c0002row8_col18\" class=\"data row8 col18\" >0.149238</td>\n",
              "                        <td id=\"T_698be840_2bf5_11ec_9e0f_0242ac1c0002row8_col19\" class=\"data row8 col19\" >0.186321</td>\n",
              "            </tr>\n",
              "            <tr>\n",
              "                        <th id=\"T_698be840_2bf5_11ec_9e0f_0242ac1c0002level0_row9\" class=\"row_heading level0 row9\" >all_closed_creds_sum_ly</th>\n",
              "                        <td id=\"T_698be840_2bf5_11ec_9e0f_0242ac1c0002row9_col0\" class=\"data row9 col0\" >0.171721</td>\n",
              "                        <td id=\"T_698be840_2bf5_11ec_9e0f_0242ac1c0002row9_col1\" class=\"data row9 col1\" >0.229005</td>\n",
              "                        <td id=\"T_698be840_2bf5_11ec_9e0f_0242ac1c0002row9_col2\" class=\"data row9 col2\" >0.402542</td>\n",
              "                        <td id=\"T_698be840_2bf5_11ec_9e0f_0242ac1c0002row9_col3\" class=\"data row9 col3\" >0.168398</td>\n",
              "                        <td id=\"T_698be840_2bf5_11ec_9e0f_0242ac1c0002row9_col4\" class=\"data row9 col4\" >0.081666</td>\n",
              "                        <td id=\"T_698be840_2bf5_11ec_9e0f_0242ac1c0002row9_col5\" class=\"data row9 col5\" >0.186648</td>\n",
              "                        <td id=\"T_698be840_2bf5_11ec_9e0f_0242ac1c0002row9_col6\" class=\"data row9 col6\" >-0.169112</td>\n",
              "                        <td id=\"T_698be840_2bf5_11ec_9e0f_0242ac1c0002row9_col7\" class=\"data row9 col7\" >0.093090</td>\n",
              "                        <td id=\"T_698be840_2bf5_11ec_9e0f_0242ac1c0002row9_col8\" class=\"data row9 col8\" >0.195667</td>\n",
              "                        <td id=\"T_698be840_2bf5_11ec_9e0f_0242ac1c0002row9_col9\" class=\"data row9 col9\" >1.000000</td>\n",
              "                        <td id=\"T_698be840_2bf5_11ec_9e0f_0242ac1c0002row9_col10\" class=\"data row9 col10\" >0.274217</td>\n",
              "                        <td id=\"T_698be840_2bf5_11ec_9e0f_0242ac1c0002row9_col11\" class=\"data row9 col11\" >-0.027273</td>\n",
              "                        <td id=\"T_698be840_2bf5_11ec_9e0f_0242ac1c0002row9_col12\" class=\"data row9 col12\" >0.680767</td>\n",
              "                        <td id=\"T_698be840_2bf5_11ec_9e0f_0242ac1c0002row9_col13\" class=\"data row9 col13\" >-0.044264</td>\n",
              "                        <td id=\"T_698be840_2bf5_11ec_9e0f_0242ac1c0002row9_col14\" class=\"data row9 col14\" >0.158027</td>\n",
              "                        <td id=\"T_698be840_2bf5_11ec_9e0f_0242ac1c0002row9_col15\" class=\"data row9 col15\" >0.803575</td>\n",
              "                        <td id=\"T_698be840_2bf5_11ec_9e0f_0242ac1c0002row9_col16\" class=\"data row9 col16\" >-0.005278</td>\n",
              "                        <td id=\"T_698be840_2bf5_11ec_9e0f_0242ac1c0002row9_col17\" class=\"data row9 col17\" >0.131997</td>\n",
              "                        <td id=\"T_698be840_2bf5_11ec_9e0f_0242ac1c0002row9_col18\" class=\"data row9 col18\" >0.484616</td>\n",
              "                        <td id=\"T_698be840_2bf5_11ec_9e0f_0242ac1c0002row9_col19\" class=\"data row9 col19\" >0.146937</td>\n",
              "            </tr>\n",
              "            <tr>\n",
              "                        <th id=\"T_698be840_2bf5_11ec_9e0f_0242ac1c0002level0_row10\" class=\"row_heading level0 row10\" >mfo_cred_mean_sum_3lm</th>\n",
              "                        <td id=\"T_698be840_2bf5_11ec_9e0f_0242ac1c0002row10_col0\" class=\"data row10 col0\" >0.158316</td>\n",
              "                        <td id=\"T_698be840_2bf5_11ec_9e0f_0242ac1c0002row10_col1\" class=\"data row10 col1\" >0.185338</td>\n",
              "                        <td id=\"T_698be840_2bf5_11ec_9e0f_0242ac1c0002row10_col2\" class=\"data row10 col2\" >0.175163</td>\n",
              "                        <td id=\"T_698be840_2bf5_11ec_9e0f_0242ac1c0002row10_col3\" class=\"data row10 col3\" >0.215261</td>\n",
              "                        <td id=\"T_698be840_2bf5_11ec_9e0f_0242ac1c0002row10_col4\" class=\"data row10 col4\" >0.030618</td>\n",
              "                        <td id=\"T_698be840_2bf5_11ec_9e0f_0242ac1c0002row10_col5\" class=\"data row10 col5\" >0.173310</td>\n",
              "                        <td id=\"T_698be840_2bf5_11ec_9e0f_0242ac1c0002row10_col6\" class=\"data row10 col6\" >-0.315634</td>\n",
              "                        <td id=\"T_698be840_2bf5_11ec_9e0f_0242ac1c0002row10_col7\" class=\"data row10 col7\" >0.108355</td>\n",
              "                        <td id=\"T_698be840_2bf5_11ec_9e0f_0242ac1c0002row10_col8\" class=\"data row10 col8\" >0.191391</td>\n",
              "                        <td id=\"T_698be840_2bf5_11ec_9e0f_0242ac1c0002row10_col9\" class=\"data row10 col9\" >0.274217</td>\n",
              "                        <td id=\"T_698be840_2bf5_11ec_9e0f_0242ac1c0002row10_col10\" class=\"data row10 col10\" >1.000000</td>\n",
              "                        <td id=\"T_698be840_2bf5_11ec_9e0f_0242ac1c0002row10_col11\" class=\"data row10 col11\" >-0.048362</td>\n",
              "                        <td id=\"T_698be840_2bf5_11ec_9e0f_0242ac1c0002row10_col12\" class=\"data row10 col12\" >0.238166</td>\n",
              "                        <td id=\"T_698be840_2bf5_11ec_9e0f_0242ac1c0002row10_col13\" class=\"data row10 col13\" >-0.074906</td>\n",
              "                        <td id=\"T_698be840_2bf5_11ec_9e0f_0242ac1c0002row10_col14\" class=\"data row10 col14\" >0.124695</td>\n",
              "                        <td id=\"T_698be840_2bf5_11ec_9e0f_0242ac1c0002row10_col15\" class=\"data row10 col15\" >0.225763</td>\n",
              "                        <td id=\"T_698be840_2bf5_11ec_9e0f_0242ac1c0002row10_col16\" class=\"data row10 col16\" >-0.005933</td>\n",
              "                        <td id=\"T_698be840_2bf5_11ec_9e0f_0242ac1c0002row10_col17\" class=\"data row10 col17\" >0.139970</td>\n",
              "                        <td id=\"T_698be840_2bf5_11ec_9e0f_0242ac1c0002row10_col18\" class=\"data row10 col18\" >0.250211</td>\n",
              "                        <td id=\"T_698be840_2bf5_11ec_9e0f_0242ac1c0002row10_col19\" class=\"data row10 col19\" >0.146809</td>\n",
              "            </tr>\n",
              "            <tr>\n",
              "                        <th id=\"T_698be840_2bf5_11ec_9e0f_0242ac1c0002level0_row11\" class=\"row_heading level0 row11\" >delay_more_sum_all</th>\n",
              "                        <td id=\"T_698be840_2bf5_11ec_9e0f_0242ac1c0002row11_col0\" class=\"data row11 col0\" >0.140823</td>\n",
              "                        <td id=\"T_698be840_2bf5_11ec_9e0f_0242ac1c0002row11_col1\" class=\"data row11 col1\" >-0.049465</td>\n",
              "                        <td id=\"T_698be840_2bf5_11ec_9e0f_0242ac1c0002row11_col2\" class=\"data row11 col2\" >0.118174</td>\n",
              "                        <td id=\"T_698be840_2bf5_11ec_9e0f_0242ac1c0002row11_col3\" class=\"data row11 col3\" >-0.135581</td>\n",
              "                        <td id=\"T_698be840_2bf5_11ec_9e0f_0242ac1c0002row11_col4\" class=\"data row11 col4\" >0.078470</td>\n",
              "                        <td id=\"T_698be840_2bf5_11ec_9e0f_0242ac1c0002row11_col5\" class=\"data row11 col5\" >0.020434</td>\n",
              "                        <td id=\"T_698be840_2bf5_11ec_9e0f_0242ac1c0002row11_col6\" class=\"data row11 col6\" >0.037811</td>\n",
              "                        <td id=\"T_698be840_2bf5_11ec_9e0f_0242ac1c0002row11_col7\" class=\"data row11 col7\" >-0.065225</td>\n",
              "                        <td id=\"T_698be840_2bf5_11ec_9e0f_0242ac1c0002row11_col8\" class=\"data row11 col8\" >-0.059367</td>\n",
              "                        <td id=\"T_698be840_2bf5_11ec_9e0f_0242ac1c0002row11_col9\" class=\"data row11 col9\" >-0.027273</td>\n",
              "                        <td id=\"T_698be840_2bf5_11ec_9e0f_0242ac1c0002row11_col10\" class=\"data row11 col10\" >-0.048362</td>\n",
              "                        <td id=\"T_698be840_2bf5_11ec_9e0f_0242ac1c0002row11_col11\" class=\"data row11 col11\" >1.000000</td>\n",
              "                        <td id=\"T_698be840_2bf5_11ec_9e0f_0242ac1c0002row11_col12\" class=\"data row11 col12\" >0.113496</td>\n",
              "                        <td id=\"T_698be840_2bf5_11ec_9e0f_0242ac1c0002row11_col13\" class=\"data row11 col13\" >0.317920</td>\n",
              "                        <td id=\"T_698be840_2bf5_11ec_9e0f_0242ac1c0002row11_col14\" class=\"data row11 col14\" >0.042317</td>\n",
              "                        <td id=\"T_698be840_2bf5_11ec_9e0f_0242ac1c0002row11_col15\" class=\"data row11 col15\" >-0.036808</td>\n",
              "                        <td id=\"T_698be840_2bf5_11ec_9e0f_0242ac1c0002row11_col16\" class=\"data row11 col16\" >0.204459</td>\n",
              "                        <td id=\"T_698be840_2bf5_11ec_9e0f_0242ac1c0002row11_col17\" class=\"data row11 col17\" >-0.027283</td>\n",
              "                        <td id=\"T_698be840_2bf5_11ec_9e0f_0242ac1c0002row11_col18\" class=\"data row11 col18\" >-0.089358</td>\n",
              "                        <td id=\"T_698be840_2bf5_11ec_9e0f_0242ac1c0002row11_col19\" class=\"data row11 col19\" >0.017465</td>\n",
              "            </tr>\n",
              "            <tr>\n",
              "                        <th id=\"T_698be840_2bf5_11ec_9e0f_0242ac1c0002level0_row12\" class=\"row_heading level0 row12\" >all_creds_count_all</th>\n",
              "                        <td id=\"T_698be840_2bf5_11ec_9e0f_0242ac1c0002row12_col0\" class=\"data row12 col0\" >0.252060</td>\n",
              "                        <td id=\"T_698be840_2bf5_11ec_9e0f_0242ac1c0002row12_col1\" class=\"data row12 col1\" >0.223039</td>\n",
              "                        <td id=\"T_698be840_2bf5_11ec_9e0f_0242ac1c0002row12_col2\" class=\"data row12 col2\" >0.469153</td>\n",
              "                        <td id=\"T_698be840_2bf5_11ec_9e0f_0242ac1c0002row12_col3\" class=\"data row12 col3\" >0.157466</td>\n",
              "                        <td id=\"T_698be840_2bf5_11ec_9e0f_0242ac1c0002row12_col4\" class=\"data row12 col4\" >0.103047</td>\n",
              "                        <td id=\"T_698be840_2bf5_11ec_9e0f_0242ac1c0002row12_col5\" class=\"data row12 col5\" >0.201469</td>\n",
              "                        <td id=\"T_698be840_2bf5_11ec_9e0f_0242ac1c0002row12_col6\" class=\"data row12 col6\" >-0.245556</td>\n",
              "                        <td id=\"T_698be840_2bf5_11ec_9e0f_0242ac1c0002row12_col7\" class=\"data row12 col7\" >0.087915</td>\n",
              "                        <td id=\"T_698be840_2bf5_11ec_9e0f_0242ac1c0002row12_col8\" class=\"data row12 col8\" >0.166345</td>\n",
              "                        <td id=\"T_698be840_2bf5_11ec_9e0f_0242ac1c0002row12_col9\" class=\"data row12 col9\" >0.680767</td>\n",
              "                        <td id=\"T_698be840_2bf5_11ec_9e0f_0242ac1c0002row12_col10\" class=\"data row12 col10\" >0.238166</td>\n",
              "                        <td id=\"T_698be840_2bf5_11ec_9e0f_0242ac1c0002row12_col11\" class=\"data row12 col11\" >0.113496</td>\n",
              "                        <td id=\"T_698be840_2bf5_11ec_9e0f_0242ac1c0002row12_col12\" class=\"data row12 col12\" >1.000000</td>\n",
              "                        <td id=\"T_698be840_2bf5_11ec_9e0f_0242ac1c0002row12_col13\" class=\"data row12 col13\" >0.124058</td>\n",
              "                        <td id=\"T_698be840_2bf5_11ec_9e0f_0242ac1c0002row12_col14\" class=\"data row12 col14\" >0.164091</td>\n",
              "                        <td id=\"T_698be840_2bf5_11ec_9e0f_0242ac1c0002row12_col15\" class=\"data row12 col15\" >0.802410</td>\n",
              "                        <td id=\"T_698be840_2bf5_11ec_9e0f_0242ac1c0002row12_col16\" class=\"data row12 col16\" >0.060201</td>\n",
              "                        <td id=\"T_698be840_2bf5_11ec_9e0f_0242ac1c0002row12_col17\" class=\"data row12 col17\" >0.185558</td>\n",
              "                        <td id=\"T_698be840_2bf5_11ec_9e0f_0242ac1c0002row12_col18\" class=\"data row12 col18\" >0.460557</td>\n",
              "                        <td id=\"T_698be840_2bf5_11ec_9e0f_0242ac1c0002row12_col19\" class=\"data row12 col19\" >0.154582</td>\n",
              "            </tr>\n",
              "            <tr>\n",
              "                        <th id=\"T_698be840_2bf5_11ec_9e0f_0242ac1c0002level0_row13\" class=\"row_heading level0 row13\" >cred_day_overdue_all_sum_all</th>\n",
              "                        <td id=\"T_698be840_2bf5_11ec_9e0f_0242ac1c0002row13_col0\" class=\"data row13 col0\" >0.044141</td>\n",
              "                        <td id=\"T_698be840_2bf5_11ec_9e0f_0242ac1c0002row13_col1\" class=\"data row13 col1\" >-0.071696</td>\n",
              "                        <td id=\"T_698be840_2bf5_11ec_9e0f_0242ac1c0002row13_col2\" class=\"data row13 col2\" >0.063826</td>\n",
              "                        <td id=\"T_698be840_2bf5_11ec_9e0f_0242ac1c0002row13_col3\" class=\"data row13 col3\" >-0.129822</td>\n",
              "                        <td id=\"T_698be840_2bf5_11ec_9e0f_0242ac1c0002row13_col4\" class=\"data row13 col4\" >0.076932</td>\n",
              "                        <td id=\"T_698be840_2bf5_11ec_9e0f_0242ac1c0002row13_col5\" class=\"data row13 col5\" >0.053058</td>\n",
              "                        <td id=\"T_698be840_2bf5_11ec_9e0f_0242ac1c0002row13_col6\" class=\"data row13 col6\" >-0.032678</td>\n",
              "                        <td id=\"T_698be840_2bf5_11ec_9e0f_0242ac1c0002row13_col7\" class=\"data row13 col7\" >-0.077849</td>\n",
              "                        <td id=\"T_698be840_2bf5_11ec_9e0f_0242ac1c0002row13_col8\" class=\"data row13 col8\" >-0.056594</td>\n",
              "                        <td id=\"T_698be840_2bf5_11ec_9e0f_0242ac1c0002row13_col9\" class=\"data row13 col9\" >-0.044264</td>\n",
              "                        <td id=\"T_698be840_2bf5_11ec_9e0f_0242ac1c0002row13_col10\" class=\"data row13 col10\" >-0.074906</td>\n",
              "                        <td id=\"T_698be840_2bf5_11ec_9e0f_0242ac1c0002row13_col11\" class=\"data row13 col11\" >0.317920</td>\n",
              "                        <td id=\"T_698be840_2bf5_11ec_9e0f_0242ac1c0002row13_col12\" class=\"data row13 col12\" >0.124058</td>\n",
              "                        <td id=\"T_698be840_2bf5_11ec_9e0f_0242ac1c0002row13_col13\" class=\"data row13 col13\" >1.000000</td>\n",
              "                        <td id=\"T_698be840_2bf5_11ec_9e0f_0242ac1c0002row13_col14\" class=\"data row13 col14\" >0.005194</td>\n",
              "                        <td id=\"T_698be840_2bf5_11ec_9e0f_0242ac1c0002row13_col15\" class=\"data row13 col15\" >-0.050844</td>\n",
              "                        <td id=\"T_698be840_2bf5_11ec_9e0f_0242ac1c0002row13_col16\" class=\"data row13 col16\" >0.135344</td>\n",
              "                        <td id=\"T_698be840_2bf5_11ec_9e0f_0242ac1c0002row13_col17\" class=\"data row13 col17\" >-0.013492</td>\n",
              "                        <td id=\"T_698be840_2bf5_11ec_9e0f_0242ac1c0002row13_col18\" class=\"data row13 col18\" >-0.114884</td>\n",
              "                        <td id=\"T_698be840_2bf5_11ec_9e0f_0242ac1c0002row13_col19\" class=\"data row13 col19\" >-0.005933</td>\n",
              "            </tr>\n",
              "            <tr>\n",
              "                        <th id=\"T_698be840_2bf5_11ec_9e0f_0242ac1c0002level0_row14\" class=\"row_heading level0 row14\" >cred_max_overdue_max_3lm</th>\n",
              "                        <td id=\"T_698be840_2bf5_11ec_9e0f_0242ac1c0002row14_col0\" class=\"data row14 col0\" >0.056807</td>\n",
              "                        <td id=\"T_698be840_2bf5_11ec_9e0f_0242ac1c0002row14_col1\" class=\"data row14 col1\" >0.068533</td>\n",
              "                        <td id=\"T_698be840_2bf5_11ec_9e0f_0242ac1c0002row14_col2\" class=\"data row14 col2\" >0.081855</td>\n",
              "                        <td id=\"T_698be840_2bf5_11ec_9e0f_0242ac1c0002row14_col3\" class=\"data row14 col3\" >0.056464</td>\n",
              "                        <td id=\"T_698be840_2bf5_11ec_9e0f_0242ac1c0002row14_col4\" class=\"data row14 col4\" >0.258496</td>\n",
              "                        <td id=\"T_698be840_2bf5_11ec_9e0f_0242ac1c0002row14_col5\" class=\"data row14 col5\" >0.054434</td>\n",
              "                        <td id=\"T_698be840_2bf5_11ec_9e0f_0242ac1c0002row14_col6\" class=\"data row14 col6\" >-0.082629</td>\n",
              "                        <td id=\"T_698be840_2bf5_11ec_9e0f_0242ac1c0002row14_col7\" class=\"data row14 col7\" >0.025619</td>\n",
              "                        <td id=\"T_698be840_2bf5_11ec_9e0f_0242ac1c0002row14_col8\" class=\"data row14 col8\" >0.033434</td>\n",
              "                        <td id=\"T_698be840_2bf5_11ec_9e0f_0242ac1c0002row14_col9\" class=\"data row14 col9\" >0.158027</td>\n",
              "                        <td id=\"T_698be840_2bf5_11ec_9e0f_0242ac1c0002row14_col10\" class=\"data row14 col10\" >0.124695</td>\n",
              "                        <td id=\"T_698be840_2bf5_11ec_9e0f_0242ac1c0002row14_col11\" class=\"data row14 col11\" >0.042317</td>\n",
              "                        <td id=\"T_698be840_2bf5_11ec_9e0f_0242ac1c0002row14_col12\" class=\"data row14 col12\" >0.164091</td>\n",
              "                        <td id=\"T_698be840_2bf5_11ec_9e0f_0242ac1c0002row14_col13\" class=\"data row14 col13\" >0.005194</td>\n",
              "                        <td id=\"T_698be840_2bf5_11ec_9e0f_0242ac1c0002row14_col14\" class=\"data row14 col14\" >1.000000</td>\n",
              "                        <td id=\"T_698be840_2bf5_11ec_9e0f_0242ac1c0002row14_col15\" class=\"data row14 col15\" >0.160184</td>\n",
              "                        <td id=\"T_698be840_2bf5_11ec_9e0f_0242ac1c0002row14_col16\" class=\"data row14 col16\" >0.017167</td>\n",
              "                        <td id=\"T_698be840_2bf5_11ec_9e0f_0242ac1c0002row14_col17\" class=\"data row14 col17\" >0.327459</td>\n",
              "                        <td id=\"T_698be840_2bf5_11ec_9e0f_0242ac1c0002row14_col18\" class=\"data row14 col18\" >0.064995</td>\n",
              "                        <td id=\"T_698be840_2bf5_11ec_9e0f_0242ac1c0002row14_col19\" class=\"data row14 col19\" >0.034029</td>\n",
              "            </tr>\n",
              "            <tr>\n",
              "                        <th id=\"T_698be840_2bf5_11ec_9e0f_0242ac1c0002level0_row15\" class=\"row_heading level0 row15\" >mfo_closed_count_ly</th>\n",
              "                        <td id=\"T_698be840_2bf5_11ec_9e0f_0242ac1c0002row15_col0\" class=\"data row15 col0\" >0.093122</td>\n",
              "                        <td id=\"T_698be840_2bf5_11ec_9e0f_0242ac1c0002row15_col1\" class=\"data row15 col1\" >0.266253</td>\n",
              "                        <td id=\"T_698be840_2bf5_11ec_9e0f_0242ac1c0002row15_col2\" class=\"data row15 col2\" >0.285679</td>\n",
              "                        <td id=\"T_698be840_2bf5_11ec_9e0f_0242ac1c0002row15_col3\" class=\"data row15 col3\" >0.155818</td>\n",
              "                        <td id=\"T_698be840_2bf5_11ec_9e0f_0242ac1c0002row15_col4\" class=\"data row15 col4\" >0.061859</td>\n",
              "                        <td id=\"T_698be840_2bf5_11ec_9e0f_0242ac1c0002row15_col5\" class=\"data row15 col5\" >0.097137</td>\n",
              "                        <td id=\"T_698be840_2bf5_11ec_9e0f_0242ac1c0002row15_col6\" class=\"data row15 col6\" >-0.231477</td>\n",
              "                        <td id=\"T_698be840_2bf5_11ec_9e0f_0242ac1c0002row15_col7\" class=\"data row15 col7\" >0.048135</td>\n",
              "                        <td id=\"T_698be840_2bf5_11ec_9e0f_0242ac1c0002row15_col8\" class=\"data row15 col8\" >0.101094</td>\n",
              "                        <td id=\"T_698be840_2bf5_11ec_9e0f_0242ac1c0002row15_col9\" class=\"data row15 col9\" >0.803575</td>\n",
              "                        <td id=\"T_698be840_2bf5_11ec_9e0f_0242ac1c0002row15_col10\" class=\"data row15 col10\" >0.225763</td>\n",
              "                        <td id=\"T_698be840_2bf5_11ec_9e0f_0242ac1c0002row15_col11\" class=\"data row15 col11\" >-0.036808</td>\n",
              "                        <td id=\"T_698be840_2bf5_11ec_9e0f_0242ac1c0002row15_col12\" class=\"data row15 col12\" >0.802410</td>\n",
              "                        <td id=\"T_698be840_2bf5_11ec_9e0f_0242ac1c0002row15_col13\" class=\"data row15 col13\" >-0.050844</td>\n",
              "                        <td id=\"T_698be840_2bf5_11ec_9e0f_0242ac1c0002row15_col14\" class=\"data row15 col14\" >0.160184</td>\n",
              "                        <td id=\"T_698be840_2bf5_11ec_9e0f_0242ac1c0002row15_col15\" class=\"data row15 col15\" >1.000000</td>\n",
              "                        <td id=\"T_698be840_2bf5_11ec_9e0f_0242ac1c0002row15_col16\" class=\"data row15 col16\" >-0.010578</td>\n",
              "                        <td id=\"T_698be840_2bf5_11ec_9e0f_0242ac1c0002row15_col17\" class=\"data row15 col17\" >0.178304</td>\n",
              "                        <td id=\"T_698be840_2bf5_11ec_9e0f_0242ac1c0002row15_col18\" class=\"data row15 col18\" >0.595369</td>\n",
              "                        <td id=\"T_698be840_2bf5_11ec_9e0f_0242ac1c0002row15_col19\" class=\"data row15 col19\" >0.115650</td>\n",
              "            </tr>\n",
              "            <tr>\n",
              "                        <th id=\"T_698be840_2bf5_11ec_9e0f_0242ac1c0002level0_row16\" class=\"row_heading level0 row16\" >cred_sum_overdue_cc_all</th>\n",
              "                        <td id=\"T_698be840_2bf5_11ec_9e0f_0242ac1c0002row16_col0\" class=\"data row16 col0\" >0.496626</td>\n",
              "                        <td id=\"T_698be840_2bf5_11ec_9e0f_0242ac1c0002row16_col1\" class=\"data row16 col1\" >-0.012114</td>\n",
              "                        <td id=\"T_698be840_2bf5_11ec_9e0f_0242ac1c0002row16_col2\" class=\"data row16 col2\" >0.135877</td>\n",
              "                        <td id=\"T_698be840_2bf5_11ec_9e0f_0242ac1c0002row16_col3\" class=\"data row16 col3\" >-0.047603</td>\n",
              "                        <td id=\"T_698be840_2bf5_11ec_9e0f_0242ac1c0002row16_col4\" class=\"data row16 col4\" >0.061210</td>\n",
              "                        <td id=\"T_698be840_2bf5_11ec_9e0f_0242ac1c0002row16_col5\" class=\"data row16 col5\" >0.097073</td>\n",
              "                        <td id=\"T_698be840_2bf5_11ec_9e0f_0242ac1c0002row16_col6\" class=\"data row16 col6\" >0.010018</td>\n",
              "                        <td id=\"T_698be840_2bf5_11ec_9e0f_0242ac1c0002row16_col7\" class=\"data row16 col7\" >0.022781</td>\n",
              "                        <td id=\"T_698be840_2bf5_11ec_9e0f_0242ac1c0002row16_col8\" class=\"data row16 col8\" >0.004435</td>\n",
              "                        <td id=\"T_698be840_2bf5_11ec_9e0f_0242ac1c0002row16_col9\" class=\"data row16 col9\" >-0.005278</td>\n",
              "                        <td id=\"T_698be840_2bf5_11ec_9e0f_0242ac1c0002row16_col10\" class=\"data row16 col10\" >-0.005933</td>\n",
              "                        <td id=\"T_698be840_2bf5_11ec_9e0f_0242ac1c0002row16_col11\" class=\"data row16 col11\" >0.204459</td>\n",
              "                        <td id=\"T_698be840_2bf5_11ec_9e0f_0242ac1c0002row16_col12\" class=\"data row16 col12\" >0.060201</td>\n",
              "                        <td id=\"T_698be840_2bf5_11ec_9e0f_0242ac1c0002row16_col13\" class=\"data row16 col13\" >0.135344</td>\n",
              "                        <td id=\"T_698be840_2bf5_11ec_9e0f_0242ac1c0002row16_col14\" class=\"data row16 col14\" >0.017167</td>\n",
              "                        <td id=\"T_698be840_2bf5_11ec_9e0f_0242ac1c0002row16_col15\" class=\"data row16 col15\" >-0.010578</td>\n",
              "                        <td id=\"T_698be840_2bf5_11ec_9e0f_0242ac1c0002row16_col16\" class=\"data row16 col16\" >1.000000</td>\n",
              "                        <td id=\"T_698be840_2bf5_11ec_9e0f_0242ac1c0002row16_col17\" class=\"data row16 col17\" >-0.004169</td>\n",
              "                        <td id=\"T_698be840_2bf5_11ec_9e0f_0242ac1c0002row16_col18\" class=\"data row16 col18\" >-0.029353</td>\n",
              "                        <td id=\"T_698be840_2bf5_11ec_9e0f_0242ac1c0002row16_col19\" class=\"data row16 col19\" >0.025994</td>\n",
              "            </tr>\n",
              "            <tr>\n",
              "                        <th id=\"T_698be840_2bf5_11ec_9e0f_0242ac1c0002level0_row17\" class=\"row_heading level0 row17\" >count_overdue_all_3lm</th>\n",
              "                        <td id=\"T_698be840_2bf5_11ec_9e0f_0242ac1c0002row17_col0\" class=\"data row17 col0\" >0.015333</td>\n",
              "                        <td id=\"T_698be840_2bf5_11ec_9e0f_0242ac1c0002row17_col1\" class=\"data row17 col1\" >0.104318</td>\n",
              "                        <td id=\"T_698be840_2bf5_11ec_9e0f_0242ac1c0002row17_col2\" class=\"data row17 col2\" >0.054085</td>\n",
              "                        <td id=\"T_698be840_2bf5_11ec_9e0f_0242ac1c0002row17_col3\" class=\"data row17 col3\" >0.097156</td>\n",
              "                        <td id=\"T_698be840_2bf5_11ec_9e0f_0242ac1c0002row17_col4\" class=\"data row17 col4\" >0.077639</td>\n",
              "                        <td id=\"T_698be840_2bf5_11ec_9e0f_0242ac1c0002row17_col5\" class=\"data row17 col5\" >0.031452</td>\n",
              "                        <td id=\"T_698be840_2bf5_11ec_9e0f_0242ac1c0002row17_col6\" class=\"data row17 col6\" >-0.142243</td>\n",
              "                        <td id=\"T_698be840_2bf5_11ec_9e0f_0242ac1c0002row17_col7\" class=\"data row17 col7\" >0.009596</td>\n",
              "                        <td id=\"T_698be840_2bf5_11ec_9e0f_0242ac1c0002row17_col8\" class=\"data row17 col8\" >0.024041</td>\n",
              "                        <td id=\"T_698be840_2bf5_11ec_9e0f_0242ac1c0002row17_col9\" class=\"data row17 col9\" >0.131997</td>\n",
              "                        <td id=\"T_698be840_2bf5_11ec_9e0f_0242ac1c0002row17_col10\" class=\"data row17 col10\" >0.139970</td>\n",
              "                        <td id=\"T_698be840_2bf5_11ec_9e0f_0242ac1c0002row17_col11\" class=\"data row17 col11\" >-0.027283</td>\n",
              "                        <td id=\"T_698be840_2bf5_11ec_9e0f_0242ac1c0002row17_col12\" class=\"data row17 col12\" >0.185558</td>\n",
              "                        <td id=\"T_698be840_2bf5_11ec_9e0f_0242ac1c0002row17_col13\" class=\"data row17 col13\" >-0.013492</td>\n",
              "                        <td id=\"T_698be840_2bf5_11ec_9e0f_0242ac1c0002row17_col14\" class=\"data row17 col14\" >0.327459</td>\n",
              "                        <td id=\"T_698be840_2bf5_11ec_9e0f_0242ac1c0002row17_col15\" class=\"data row17 col15\" >0.178304</td>\n",
              "                        <td id=\"T_698be840_2bf5_11ec_9e0f_0242ac1c0002row17_col16\" class=\"data row17 col16\" >-0.004169</td>\n",
              "                        <td id=\"T_698be840_2bf5_11ec_9e0f_0242ac1c0002row17_col17\" class=\"data row17 col17\" >1.000000</td>\n",
              "                        <td id=\"T_698be840_2bf5_11ec_9e0f_0242ac1c0002row17_col18\" class=\"data row17 col18\" >0.028262</td>\n",
              "                        <td id=\"T_698be840_2bf5_11ec_9e0f_0242ac1c0002row17_col19\" class=\"data row17 col19\" >0.029753</td>\n",
              "            </tr>\n",
              "            <tr>\n",
              "                        <th id=\"T_698be840_2bf5_11ec_9e0f_0242ac1c0002level0_row18\" class=\"row_heading level0 row18\" >all_creds_count_lm</th>\n",
              "                        <td id=\"T_698be840_2bf5_11ec_9e0f_0242ac1c0002row18_col0\" class=\"data row18 col0\" >0.113214</td>\n",
              "                        <td id=\"T_698be840_2bf5_11ec_9e0f_0242ac1c0002row18_col1\" class=\"data row18 col1\" >0.588334</td>\n",
              "                        <td id=\"T_698be840_2bf5_11ec_9e0f_0242ac1c0002row18_col2\" class=\"data row18 col2\" >0.179162</td>\n",
              "                        <td id=\"T_698be840_2bf5_11ec_9e0f_0242ac1c0002row18_col3\" class=\"data row18 col3\" >0.255482</td>\n",
              "                        <td id=\"T_698be840_2bf5_11ec_9e0f_0242ac1c0002row18_col4\" class=\"data row18 col4\" >0.022023</td>\n",
              "                        <td id=\"T_698be840_2bf5_11ec_9e0f_0242ac1c0002row18_col5\" class=\"data row18 col5\" >0.124083</td>\n",
              "                        <td id=\"T_698be840_2bf5_11ec_9e0f_0242ac1c0002row18_col6\" class=\"data row18 col6\" >-0.290795</td>\n",
              "                        <td id=\"T_698be840_2bf5_11ec_9e0f_0242ac1c0002row18_col7\" class=\"data row18 col7\" >0.118831</td>\n",
              "                        <td id=\"T_698be840_2bf5_11ec_9e0f_0242ac1c0002row18_col8\" class=\"data row18 col8\" >0.149238</td>\n",
              "                        <td id=\"T_698be840_2bf5_11ec_9e0f_0242ac1c0002row18_col9\" class=\"data row18 col9\" >0.484616</td>\n",
              "                        <td id=\"T_698be840_2bf5_11ec_9e0f_0242ac1c0002row18_col10\" class=\"data row18 col10\" >0.250211</td>\n",
              "                        <td id=\"T_698be840_2bf5_11ec_9e0f_0242ac1c0002row18_col11\" class=\"data row18 col11\" >-0.089358</td>\n",
              "                        <td id=\"T_698be840_2bf5_11ec_9e0f_0242ac1c0002row18_col12\" class=\"data row18 col12\" >0.460557</td>\n",
              "                        <td id=\"T_698be840_2bf5_11ec_9e0f_0242ac1c0002row18_col13\" class=\"data row18 col13\" >-0.114884</td>\n",
              "                        <td id=\"T_698be840_2bf5_11ec_9e0f_0242ac1c0002row18_col14\" class=\"data row18 col14\" >0.064995</td>\n",
              "                        <td id=\"T_698be840_2bf5_11ec_9e0f_0242ac1c0002row18_col15\" class=\"data row18 col15\" >0.595369</td>\n",
              "                        <td id=\"T_698be840_2bf5_11ec_9e0f_0242ac1c0002row18_col16\" class=\"data row18 col16\" >-0.029353</td>\n",
              "                        <td id=\"T_698be840_2bf5_11ec_9e0f_0242ac1c0002row18_col17\" class=\"data row18 col17\" >0.028262</td>\n",
              "                        <td id=\"T_698be840_2bf5_11ec_9e0f_0242ac1c0002row18_col18\" class=\"data row18 col18\" >1.000000</td>\n",
              "                        <td id=\"T_698be840_2bf5_11ec_9e0f_0242ac1c0002row18_col19\" class=\"data row18 col19\" >0.129963</td>\n",
              "            </tr>\n",
              "            <tr>\n",
              "                        <th id=\"T_698be840_2bf5_11ec_9e0f_0242ac1c0002level0_row19\" class=\"row_heading level0 row19\" >month_income</th>\n",
              "                        <td id=\"T_698be840_2bf5_11ec_9e0f_0242ac1c0002row19_col0\" class=\"data row19 col0\" >0.207815</td>\n",
              "                        <td id=\"T_698be840_2bf5_11ec_9e0f_0242ac1c0002row19_col1\" class=\"data row19 col1\" >0.070966</td>\n",
              "                        <td id=\"T_698be840_2bf5_11ec_9e0f_0242ac1c0002row19_col2\" class=\"data row19 col2\" >0.183125</td>\n",
              "                        <td id=\"T_698be840_2bf5_11ec_9e0f_0242ac1c0002row19_col3\" class=\"data row19 col3\" >0.150973</td>\n",
              "                        <td id=\"T_698be840_2bf5_11ec_9e0f_0242ac1c0002row19_col4\" class=\"data row19 col4\" >0.032971</td>\n",
              "                        <td id=\"T_698be840_2bf5_11ec_9e0f_0242ac1c0002row19_col5\" class=\"data row19 col5\" >0.195676</td>\n",
              "                        <td id=\"T_698be840_2bf5_11ec_9e0f_0242ac1c0002row19_col6\" class=\"data row19 col6\" >-0.041594</td>\n",
              "                        <td id=\"T_698be840_2bf5_11ec_9e0f_0242ac1c0002row19_col7\" class=\"data row19 col7\" >0.141069</td>\n",
              "                        <td id=\"T_698be840_2bf5_11ec_9e0f_0242ac1c0002row19_col8\" class=\"data row19 col8\" >0.186321</td>\n",
              "                        <td id=\"T_698be840_2bf5_11ec_9e0f_0242ac1c0002row19_col9\" class=\"data row19 col9\" >0.146937</td>\n",
              "                        <td id=\"T_698be840_2bf5_11ec_9e0f_0242ac1c0002row19_col10\" class=\"data row19 col10\" >0.146809</td>\n",
              "                        <td id=\"T_698be840_2bf5_11ec_9e0f_0242ac1c0002row19_col11\" class=\"data row19 col11\" >0.017465</td>\n",
              "                        <td id=\"T_698be840_2bf5_11ec_9e0f_0242ac1c0002row19_col12\" class=\"data row19 col12\" >0.154582</td>\n",
              "                        <td id=\"T_698be840_2bf5_11ec_9e0f_0242ac1c0002row19_col13\" class=\"data row19 col13\" >-0.005933</td>\n",
              "                        <td id=\"T_698be840_2bf5_11ec_9e0f_0242ac1c0002row19_col14\" class=\"data row19 col14\" >0.034029</td>\n",
              "                        <td id=\"T_698be840_2bf5_11ec_9e0f_0242ac1c0002row19_col15\" class=\"data row19 col15\" >0.115650</td>\n",
              "                        <td id=\"T_698be840_2bf5_11ec_9e0f_0242ac1c0002row19_col16\" class=\"data row19 col16\" >0.025994</td>\n",
              "                        <td id=\"T_698be840_2bf5_11ec_9e0f_0242ac1c0002row19_col17\" class=\"data row19 col17\" >0.029753</td>\n",
              "                        <td id=\"T_698be840_2bf5_11ec_9e0f_0242ac1c0002row19_col18\" class=\"data row19 col18\" >0.129963</td>\n",
              "                        <td id=\"T_698be840_2bf5_11ec_9e0f_0242ac1c0002row19_col19\" class=\"data row19 col19\" >1.000000</td>\n",
              "            </tr>\n",
              "    </tbody></table>"
            ],
            "text/plain": [
              "<pandas.io.formats.style.Styler at 0x7f9c25be9490>"
            ]
          },
          "metadata": {},
          "execution_count": 26
        }
      ]
    },
    {
      "cell_type": "markdown",
      "metadata": {
        "id": "UbFGkGDNw9Ok"
      },
      "source": [
        "## Таблица значимости признаков, влияющих на одобрение/отказ кредита"
      ]
    },
    {
      "cell_type": "markdown",
      "metadata": {
        "id": "5RKFMcHVqbkv"
      },
      "source": [
        "### Кодирование признаков"
      ]
    },
    {
      "cell_type": "markdown",
      "metadata": {
        "id": "PfP4OySLje-N"
      },
      "source": [
        "У нас два категориальных признака: регион и тип профессии. Перекодируеум их в бинарные матрицы:"
      ]
    },
    {
      "cell_type": "code",
      "metadata": {
        "id": "3BH23wrQuMP5"
      },
      "source": [
        "def ohe(data, column):\n",
        "    ohe = OneHotEncoder(sparse=False)\n",
        "    new_ohe_features = ohe.fit_transform(data[column].values.reshape(-1,1))\n",
        "    tmp = pd.DataFrame(new_ohe_features, columns=[column + '___' + str(i+1) for i in range(new_ohe_features.shape[1])])\n",
        "    data = pd.concat([data,tmp], axis=1)\n",
        "    del data[column]\n",
        "    return data"
      ],
      "execution_count": 27,
      "outputs": []
    },
    {
      "cell_type": "markdown",
      "metadata": {
        "id": "92g6bzCcUW4k"
      },
      "source": [
        "Также перекодируем следующие признаки: \n",
        "'delay_more_sum_all' \n",
        "'mfo_inqs_count_month'\n",
        "'bank_inqs_count_quarter'\n",
        "'mfo_last_days_all'\n",
        "'all_creds_count_all'\n",
        "'cred_day_overdue_all_sum_all'\n",
        "'mfo_closed_count_ly'\n",
        "'count_overdue_all_3lm'\n",
        "'all_creds_count_lm'"
      ]
    },
    {
      "cell_type": "code",
      "metadata": {
        "id": "44n-O-Dauphf"
      },
      "source": [
        "data = ohe(data, 'work_code')\n",
        "data = ohe(data, 'region')\n",
        "data = ohe(data, 'delay_more_sum_all')\n",
        "data = ohe(data, 'mfo_inqs_count_month')\n",
        "data = ohe(data, 'bank_inqs_count_quarter')\n",
        "data = ohe(data, 'mfo_last_days_all')\n",
        "data = ohe(data, 'all_creds_count_all')\n",
        "data = ohe(data, 'cred_day_overdue_all_sum_all')\n",
        "data = ohe(data, 'mfo_closed_count_ly')\n",
        "data = ohe(data, 'count_overdue_all_3lm')\n",
        "data = ohe(data, 'all_creds_count_lm')"
      ],
      "execution_count": 28,
      "outputs": []
    },
    {
      "cell_type": "code",
      "metadata": {
        "colab": {
          "base_uri": "https://localhost:8080/",
          "height": 253
        },
        "id": "fvCtIw_MupkH",
        "outputId": "4c9dad77-e0f7-4f37-d2cd-ecd72c900821"
      },
      "source": [
        "data.head()"
      ],
      "execution_count": 29,
      "outputs": [
        {
          "output_type": "execute_result",
          "data": {
            "text/html": [
              "<div>\n",
              "<style scoped>\n",
              "    .dataframe tbody tr th:only-of-type {\n",
              "        vertical-align: middle;\n",
              "    }\n",
              "\n",
              "    .dataframe tbody tr th {\n",
              "        vertical-align: top;\n",
              "    }\n",
              "\n",
              "    .dataframe thead th {\n",
              "        text-align: right;\n",
              "    }\n",
              "</style>\n",
              "<table border=\"1\" class=\"dataframe\">\n",
              "  <thead>\n",
              "    <tr style=\"text-align: right;\">\n",
              "      <th></th>\n",
              "      <th>order_id</th>\n",
              "      <th>cred_sum_cc_all</th>\n",
              "      <th>all_closed_creds_sum_all</th>\n",
              "      <th>cred_max_overdue_max_ly</th>\n",
              "      <th>all_active_creds_sum_all</th>\n",
              "      <th>cred_sum_cc_ly</th>\n",
              "      <th>cred_sum_debt_all_all</th>\n",
              "      <th>all_closed_creds_sum_ly</th>\n",
              "      <th>mfo_cred_mean_sum_3lm</th>\n",
              "      <th>cred_max_overdue_max_3lm</th>\n",
              "      <th>cred_sum_overdue_cc_all</th>\n",
              "      <th>month_income</th>\n",
              "      <th>bad</th>\n",
              "      <th>approved</th>\n",
              "      <th>work_code___1</th>\n",
              "      <th>work_code___2</th>\n",
              "      <th>work_code___3</th>\n",
              "      <th>work_code___4</th>\n",
              "      <th>work_code___5</th>\n",
              "      <th>region___1</th>\n",
              "      <th>region___2</th>\n",
              "      <th>region___3</th>\n",
              "      <th>region___4</th>\n",
              "      <th>region___5</th>\n",
              "      <th>region___6</th>\n",
              "      <th>region___7</th>\n",
              "      <th>region___8</th>\n",
              "      <th>region___9</th>\n",
              "      <th>region___10</th>\n",
              "      <th>region___11</th>\n",
              "      <th>region___12</th>\n",
              "      <th>region___13</th>\n",
              "      <th>region___14</th>\n",
              "      <th>region___15</th>\n",
              "      <th>region___16</th>\n",
              "      <th>region___17</th>\n",
              "      <th>region___18</th>\n",
              "      <th>region___19</th>\n",
              "      <th>region___20</th>\n",
              "      <th>region___21</th>\n",
              "      <th>...</th>\n",
              "      <th>count_overdue_all_3lm___4</th>\n",
              "      <th>count_overdue_all_3lm___5</th>\n",
              "      <th>count_overdue_all_3lm___6</th>\n",
              "      <th>count_overdue_all_3lm___7</th>\n",
              "      <th>count_overdue_all_3lm___8</th>\n",
              "      <th>count_overdue_all_3lm___9</th>\n",
              "      <th>count_overdue_all_3lm___10</th>\n",
              "      <th>count_overdue_all_3lm___11</th>\n",
              "      <th>all_creds_count_lm___1</th>\n",
              "      <th>all_creds_count_lm___2</th>\n",
              "      <th>all_creds_count_lm___3</th>\n",
              "      <th>all_creds_count_lm___4</th>\n",
              "      <th>all_creds_count_lm___5</th>\n",
              "      <th>all_creds_count_lm___6</th>\n",
              "      <th>all_creds_count_lm___7</th>\n",
              "      <th>all_creds_count_lm___8</th>\n",
              "      <th>all_creds_count_lm___9</th>\n",
              "      <th>all_creds_count_lm___10</th>\n",
              "      <th>all_creds_count_lm___11</th>\n",
              "      <th>all_creds_count_lm___12</th>\n",
              "      <th>all_creds_count_lm___13</th>\n",
              "      <th>all_creds_count_lm___14</th>\n",
              "      <th>all_creds_count_lm___15</th>\n",
              "      <th>all_creds_count_lm___16</th>\n",
              "      <th>all_creds_count_lm___17</th>\n",
              "      <th>all_creds_count_lm___18</th>\n",
              "      <th>all_creds_count_lm___19</th>\n",
              "      <th>all_creds_count_lm___20</th>\n",
              "      <th>all_creds_count_lm___21</th>\n",
              "      <th>all_creds_count_lm___22</th>\n",
              "      <th>all_creds_count_lm___23</th>\n",
              "      <th>all_creds_count_lm___24</th>\n",
              "      <th>all_creds_count_lm___25</th>\n",
              "      <th>all_creds_count_lm___26</th>\n",
              "      <th>all_creds_count_lm___27</th>\n",
              "      <th>all_creds_count_lm___28</th>\n",
              "      <th>all_creds_count_lm___29</th>\n",
              "      <th>all_creds_count_lm___30</th>\n",
              "      <th>all_creds_count_lm___31</th>\n",
              "      <th>all_creds_count_lm___32</th>\n",
              "    </tr>\n",
              "  </thead>\n",
              "  <tbody>\n",
              "    <tr>\n",
              "      <th>0</th>\n",
              "      <td>5498546</td>\n",
              "      <td>0.0</td>\n",
              "      <td>40364</td>\n",
              "      <td>0.0</td>\n",
              "      <td>3000</td>\n",
              "      <td>0.0</td>\n",
              "      <td>0.0</td>\n",
              "      <td>0</td>\n",
              "      <td>0.0</td>\n",
              "      <td>0.0</td>\n",
              "      <td>0.00</td>\n",
              "      <td>50000</td>\n",
              "      <td>NaN</td>\n",
              "      <td>0</td>\n",
              "      <td>0.0</td>\n",
              "      <td>0.0</td>\n",
              "      <td>1.0</td>\n",
              "      <td>0.0</td>\n",
              "      <td>0.0</td>\n",
              "      <td>0.0</td>\n",
              "      <td>0.0</td>\n",
              "      <td>0.0</td>\n",
              "      <td>0.0</td>\n",
              "      <td>0.0</td>\n",
              "      <td>0.0</td>\n",
              "      <td>0.0</td>\n",
              "      <td>0.0</td>\n",
              "      <td>0.0</td>\n",
              "      <td>0.0</td>\n",
              "      <td>0.0</td>\n",
              "      <td>0.0</td>\n",
              "      <td>0.0</td>\n",
              "      <td>0.0</td>\n",
              "      <td>0.0</td>\n",
              "      <td>0.0</td>\n",
              "      <td>0.0</td>\n",
              "      <td>0.0</td>\n",
              "      <td>0.0</td>\n",
              "      <td>0.0</td>\n",
              "      <td>0.0</td>\n",
              "      <td>...</td>\n",
              "      <td>0.0</td>\n",
              "      <td>0.0</td>\n",
              "      <td>0.0</td>\n",
              "      <td>0.0</td>\n",
              "      <td>0.0</td>\n",
              "      <td>0.0</td>\n",
              "      <td>0.0</td>\n",
              "      <td>0.0</td>\n",
              "      <td>1.0</td>\n",
              "      <td>0.0</td>\n",
              "      <td>0.0</td>\n",
              "      <td>0.0</td>\n",
              "      <td>0.0</td>\n",
              "      <td>0.0</td>\n",
              "      <td>0.0</td>\n",
              "      <td>0.0</td>\n",
              "      <td>0.0</td>\n",
              "      <td>0.0</td>\n",
              "      <td>0.0</td>\n",
              "      <td>0.0</td>\n",
              "      <td>0.0</td>\n",
              "      <td>0.0</td>\n",
              "      <td>0.0</td>\n",
              "      <td>0.0</td>\n",
              "      <td>0.0</td>\n",
              "      <td>0.0</td>\n",
              "      <td>0.0</td>\n",
              "      <td>0.0</td>\n",
              "      <td>0.0</td>\n",
              "      <td>0.0</td>\n",
              "      <td>0.0</td>\n",
              "      <td>0.0</td>\n",
              "      <td>0.0</td>\n",
              "      <td>0.0</td>\n",
              "      <td>0.0</td>\n",
              "      <td>0.0</td>\n",
              "      <td>0.0</td>\n",
              "      <td>0.0</td>\n",
              "      <td>0.0</td>\n",
              "      <td>0.0</td>\n",
              "    </tr>\n",
              "    <tr>\n",
              "      <th>1</th>\n",
              "      <td>5498604</td>\n",
              "      <td>1500.0</td>\n",
              "      <td>23456</td>\n",
              "      <td>0.0</td>\n",
              "      <td>0</td>\n",
              "      <td>0.0</td>\n",
              "      <td>0.0</td>\n",
              "      <td>0</td>\n",
              "      <td>0.0</td>\n",
              "      <td>0.0</td>\n",
              "      <td>0.00</td>\n",
              "      <td>35000</td>\n",
              "      <td>NaN</td>\n",
              "      <td>0</td>\n",
              "      <td>0.0</td>\n",
              "      <td>0.0</td>\n",
              "      <td>1.0</td>\n",
              "      <td>0.0</td>\n",
              "      <td>0.0</td>\n",
              "      <td>0.0</td>\n",
              "      <td>0.0</td>\n",
              "      <td>0.0</td>\n",
              "      <td>0.0</td>\n",
              "      <td>0.0</td>\n",
              "      <td>0.0</td>\n",
              "      <td>0.0</td>\n",
              "      <td>0.0</td>\n",
              "      <td>0.0</td>\n",
              "      <td>0.0</td>\n",
              "      <td>0.0</td>\n",
              "      <td>0.0</td>\n",
              "      <td>0.0</td>\n",
              "      <td>1.0</td>\n",
              "      <td>0.0</td>\n",
              "      <td>0.0</td>\n",
              "      <td>0.0</td>\n",
              "      <td>0.0</td>\n",
              "      <td>0.0</td>\n",
              "      <td>0.0</td>\n",
              "      <td>0.0</td>\n",
              "      <td>...</td>\n",
              "      <td>0.0</td>\n",
              "      <td>0.0</td>\n",
              "      <td>0.0</td>\n",
              "      <td>0.0</td>\n",
              "      <td>0.0</td>\n",
              "      <td>0.0</td>\n",
              "      <td>0.0</td>\n",
              "      <td>0.0</td>\n",
              "      <td>1.0</td>\n",
              "      <td>0.0</td>\n",
              "      <td>0.0</td>\n",
              "      <td>0.0</td>\n",
              "      <td>0.0</td>\n",
              "      <td>0.0</td>\n",
              "      <td>0.0</td>\n",
              "      <td>0.0</td>\n",
              "      <td>0.0</td>\n",
              "      <td>0.0</td>\n",
              "      <td>0.0</td>\n",
              "      <td>0.0</td>\n",
              "      <td>0.0</td>\n",
              "      <td>0.0</td>\n",
              "      <td>0.0</td>\n",
              "      <td>0.0</td>\n",
              "      <td>0.0</td>\n",
              "      <td>0.0</td>\n",
              "      <td>0.0</td>\n",
              "      <td>0.0</td>\n",
              "      <td>0.0</td>\n",
              "      <td>0.0</td>\n",
              "      <td>0.0</td>\n",
              "      <td>0.0</td>\n",
              "      <td>0.0</td>\n",
              "      <td>0.0</td>\n",
              "      <td>0.0</td>\n",
              "      <td>0.0</td>\n",
              "      <td>0.0</td>\n",
              "      <td>0.0</td>\n",
              "      <td>0.0</td>\n",
              "      <td>0.0</td>\n",
              "    </tr>\n",
              "    <tr>\n",
              "      <th>2</th>\n",
              "      <td>5498609</td>\n",
              "      <td>0.1</td>\n",
              "      <td>17999</td>\n",
              "      <td>0.0</td>\n",
              "      <td>9999</td>\n",
              "      <td>0.1</td>\n",
              "      <td>9999.0</td>\n",
              "      <td>0</td>\n",
              "      <td>0.0</td>\n",
              "      <td>0.0</td>\n",
              "      <td>0.00</td>\n",
              "      <td>35000</td>\n",
              "      <td>NaN</td>\n",
              "      <td>0</td>\n",
              "      <td>0.0</td>\n",
              "      <td>0.0</td>\n",
              "      <td>1.0</td>\n",
              "      <td>0.0</td>\n",
              "      <td>0.0</td>\n",
              "      <td>0.0</td>\n",
              "      <td>0.0</td>\n",
              "      <td>0.0</td>\n",
              "      <td>0.0</td>\n",
              "      <td>0.0</td>\n",
              "      <td>0.0</td>\n",
              "      <td>0.0</td>\n",
              "      <td>0.0</td>\n",
              "      <td>0.0</td>\n",
              "      <td>0.0</td>\n",
              "      <td>0.0</td>\n",
              "      <td>0.0</td>\n",
              "      <td>0.0</td>\n",
              "      <td>0.0</td>\n",
              "      <td>0.0</td>\n",
              "      <td>0.0</td>\n",
              "      <td>0.0</td>\n",
              "      <td>0.0</td>\n",
              "      <td>0.0</td>\n",
              "      <td>0.0</td>\n",
              "      <td>0.0</td>\n",
              "      <td>...</td>\n",
              "      <td>0.0</td>\n",
              "      <td>0.0</td>\n",
              "      <td>0.0</td>\n",
              "      <td>0.0</td>\n",
              "      <td>0.0</td>\n",
              "      <td>0.0</td>\n",
              "      <td>0.0</td>\n",
              "      <td>0.0</td>\n",
              "      <td>0.0</td>\n",
              "      <td>0.0</td>\n",
              "      <td>1.0</td>\n",
              "      <td>0.0</td>\n",
              "      <td>0.0</td>\n",
              "      <td>0.0</td>\n",
              "      <td>0.0</td>\n",
              "      <td>0.0</td>\n",
              "      <td>0.0</td>\n",
              "      <td>0.0</td>\n",
              "      <td>0.0</td>\n",
              "      <td>0.0</td>\n",
              "      <td>0.0</td>\n",
              "      <td>0.0</td>\n",
              "      <td>0.0</td>\n",
              "      <td>0.0</td>\n",
              "      <td>0.0</td>\n",
              "      <td>0.0</td>\n",
              "      <td>0.0</td>\n",
              "      <td>0.0</td>\n",
              "      <td>0.0</td>\n",
              "      <td>0.0</td>\n",
              "      <td>0.0</td>\n",
              "      <td>0.0</td>\n",
              "      <td>0.0</td>\n",
              "      <td>0.0</td>\n",
              "      <td>0.0</td>\n",
              "      <td>0.0</td>\n",
              "      <td>0.0</td>\n",
              "      <td>0.0</td>\n",
              "      <td>0.0</td>\n",
              "      <td>0.0</td>\n",
              "    </tr>\n",
              "    <tr>\n",
              "      <th>3</th>\n",
              "      <td>5498645</td>\n",
              "      <td>5000.0</td>\n",
              "      <td>313247</td>\n",
              "      <td>0.0</td>\n",
              "      <td>0</td>\n",
              "      <td>0.0</td>\n",
              "      <td>0.0</td>\n",
              "      <td>0</td>\n",
              "      <td>0.0</td>\n",
              "      <td>0.0</td>\n",
              "      <td>4923.97</td>\n",
              "      <td>35000</td>\n",
              "      <td>NaN</td>\n",
              "      <td>0</td>\n",
              "      <td>0.0</td>\n",
              "      <td>0.0</td>\n",
              "      <td>0.0</td>\n",
              "      <td>0.0</td>\n",
              "      <td>1.0</td>\n",
              "      <td>0.0</td>\n",
              "      <td>0.0</td>\n",
              "      <td>0.0</td>\n",
              "      <td>1.0</td>\n",
              "      <td>0.0</td>\n",
              "      <td>0.0</td>\n",
              "      <td>0.0</td>\n",
              "      <td>0.0</td>\n",
              "      <td>0.0</td>\n",
              "      <td>0.0</td>\n",
              "      <td>0.0</td>\n",
              "      <td>0.0</td>\n",
              "      <td>0.0</td>\n",
              "      <td>0.0</td>\n",
              "      <td>0.0</td>\n",
              "      <td>0.0</td>\n",
              "      <td>0.0</td>\n",
              "      <td>0.0</td>\n",
              "      <td>0.0</td>\n",
              "      <td>0.0</td>\n",
              "      <td>0.0</td>\n",
              "      <td>...</td>\n",
              "      <td>0.0</td>\n",
              "      <td>0.0</td>\n",
              "      <td>0.0</td>\n",
              "      <td>0.0</td>\n",
              "      <td>0.0</td>\n",
              "      <td>0.0</td>\n",
              "      <td>0.0</td>\n",
              "      <td>0.0</td>\n",
              "      <td>1.0</td>\n",
              "      <td>0.0</td>\n",
              "      <td>0.0</td>\n",
              "      <td>0.0</td>\n",
              "      <td>0.0</td>\n",
              "      <td>0.0</td>\n",
              "      <td>0.0</td>\n",
              "      <td>0.0</td>\n",
              "      <td>0.0</td>\n",
              "      <td>0.0</td>\n",
              "      <td>0.0</td>\n",
              "      <td>0.0</td>\n",
              "      <td>0.0</td>\n",
              "      <td>0.0</td>\n",
              "      <td>0.0</td>\n",
              "      <td>0.0</td>\n",
              "      <td>0.0</td>\n",
              "      <td>0.0</td>\n",
              "      <td>0.0</td>\n",
              "      <td>0.0</td>\n",
              "      <td>0.0</td>\n",
              "      <td>0.0</td>\n",
              "      <td>0.0</td>\n",
              "      <td>0.0</td>\n",
              "      <td>0.0</td>\n",
              "      <td>0.0</td>\n",
              "      <td>0.0</td>\n",
              "      <td>0.0</td>\n",
              "      <td>0.0</td>\n",
              "      <td>0.0</td>\n",
              "      <td>0.0</td>\n",
              "      <td>0.0</td>\n",
              "    </tr>\n",
              "    <tr>\n",
              "      <th>4</th>\n",
              "      <td>5498647</td>\n",
              "      <td>0.0</td>\n",
              "      <td>0</td>\n",
              "      <td>0.0</td>\n",
              "      <td>0</td>\n",
              "      <td>0.0</td>\n",
              "      <td>0.0</td>\n",
              "      <td>0</td>\n",
              "      <td>0.0</td>\n",
              "      <td>0.0</td>\n",
              "      <td>0.00</td>\n",
              "      <td>35000</td>\n",
              "      <td>NaN</td>\n",
              "      <td>0</td>\n",
              "      <td>0.0</td>\n",
              "      <td>0.0</td>\n",
              "      <td>0.0</td>\n",
              "      <td>0.0</td>\n",
              "      <td>1.0</td>\n",
              "      <td>0.0</td>\n",
              "      <td>0.0</td>\n",
              "      <td>0.0</td>\n",
              "      <td>0.0</td>\n",
              "      <td>0.0</td>\n",
              "      <td>0.0</td>\n",
              "      <td>0.0</td>\n",
              "      <td>0.0</td>\n",
              "      <td>0.0</td>\n",
              "      <td>0.0</td>\n",
              "      <td>0.0</td>\n",
              "      <td>0.0</td>\n",
              "      <td>0.0</td>\n",
              "      <td>0.0</td>\n",
              "      <td>0.0</td>\n",
              "      <td>0.0</td>\n",
              "      <td>0.0</td>\n",
              "      <td>0.0</td>\n",
              "      <td>0.0</td>\n",
              "      <td>0.0</td>\n",
              "      <td>0.0</td>\n",
              "      <td>...</td>\n",
              "      <td>0.0</td>\n",
              "      <td>0.0</td>\n",
              "      <td>0.0</td>\n",
              "      <td>0.0</td>\n",
              "      <td>0.0</td>\n",
              "      <td>0.0</td>\n",
              "      <td>0.0</td>\n",
              "      <td>0.0</td>\n",
              "      <td>1.0</td>\n",
              "      <td>0.0</td>\n",
              "      <td>0.0</td>\n",
              "      <td>0.0</td>\n",
              "      <td>0.0</td>\n",
              "      <td>0.0</td>\n",
              "      <td>0.0</td>\n",
              "      <td>0.0</td>\n",
              "      <td>0.0</td>\n",
              "      <td>0.0</td>\n",
              "      <td>0.0</td>\n",
              "      <td>0.0</td>\n",
              "      <td>0.0</td>\n",
              "      <td>0.0</td>\n",
              "      <td>0.0</td>\n",
              "      <td>0.0</td>\n",
              "      <td>0.0</td>\n",
              "      <td>0.0</td>\n",
              "      <td>0.0</td>\n",
              "      <td>0.0</td>\n",
              "      <td>0.0</td>\n",
              "      <td>0.0</td>\n",
              "      <td>0.0</td>\n",
              "      <td>0.0</td>\n",
              "      <td>0.0</td>\n",
              "      <td>0.0</td>\n",
              "      <td>0.0</td>\n",
              "      <td>0.0</td>\n",
              "      <td>0.0</td>\n",
              "      <td>0.0</td>\n",
              "      <td>0.0</td>\n",
              "      <td>0.0</td>\n",
              "    </tr>\n",
              "  </tbody>\n",
              "</table>\n",
              "<p>5 rows × 4609 columns</p>\n",
              "</div>"
            ],
            "text/plain": [
              "   order_id  cred_sum_cc_all  ...  all_creds_count_lm___31  all_creds_count_lm___32\n",
              "0   5498546              0.0  ...                      0.0                      0.0\n",
              "1   5498604           1500.0  ...                      0.0                      0.0\n",
              "2   5498609              0.1  ...                      0.0                      0.0\n",
              "3   5498645           5000.0  ...                      0.0                      0.0\n",
              "4   5498647              0.0  ...                      0.0                      0.0\n",
              "\n",
              "[5 rows x 4609 columns]"
            ]
          },
          "metadata": {},
          "execution_count": 29
        }
      ]
    },
    {
      "cell_type": "code",
      "metadata": {
        "id": "T58mmOOLlzTQ"
      },
      "source": [
        "features = data.drop(['bad','approved','order_id'], axis=1)\n",
        "target = data['approved']"
      ],
      "execution_count": 30,
      "outputs": []
    },
    {
      "cell_type": "code",
      "metadata": {
        "colab": {
          "base_uri": "https://localhost:8080/"
        },
        "id": "4yEiMwQYlMXG",
        "outputId": "6b64d2e4-bca4-423c-ec31-01bbb2cafdd2"
      },
      "source": [
        "model_cat = CatBoostClassifier(verbose=0)\n",
        "model_cat.fit(features, target)"
      ],
      "execution_count": 31,
      "outputs": [
        {
          "output_type": "execute_result",
          "data": {
            "text/plain": [
              "<catboost.core.CatBoostClassifier at 0x7f9c2463b310>"
            ]
          },
          "metadata": {},
          "execution_count": 31
        }
      ]
    },
    {
      "cell_type": "code",
      "metadata": {
        "colab": {
          "base_uri": "https://localhost:8080/"
        },
        "id": "F7ltFSuAb__w",
        "outputId": "0d8fc609-56f5-4c52-8a1a-2c776160e15d"
      },
      "source": [
        "feature_names = np.array(features.columns)\n",
        "feature_importance = np.array(model_cat.get_feature_importance())\n",
        "spisok={'feature_names':feature_names,'feature_importance':feature_importance}\n",
        "spisok = pd.DataFrame(spisok)\n",
        "spisok = spisok.sort_values(by = 'feature_importance', ascending = False)\n",
        "print(spisok.query('feature_importance > 1'))"
      ],
      "execution_count": 32,
      "outputs": [
        {
          "output_type": "stream",
          "name": "stdout",
          "text": [
            "                         feature_names  feature_importance\n",
            "2131  cred_day_overdue_all_sum_all___1           23.431292\n",
            "5                cred_sum_debt_all_all           11.291227\n",
            "1             all_closed_creds_sum_all           10.313043\n",
            "6              all_closed_creds_sum_ly            8.736072\n",
            "106             delay_more_sum_all___1            7.611386\n",
            "9              cred_sum_overdue_cc_all            4.393672\n",
            "0                      cred_sum_cc_all            4.380155\n",
            "1951           all_creds_count_all___2            3.370813\n",
            "4                       cred_sum_cc_ly            3.308987\n",
            "3             all_active_creds_sum_all            3.119651\n",
            "7                mfo_cred_mean_sum_3lm            2.382066\n",
            "257        bank_inqs_count_quarter___1            1.964562\n",
            "2              cred_max_overdue_max_ly            1.932186\n",
            "4449           mfo_closed_count_ly___1            1.591666\n",
            "4574            all_creds_count_lm___1            1.421038\n",
            "10                        month_income            1.133884\n"
          ]
        }
      ]
    },
    {
      "cell_type": "code",
      "metadata": {
        "colab": {
          "base_uri": "https://localhost:8080/",
          "height": 530
        },
        "id": "zfTFFPxAYMDM",
        "outputId": "e1c7d850-83b8-420f-a550-29a020fd634c"
      },
      "source": [
        "spisok.query('feature_importance > 1').plot(x = 'feature_names' , y='feature_importance', kind='barh', grid=True, legend=None, figsize=(8, 8)).invert_yaxis()\n",
        "plt.title('Таблица значимости признаков, влияющих на одобрение кредита', fontsize=12)\n",
        "plt.ylabel(\" \")\n",
        "plt.xlabel(\" \")\n",
        "plt.show"
      ],
      "execution_count": 33,
      "outputs": [
        {
          "output_type": "execute_result",
          "data": {
            "text/plain": [
              "<function matplotlib.pyplot.show>"
            ]
          },
          "metadata": {},
          "execution_count": 33
        },
        {
          "output_type": "display_data",
          "data": {
            "image/png": "[encoded data removed]",
            "text/plain": [
              "<Figure size 576x576 with 1 Axes>"
            ]
          },
          "metadata": {
            "needs_background": "light"
          }
        }
      ]
    },
    {
      "cell_type": "markdown",
      "metadata": {
        "id": "Av07nKXK1Fze"
      },
      "source": [
        "## Таблица значимости признаков, влияющих на возвращение/просрочку кредита"
      ]
    },
    {
      "cell_type": "code",
      "metadata": {
        "id": "4ZlcxNFOoWwj"
      },
      "source": [
        "data_bad = data.dropna()"
      ],
      "execution_count": 34,
      "outputs": []
    },
    {
      "cell_type": "code",
      "metadata": {
        "id": "TCngIp7ogICX"
      },
      "source": [
        "features_bad = data_bad.drop(['bad','approved','order_id'], axis=1)\n",
        "target_bad = data_bad['bad']"
      ],
      "execution_count": 35,
      "outputs": []
    },
    {
      "cell_type": "code",
      "metadata": {
        "colab": {
          "base_uri": "https://localhost:8080/"
        },
        "id": "7c4Pv9xCgIEq",
        "outputId": "22b018db-e612-4d11-f1e8-6160c48c53da"
      },
      "source": [
        "model_cat_bad = CatBoostClassifier(verbose=0)\n",
        "model_cat_bad.fit(features_bad, target_bad)"
      ],
      "execution_count": 36,
      "outputs": [
        {
          "output_type": "execute_result",
          "data": {
            "text/plain": [
              "<catboost.core.CatBoostClassifier at 0x7f9c230fc910>"
            ]
          },
          "metadata": {},
          "execution_count": 36
        }
      ]
    },
    {
      "cell_type": "code",
      "metadata": {
        "colab": {
          "base_uri": "https://localhost:8080/"
        },
        "id": "iBbXyZolgIHi",
        "outputId": "53d688db-98e6-4811-9a83-463b8a94f743"
      },
      "source": [
        "feature_names = np.array(features_bad.columns)\n",
        "feature_importance = np.array(model_cat_bad.get_feature_importance())\n",
        "spisok_bad={'feature_names':feature_names,'feature_importance':feature_importance}\n",
        "spisok_bad = pd.DataFrame(spisok_bad)\n",
        "spisok_bad = spisok_bad.sort_values(by = 'feature_importance', ascending = False)\n",
        "print(spisok_bad.query('feature_importance > 1'))"
      ],
      "execution_count": 37,
      "outputs": [
        {
          "output_type": "stream",
          "name": "stdout",
          "text": [
            "                 feature_names  feature_importance\n",
            "6      all_closed_creds_sum_ly            8.001921\n",
            "1     all_closed_creds_sum_all            6.042107\n",
            "7        mfo_cred_mean_sum_3lm            6.041702\n",
            "3     all_active_creds_sum_all            5.206303\n",
            "0              cred_sum_cc_all            4.955952\n",
            "5        cred_sum_debt_all_all            4.871012\n",
            "2      cred_max_overdue_max_ly            3.951505\n",
            "4               cred_sum_cc_ly            3.426591\n",
            "10                month_income            3.361702\n",
            "15               work_code___5            2.472988\n",
            "8     cred_max_overdue_max_3lm            2.265195\n",
            "231   mfo_inqs_count_month___1            1.908963\n",
            "11               work_code___1            1.583475\n",
            "9      cred_sum_overdue_cc_all            1.271541\n",
            "4449   mfo_closed_count_ly___1            1.134656\n",
            "4574    all_creds_count_lm___1            1.101415\n"
          ]
        }
      ]
    },
    {
      "cell_type": "code",
      "metadata": {
        "colab": {
          "base_uri": "https://localhost:8080/",
          "height": 530
        },
        "id": "Yt146_Ifo8e9",
        "outputId": "e42b0588-0a5a-4c4a-d0d1-41daf8bc0305"
      },
      "source": [
        "spisok_bad.query('feature_importance > 1').plot(x = 'feature_names' , y='feature_importance', kind='barh', grid=True, legend=None, figsize=(8, 8)).invert_yaxis()\n",
        "plt.title('Таблица значимости признаков, влияющих на возвращение/просрочку кредита', fontsize=12)\n",
        "plt.ylabel(\" \")\n",
        "plt.xlabel(\" \")\n",
        "plt.show"
      ],
      "execution_count": 38,
      "outputs": [
        {
          "output_type": "execute_result",
          "data": {
            "text/plain": [
              "<function matplotlib.pyplot.show>"
            ]
          },
          "metadata": {},
          "execution_count": 38
        },
        {
          "output_type": "display_data",
          "data": {
            "image/png": "[encoded data removed]",
            "text/plain": [
              "<Figure size 576x576 with 1 Axes>"
            ]
          },
          "metadata": {
            "needs_background": "light"
          }
        }
      ]
    }
  ]
}